{
 "cells": [
  {
   "cell_type": "code",
   "execution_count": 2,
   "metadata": {},
   "outputs": [],
   "source": [
    "import os\n",
    "from PIL import Image\n",
    "import numpy as np"
   ]
  },
  {
   "cell_type": "code",
   "execution_count": 14,
   "metadata": {},
   "outputs": [],
   "source": [
    "def convert_img(img_path, output_dir, show=True, start_rgb=(0,0,0), end_rgb=[(0,0,0)]):\n",
    "    img = Image.open(img_path)\n",
    "    img = img.convert(\"RGBA\")\n",
    "\n",
    "    for color in end_rgb:\n",
    "        # convert img to numpy\n",
    "        im = np.array(img)\n",
    "        r, g, b, _ = im.T\n",
    "\n",
    "        replace_areas = (r == start_rgb[0]) & (g == start_rgb[1]) & (b == start_rgb[2])\n",
    "        # make it a new color\n",
    "        im[..., :-1][replace_areas.T] = color\n",
    "        new_img = Image.fromarray(im)\n",
    "        if show:\n",
    "            new_img.show()\n",
    "        folder, fn = img_path.split(\"/\")\n",
    "        img_fn, ext = fn.split(\".\")\n",
    "        new_img.save(output_dir + img_fn + f\"_{color[0]}_{color[1]}_{color[2]}.\" + ext)"
   ]
  },
  {
   "cell_type": "code",
   "execution_count": 16,
   "metadata": {},
   "outputs": [],
   "source": [
    "image_folder = \"dashlights-subaru/\"\n",
    "output_folder = \"colored-dashlights-subaru/\"\n",
    "colors = [(255, 0, 0), (255, 128, 0), (0, 0, 255)]\n",
    "\n",
    "\n",
    "for i in os.listdir(image_folder):\n",
    "    if i.startswith(\".\"):\n",
    "        continue\n",
    "    convert_img(image_folder + i, show=False, output_dir=output_folder, end_rgb=colors)"
   ]
  },
  {
   "cell_type": "code",
   "execution_count": null,
   "metadata": {},
   "outputs": [],
   "source": []
  }
 ],
 "metadata": {
  "kernelspec": {
   "display_name": "Python 3",
   "language": "python",
   "name": "python3"
  },
  "language_info": {
   "codemirror_mode": {
    "name": "ipython",
    "version": 3
   },
   "file_extension": ".py",
   "mimetype": "text/x-python",
   "name": "python",
   "nbconvert_exporter": "python",
   "pygments_lexer": "ipython3",
   "version": "3.6.8"
  }
 },
 "nbformat": 4,
 "nbformat_minor": 2
}
