{
 "cells": [
  {
   "cell_type": "code",
   "execution_count": 1,
   "metadata": {},
   "outputs": [
    {
     "name": "stdout",
     "output_type": "stream",
     "text": [
      "\u001b[33mSkipping mxnet as it is not installed.\u001b[0m\n",
      "\u001b[33mYou are using pip version 10.0.1, however version 19.2.1 is available.\n",
      "You should consider upgrading via the 'pip install --upgrade pip' command.\u001b[0m\n",
      "Requirement already satisfied: mxnet-cu90==1.1.0 in /home/ec2-user/anaconda3/envs/mxnet_p36/lib/python3.6/site-packages (1.1.0)\n",
      "Requirement already satisfied: graphviz==0.8.1 in /home/ec2-user/anaconda3/envs/mxnet_p36/lib/python3.6/site-packages (from mxnet-cu90==1.1.0) (0.8.1)\n",
      "Requirement already satisfied: requests==2.18.4 in /home/ec2-user/anaconda3/envs/mxnet_p36/lib/python3.6/site-packages (from mxnet-cu90==1.1.0) (2.18.4)\n",
      "Requirement already satisfied: numpy<=1.13.3 in /home/ec2-user/anaconda3/envs/mxnet_p36/lib/python3.6/site-packages (from mxnet-cu90==1.1.0) (1.13.3)\n",
      "Requirement already satisfied: idna<2.7,>=2.5 in /home/ec2-user/anaconda3/envs/mxnet_p36/lib/python3.6/site-packages (from requests==2.18.4->mxnet-cu90==1.1.0) (2.6)\n",
      "Requirement already satisfied: urllib3<1.23,>=1.21.1 in /home/ec2-user/anaconda3/envs/mxnet_p36/lib/python3.6/site-packages (from requests==2.18.4->mxnet-cu90==1.1.0) (1.22)\n",
      "Requirement already satisfied: certifi>=2017.4.17 in /home/ec2-user/anaconda3/envs/mxnet_p36/lib/python3.6/site-packages (from requests==2.18.4->mxnet-cu90==1.1.0) (2019.6.16)\n",
      "Requirement already satisfied: chardet<3.1.0,>=3.0.2 in /home/ec2-user/anaconda3/envs/mxnet_p36/lib/python3.6/site-packages (from requests==2.18.4->mxnet-cu90==1.1.0) (3.0.4)\n",
      "\u001b[31mturicreate 5.7 requires mxnet<1.2.0,>=1.1.0, which is not installed.\u001b[0m\n",
      "\u001b[31mturicreate 5.7 has requirement numpy==1.16.4, but you'll have numpy 1.13.3 which is incompatible.\u001b[0m\n",
      "\u001b[31msagemaker 1.36.1 has requirement requests<2.21,>=2.20.0, but you'll have requests 2.18.4 which is incompatible.\u001b[0m\n",
      "\u001b[31mmxnet-cu100mkl 1.4.1 has requirement requests>=2.20.0, but you'll have requests 2.18.4 which is incompatible.\u001b[0m\n",
      "\u001b[31mcoremltools 3.0b3 has requirement numpy>=1.14.5, but you'll have numpy 1.13.3 which is incompatible.\u001b[0m\n",
      "\u001b[33mYou are using pip version 10.0.1, however version 19.2.1 is available.\n",
      "You should consider upgrading via the 'pip install --upgrade pip' command.\u001b[0m\n",
      "Requirement already satisfied: turicreate in /home/ec2-user/anaconda3/envs/mxnet_p36/lib/python3.6/site-packages (5.7)\n",
      "Collecting mxnet<1.2.0,>=1.1.0 (from turicreate)\n",
      "  Using cached https://files.pythonhosted.org/packages/96/98/c9877e100c3d1ac92263bfaba7bb8a49294e099046592040a2ff8620ac61/mxnet-1.1.0.post0-py2.py3-none-manylinux1_x86_64.whl\n",
      "Requirement already satisfied: prettytable==0.7.2 in /home/ec2-user/anaconda3/envs/mxnet_p36/lib/python3.6/site-packages (from turicreate) (0.7.2)\n",
      "Requirement already satisfied: resampy==0.2.1 in /home/ec2-user/anaconda3/envs/mxnet_p36/lib/python3.6/site-packages (from turicreate) (0.2.1)\n",
      "Requirement already satisfied: scipy>=1.1.0 in /home/ec2-user/anaconda3/envs/mxnet_p36/lib/python3.6/site-packages (from turicreate) (1.2.1)\n",
      "Requirement already satisfied: pandas>=0.23.2 in /home/ec2-user/anaconda3/envs/mxnet_p36/lib/python3.6/site-packages (from turicreate) (0.24.2)\n",
      "Requirement already satisfied: coremltools==3.0b3 in /home/ec2-user/anaconda3/envs/mxnet_p36/lib/python3.6/site-packages (from turicreate) (3.0b3)\n",
      "Requirement already satisfied: decorator>=4.0.9 in /home/ec2-user/anaconda3/envs/mxnet_p36/lib/python3.6/site-packages (from turicreate) (4.3.0)\n",
      "Collecting numpy==1.16.4 (from turicreate)\n",
      "  Using cached https://files.pythonhosted.org/packages/87/2d/e4656149cbadd3a8a0369fcd1a9c7d61cc7b87b3903b85389c70c989a696/numpy-1.16.4-cp36-cp36m-manylinux1_x86_64.whl\n",
      "Requirement already satisfied: pillow>=5.2.0 in /home/ec2-user/anaconda3/envs/mxnet_p36/lib/python3.6/site-packages (from turicreate) (5.2.0)\n",
      "Requirement already satisfied: six>=1.10.0 in /home/ec2-user/anaconda3/envs/mxnet_p36/lib/python3.6/site-packages (from turicreate) (1.11.0)\n",
      "Requirement already satisfied: requests>=2.9.1 in /home/ec2-user/anaconda3/envs/mxnet_p36/lib/python3.6/site-packages (from turicreate) (2.18.4)\n",
      "Requirement already satisfied: graphviz<0.9.0,>=0.8.1 in /home/ec2-user/anaconda3/envs/mxnet_p36/lib/python3.6/site-packages (from mxnet<1.2.0,>=1.1.0->turicreate) (0.8.1)\n",
      "Requirement already satisfied: numba>=0.32 in /home/ec2-user/anaconda3/envs/mxnet_p36/lib/python3.6/site-packages (from resampy==0.2.1->turicreate) (0.38.0)\n",
      "Requirement already satisfied: python-dateutil>=2.5.0 in /home/ec2-user/anaconda3/envs/mxnet_p36/lib/python3.6/site-packages (from pandas>=0.23.2->turicreate) (2.7.3)\n",
      "Requirement already satisfied: pytz>=2011k in /home/ec2-user/anaconda3/envs/mxnet_p36/lib/python3.6/site-packages (from pandas>=0.23.2->turicreate) (2018.4)\n",
      "Requirement already satisfied: protobuf>=3.1.0 in /home/ec2-user/anaconda3/envs/mxnet_p36/lib/python3.6/site-packages (from coremltools==3.0b3->turicreate) (3.5.2)\n",
      "Requirement already satisfied: certifi>=2017.4.17 in /home/ec2-user/anaconda3/envs/mxnet_p36/lib/python3.6/site-packages (from requests>=2.9.1->turicreate) (2019.6.16)\n",
      "Requirement already satisfied: idna<2.7,>=2.5 in /home/ec2-user/anaconda3/envs/mxnet_p36/lib/python3.6/site-packages (from requests>=2.9.1->turicreate) (2.6)\n",
      "Requirement already satisfied: chardet<3.1.0,>=3.0.2 in /home/ec2-user/anaconda3/envs/mxnet_p36/lib/python3.6/site-packages (from requests>=2.9.1->turicreate) (3.0.4)\n",
      "Requirement already satisfied: urllib3<1.23,>=1.21.1 in /home/ec2-user/anaconda3/envs/mxnet_p36/lib/python3.6/site-packages (from requests>=2.9.1->turicreate) (1.22)\n",
      "Requirement already satisfied: llvmlite>=0.23.0dev0 in /home/ec2-user/anaconda3/envs/mxnet_p36/lib/python3.6/site-packages (from numba>=0.32->resampy==0.2.1->turicreate) (0.23.1)\n",
      "Requirement already satisfied: setuptools in /home/ec2-user/anaconda3/envs/mxnet_p36/lib/python3.6/site-packages (from protobuf>=3.1.0->coremltools==3.0b3->turicreate) (39.1.0)\n",
      "\u001b[31msagemaker 1.36.1 has requirement requests<2.21,>=2.20.0, but you'll have requests 2.18.4 which is incompatible.\u001b[0m\n",
      "\u001b[31mmxnet-cu100mkl 1.4.1 has requirement numpy<1.15.0,>=1.8.2, but you'll have numpy 1.16.4 which is incompatible.\u001b[0m\n",
      "\u001b[31mmxnet-cu100mkl 1.4.1 has requirement requests>=2.20.0, but you'll have requests 2.18.4 which is incompatible.\u001b[0m\n",
      "\u001b[31mmxnet-cu90 1.1.0 has requirement numpy<=1.13.3, but you'll have numpy 1.16.4 which is incompatible.\u001b[0m\n",
      "\u001b[31mmxnet 1.1.0.post0 has requirement numpy<1.15.0,>=1.8.2, but you'll have numpy 1.16.4 which is incompatible.\u001b[0m\n",
      "Installing collected packages: numpy, mxnet\n",
      "  Found existing installation: numpy 1.13.3\n",
      "    Uninstalling numpy-1.13.3:\n",
      "      Successfully uninstalled numpy-1.13.3\n",
      "Successfully installed mxnet-1.1.0.post0 numpy-1.16.4\n",
      "\u001b[33mYou are using pip version 10.0.1, however version 19.2.1 is available.\n",
      "You should consider upgrading via the 'pip install --upgrade pip' command.\u001b[0m\n"
     ]
    }
   ],
   "source": [
    "# Use this cell only in SageMaker or other Linux/Ubuntu environments\n",
    "!pip uninstall -y mxnet && !pip uninstall mxnet-cu100mkl\n",
    "!pip install mxnet-cu90==1.1.0\n",
    "!pip install turicreate"
   ]
  },
  {
   "cell_type": "code",
   "execution_count": 2,
   "metadata": {},
   "outputs": [],
   "source": [
    "# Import libraries\n",
    "import tarfile\n",
    "import urllib\n",
    "import turicreate as tc\n",
    "import os\n",
    "import coremltools\n",
    "tc.config.set_num_gpus(-1)\n",
    "tc.config.set_runtime_config('TURI_DEFAULT_NUM_PYLAMBDA_WORKERS', 32)"
   ]
  },
  {
   "cell_type": "code",
   "execution_count": 3,
   "metadata": {},
   "outputs": [],
   "source": [
    "# Specify the data set\n",
    "starter_images =  tc.load_images('Icons/')"
   ]
  },
  {
   "cell_type": "code",
   "execution_count": 4,
   "metadata": {},
   "outputs": [],
   "source": [
    "# Clean up labels\n",
    "starter_images['label'] = starter_images['path'].element_slice(6,-4)"
   ]
  },
  {
   "cell_type": "code",
   "execution_count": 5,
   "metadata": {},
   "outputs": [
    {
     "data": {
      "text/html": [
       "<div style=\"max-height:1000px;max-width:1500px;overflow:auto;\"><table frame=\"box\" rules=\"cols\">\n",
       "    <tr>\n",
       "        <th style=\"padding-left: 1em; padding-right: 1em; text-align: center\">path</th>\n",
       "        <th style=\"padding-left: 1em; padding-right: 1em; text-align: center\">image</th>\n",
       "        <th style=\"padding-left: 1em; padding-right: 1em; text-align: center\">label</th>\n",
       "    </tr>\n",
       "    <tr>\n",
       "        <td style=\"padding-left: 1em; padding-right: 1em; text-align: center; vertical-align: top\">Icons/ABS-Warning-<br>Inidicator- ...</td>\n",
       "        <td style=\"padding-left: 1em; padding-right: 1em; text-align: center; vertical-align: top\">Height: 59 Width: 115</td>\n",
       "        <td style=\"padding-left: 1em; padding-right: 1em; text-align: center; vertical-align: top\">ABS-Warning-Inidicator-<br>Lights_50px_x_50px ...</td>\n",
       "    </tr>\n",
       "    <tr>\n",
       "        <td style=\"padding-left: 1em; padding-right: 1em; text-align: center; vertical-align: top\">Icons/Brake-Warning-<br>Indicator- ...</td>\n",
       "        <td style=\"padding-left: 1em; padding-right: 1em; text-align: center; vertical-align: top\">Height: 60 Width: 156</td>\n",
       "        <td style=\"padding-left: 1em; padding-right: 1em; text-align: center; vertical-align: top\">Brake-Warning-Indicator-<br>Lights-50x_x_50px ...</td>\n",
       "    </tr>\n",
       "    <tr>\n",
       "        <td style=\"padding-left: 1em; padding-right: 1em; text-align: center; vertical-align: top\">Icons/Charge_warning-<br>light.png ...</td>\n",
       "        <td style=\"padding-left: 1em; padding-right: 1em; text-align: center; vertical-align: top\">Height: 88 Width: 125</td>\n",
       "        <td style=\"padding-left: 1em; padding-right: 1em; text-align: center; vertical-align: top\">Charge_warning-light</td>\n",
       "    </tr>\n",
       "    <tr>\n",
       "        <td style=\"padding-left: 1em; padding-right: 1em; text-align: center; vertical-align: top\">Icons/Check-Engine-<br>Warning-Indicator- ...</td>\n",
       "        <td style=\"padding-left: 1em; padding-right: 1em; text-align: center; vertical-align: top\">Height: 109 Width: 151</td>\n",
       "        <td style=\"padding-left: 1em; padding-right: 1em; text-align: center; vertical-align: top\">Check-Engine-Warning-<br>Indicator- ...</td>\n",
       "    </tr>\n",
       "    <tr>\n",
       "        <td style=\"padding-left: 1em; padding-right: 1em; text-align: center; vertical-align: top\">Icons/DoorOpen_warning-<br>light.png ...</td>\n",
       "        <td style=\"padding-left: 1em; padding-right: 1em; text-align: center; vertical-align: top\">Height: 119 Width: 128</td>\n",
       "        <td style=\"padding-left: 1em; padding-right: 1em; text-align: center; vertical-align: top\">DoorOpen_warning-light</td>\n",
       "    </tr>\n",
       "    <tr>\n",
       "        <td style=\"padding-left: 1em; padding-right: 1em; text-align: center; vertical-align: top\">Icons/HillStartAssist_war<br>ning-light.png ...</td>\n",
       "        <td style=\"padding-left: 1em; padding-right: 1em; text-align: center; vertical-align: top\">Height: 90 Width: 111</td>\n",
       "        <td style=\"padding-left: 1em; padding-right: 1em; text-align: center; vertical-align: top\">HillStartAssist_warning-<br>light ...</td>\n",
       "    </tr>\n",
       "    <tr>\n",
       "        <td style=\"padding-left: 1em; padding-right: 1em; text-align: center; vertical-align: top\">Icons/LowFuel_warning-<br>light.png ...</td>\n",
       "        <td style=\"padding-left: 1em; padding-right: 1em; text-align: center; vertical-align: top\">Height: 90 Width: 86</td>\n",
       "        <td style=\"padding-left: 1em; padding-right: 1em; text-align: center; vertical-align: top\">LowFuel_warning-light</td>\n",
       "    </tr>\n",
       "    <tr>\n",
       "        <td style=\"padding-left: 1em; padding-right: 1em; text-align: center; vertical-align: top\">Icons/Oil-<br>Pressure_warning- ...</td>\n",
       "        <td style=\"padding-left: 1em; padding-right: 1em; text-align: center; vertical-align: top\">Height: 60 Width: 153</td>\n",
       "        <td style=\"padding-left: 1em; padding-right: 1em; text-align: center; vertical-align: top\">Oil-Pressure_warning-<br>light ...</td>\n",
       "    </tr>\n",
       "    <tr>\n",
       "        <td style=\"padding-left: 1em; padding-right: 1em; text-align: center; vertical-align: top\">Icons/Seatbelt_warning-<br>light.png ...</td>\n",
       "        <td style=\"padding-left: 1em; padding-right: 1em; text-align: center; vertical-align: top\">Height: 92 Width: 71</td>\n",
       "        <td style=\"padding-left: 1em; padding-right: 1em; text-align: center; vertical-align: top\">Seatbelt_warning-light</td>\n",
       "    </tr>\n",
       "    <tr>\n",
       "        <td style=\"padding-left: 1em; padding-right: 1em; text-align: center; vertical-align: top\">Icons/Tire-Pressure-<br>Light.png ...</td>\n",
       "        <td style=\"padding-left: 1em; padding-right: 1em; text-align: center; vertical-align: top\">Height: 99 Width: 110</td>\n",
       "        <td style=\"padding-left: 1em; padding-right: 1em; text-align: center; vertical-align: top\">Tire-Pressure-Light</td>\n",
       "    </tr>\n",
       "</table>\n",
       "[12 rows x 3 columns]<br/>Note: Only the head of the SFrame is printed.<br/>You can use print_rows(num_rows=m, num_columns=n) to print more rows and columns.\n",
       "</div>"
      ],
      "text/plain": [
       "Columns:\n",
       "\tpath\tstr\n",
       "\timage\tImage\n",
       "\tlabel\tstr\n",
       "\n",
       "Rows: 12\n",
       "\n",
       "Data:\n",
       "+--------------------------------+------------------------+\n",
       "|              path              |         image          |\n",
       "+--------------------------------+------------------------+\n",
       "| Icons/ABS-Warning-Inidicat...  | Height: 59 Width: 115  |\n",
       "| Icons/Brake-Warning-Indica...  | Height: 60 Width: 156  |\n",
       "| Icons/Charge_warning-light.png | Height: 88 Width: 125  |\n",
       "| Icons/Check-Engine-Warning...  | Height: 109 Width: 151 |\n",
       "| Icons/DoorOpen_warning-lig...  | Height: 119 Width: 128 |\n",
       "| Icons/HillStartAssist_warn...  | Height: 90 Width: 111  |\n",
       "| Icons/LowFuel_warning-ligh...  |  Height: 90 Width: 86  |\n",
       "| Icons/Oil-Pressure_warning...  | Height: 60 Width: 153  |\n",
       "| Icons/Seatbelt_warning-lig...  |  Height: 92 Width: 71  |\n",
       "| Icons/Tire-Pressure-Light.png  | Height: 99 Width: 110  |\n",
       "+--------------------------------+------------------------+\n",
       "+-------------------------------+\n",
       "|             label             |\n",
       "+-------------------------------+\n",
       "| ABS-Warning-Inidicator-Lig... |\n",
       "| Brake-Warning-Indicator-Li... |\n",
       "|      Charge_warning-light     |\n",
       "| Check-Engine-Warning-Indic... |\n",
       "|     DoorOpen_warning-light    |\n",
       "| HillStartAssist_warning-light |\n",
       "|     LowFuel_warning-light     |\n",
       "|   Oil-Pressure_warning-light  |\n",
       "|     Seatbelt_warning-light    |\n",
       "|      Tire-Pressure-Light      |\n",
       "+-------------------------------+\n",
       "[12 rows x 3 columns]\n",
       "Note: Only the head of the SFrame is printed.\n",
       "You can use print_rows(num_rows=m, num_columns=n) to print more rows and columns."
      ]
     },
     "execution_count": 5,
     "metadata": {},
     "output_type": "execute_result"
    }
   ],
   "source": [
    "# Preview starter images sframe\n",
    "starter_images"
   ]
  },
  {
   "cell_type": "code",
   "execution_count": null,
   "metadata": {},
   "outputs": [],
   "source": [
    "# Load background images\n",
    "# my_backgrounds = tc.SArray('my_custom_backgrounds.sarray')\n",
    "# my_backgrounds_sframe = tc.load_images('dashlights-background-images/')"
   ]
  },
  {
   "cell_type": "code",
   "execution_count": null,
   "metadata": {},
   "outputs": [],
   "source": [
    "# my_backgrounds = my_backgrounds_sframe['image']"
   ]
  },
  {
   "cell_type": "code",
   "execution_count": null,
   "metadata": {},
   "outputs": [
    {
     "data": {
      "text/html": [
       "<pre>Augmenting input images using 951 background images.</pre>"
      ],
      "text/plain": [
       "Augmenting input images using 951 background images."
      ]
     },
     "metadata": {},
     "output_type": "display_data"
    },
    {
     "data": {
      "text/html": [
       "<pre>+------------------+--------------+------------------+</pre>"
      ],
      "text/plain": [
       "+------------------+--------------+------------------+"
      ]
     },
     "metadata": {},
     "output_type": "display_data"
    },
    {
     "data": {
      "text/html": [
       "<pre>| Images Augmented | Elapsed Time | Percent Complete |</pre>"
      ],
      "text/plain": [
       "| Images Augmented | Elapsed Time | Percent Complete |"
      ]
     },
     "metadata": {},
     "output_type": "display_data"
    },
    {
     "data": {
      "text/html": [
       "<pre>+------------------+--------------+------------------+</pre>"
      ],
      "text/plain": [
       "+------------------+--------------+------------------+"
      ]
     },
     "metadata": {},
     "output_type": "display_data"
    },
    {
     "data": {
      "text/html": [
       "<pre>| 100              | 21.28s       | 0.75%            |</pre>"
      ],
      "text/plain": [
       "| 100              | 21.28s       | 0.75%            |"
      ]
     },
     "metadata": {},
     "output_type": "display_data"
    },
    {
     "data": {
      "text/html": [
       "<pre>| 200              | 47.74s       | 1.75%            |</pre>"
      ],
      "text/plain": [
       "| 200              | 47.74s       | 1.75%            |"
      ]
     },
     "metadata": {},
     "output_type": "display_data"
    },
    {
     "data": {
      "text/html": [
       "<pre>| 300              | 1m 1s        | 2.5%             |</pre>"
      ],
      "text/plain": [
       "| 300              | 1m 1s        | 2.5%             |"
      ]
     },
     "metadata": {},
     "output_type": "display_data"
    },
    {
     "data": {
      "text/html": [
       "<pre>| 400              | 1m 18s       | 3.5%             |</pre>"
      ],
      "text/plain": [
       "| 400              | 1m 18s       | 3.5%             |"
      ]
     },
     "metadata": {},
     "output_type": "display_data"
    },
    {
     "data": {
      "text/html": [
       "<pre>| 500              | 1m 38s       | 4.25%            |</pre>"
      ],
      "text/plain": [
       "| 500              | 1m 38s       | 4.25%            |"
      ]
     },
     "metadata": {},
     "output_type": "display_data"
    },
    {
     "data": {
      "text/html": [
       "<pre>| 600              | 1m 52s       | 5.25%            |</pre>"
      ],
      "text/plain": [
       "| 600              | 1m 52s       | 5.25%            |"
      ]
     },
     "metadata": {},
     "output_type": "display_data"
    },
    {
     "data": {
      "text/html": [
       "<pre>| 700              | 2m 4s        | 6%               |</pre>"
      ],
      "text/plain": [
       "| 700              | 2m 4s        | 6%               |"
      ]
     },
     "metadata": {},
     "output_type": "display_data"
    },
    {
     "data": {
      "text/html": [
       "<pre>| 800              | 2m 21s       | 7%               |</pre>"
      ],
      "text/plain": [
       "| 800              | 2m 21s       | 7%               |"
      ]
     },
     "metadata": {},
     "output_type": "display_data"
    },
    {
     "data": {
      "text/html": [
       "<pre>| 900              | 2m 40s       | 7.75%            |</pre>"
      ],
      "text/plain": [
       "| 900              | 2m 40s       | 7.75%            |"
      ]
     },
     "metadata": {},
     "output_type": "display_data"
    },
    {
     "data": {
      "text/html": [
       "<pre>| 1000             | 2m 53s       | 8.75%            |</pre>"
      ],
      "text/plain": [
       "| 1000             | 2m 53s       | 8.75%            |"
      ]
     },
     "metadata": {},
     "output_type": "display_data"
    },
    {
     "data": {
      "text/html": [
       "<pre>| 1100             | 3m 1s        | 9.5%             |</pre>"
      ],
      "text/plain": [
       "| 1100             | 3m 1s        | 9.5%             |"
      ]
     },
     "metadata": {},
     "output_type": "display_data"
    },
    {
     "data": {
      "text/html": [
       "<pre>| 1200             | 3m 17s       | 10.5%            |</pre>"
      ],
      "text/plain": [
       "| 1200             | 3m 17s       | 10.5%            |"
      ]
     },
     "metadata": {},
     "output_type": "display_data"
    },
    {
     "data": {
      "text/html": [
       "<pre>| 1300             | 3m 29s       | 11.25%           |</pre>"
      ],
      "text/plain": [
       "| 1300             | 3m 29s       | 11.25%           |"
      ]
     },
     "metadata": {},
     "output_type": "display_data"
    },
    {
     "data": {
      "text/html": [
       "<pre>| 1400             | 3m 43s       | 12.25%           |</pre>"
      ],
      "text/plain": [
       "| 1400             | 3m 43s       | 12.25%           |"
      ]
     },
     "metadata": {},
     "output_type": "display_data"
    },
    {
     "data": {
      "text/html": [
       "<pre>| 1500             | 3m 56s       | 13%              |</pre>"
      ],
      "text/plain": [
       "| 1500             | 3m 56s       | 13%              |"
      ]
     },
     "metadata": {},
     "output_type": "display_data"
    },
    {
     "data": {
      "text/html": [
       "<pre>| 1600             | 4m 23s       | 14%              |</pre>"
      ],
      "text/plain": [
       "| 1600             | 4m 23s       | 14%              |"
      ]
     },
     "metadata": {},
     "output_type": "display_data"
    },
    {
     "data": {
      "text/html": [
       "<pre>| 1700             | 4m 36s       | 14.75%           |</pre>"
      ],
      "text/plain": [
       "| 1700             | 4m 36s       | 14.75%           |"
      ]
     },
     "metadata": {},
     "output_type": "display_data"
    },
    {
     "data": {
      "text/html": [
       "<pre>| 1800             | 4m 51s       | 15.75%           |</pre>"
      ],
      "text/plain": [
       "| 1800             | 4m 51s       | 15.75%           |"
      ]
     },
     "metadata": {},
     "output_type": "display_data"
    },
    {
     "data": {
      "text/html": [
       "<pre>| 1900             | 4m 59s       | 16.5%            |</pre>"
      ],
      "text/plain": [
       "| 1900             | 4m 59s       | 16.5%            |"
      ]
     },
     "metadata": {},
     "output_type": "display_data"
    },
    {
     "data": {
      "text/html": [
       "<pre>| 2000             | 5m 9s        | 17.5%            |</pre>"
      ],
      "text/plain": [
       "| 2000             | 5m 9s        | 17.5%            |"
      ]
     },
     "metadata": {},
     "output_type": "display_data"
    },
    {
     "data": {
      "text/html": [
       "<pre>| 2100             | 5m 25s       | 18.25%           |</pre>"
      ],
      "text/plain": [
       "| 2100             | 5m 25s       | 18.25%           |"
      ]
     },
     "metadata": {},
     "output_type": "display_data"
    },
    {
     "data": {
      "text/html": [
       "<pre>| 2200             | 5m 32s       | 19.25%           |</pre>"
      ],
      "text/plain": [
       "| 2200             | 5m 32s       | 19.25%           |"
      ]
     },
     "metadata": {},
     "output_type": "display_data"
    },
    {
     "data": {
      "text/html": [
       "<pre>| 2300             | 5m 44s       | 20%              |</pre>"
      ],
      "text/plain": [
       "| 2300             | 5m 44s       | 20%              |"
      ]
     },
     "metadata": {},
     "output_type": "display_data"
    },
    {
     "data": {
      "text/html": [
       "<pre>| 2400             | 5m 58s       | 21%              |</pre>"
      ],
      "text/plain": [
       "| 2400             | 5m 58s       | 21%              |"
      ]
     },
     "metadata": {},
     "output_type": "display_data"
    },
    {
     "data": {
      "text/html": [
       "<pre>| 2500             | 6m 7s        | 21.75%           |</pre>"
      ],
      "text/plain": [
       "| 2500             | 6m 7s        | 21.75%           |"
      ]
     },
     "metadata": {},
     "output_type": "display_data"
    },
    {
     "data": {
      "text/html": [
       "<pre>| 2600             | 6m 28s       | 22.75%           |</pre>"
      ],
      "text/plain": [
       "| 2600             | 6m 28s       | 22.75%           |"
      ]
     },
     "metadata": {},
     "output_type": "display_data"
    },
    {
     "data": {
      "text/html": [
       "<pre>| 2700             | 6m 48s       | 23.5%            |</pre>"
      ],
      "text/plain": [
       "| 2700             | 6m 48s       | 23.5%            |"
      ]
     },
     "metadata": {},
     "output_type": "display_data"
    },
    {
     "data": {
      "text/html": [
       "<pre>| 2800             | 7m 5s        | 24.5%            |</pre>"
      ],
      "text/plain": [
       "| 2800             | 7m 5s        | 24.5%            |"
      ]
     },
     "metadata": {},
     "output_type": "display_data"
    },
    {
     "data": {
      "text/html": [
       "<pre>| 2900             | 7m 18s       | 25.25%           |</pre>"
      ],
      "text/plain": [
       "| 2900             | 7m 18s       | 25.25%           |"
      ]
     },
     "metadata": {},
     "output_type": "display_data"
    },
    {
     "data": {
      "text/html": [
       "<pre>| 3000             | 7m 26s       | 26.25%           |</pre>"
      ],
      "text/plain": [
       "| 3000             | 7m 26s       | 26.25%           |"
      ]
     },
     "metadata": {},
     "output_type": "display_data"
    },
    {
     "data": {
      "text/html": [
       "<pre>| 3100             | 7m 41s       | 27%              |</pre>"
      ],
      "text/plain": [
       "| 3100             | 7m 41s       | 27%              |"
      ]
     },
     "metadata": {},
     "output_type": "display_data"
    },
    {
     "data": {
      "text/html": [
       "<pre>| 3200             | 7m 58s       | 28%              |</pre>"
      ],
      "text/plain": [
       "| 3200             | 7m 58s       | 28%              |"
      ]
     },
     "metadata": {},
     "output_type": "display_data"
    },
    {
     "data": {
      "text/html": [
       "<pre>| 3300             | 8m 28s       | 28.75%           |</pre>"
      ],
      "text/plain": [
       "| 3300             | 8m 28s       | 28.75%           |"
      ]
     },
     "metadata": {},
     "output_type": "display_data"
    },
    {
     "data": {
      "text/html": [
       "<pre>| 3400             | 9m 4s        | 29.75%           |</pre>"
      ],
      "text/plain": [
       "| 3400             | 9m 4s        | 29.75%           |"
      ]
     },
     "metadata": {},
     "output_type": "display_data"
    },
    {
     "data": {
      "text/html": [
       "<pre>| 3500             | 9m 38s       | 30.5%            |</pre>"
      ],
      "text/plain": [
       "| 3500             | 9m 38s       | 30.5%            |"
      ]
     },
     "metadata": {},
     "output_type": "display_data"
    },
    {
     "data": {
      "text/html": [
       "<pre>| 3600             | 10m 9s       | 31.5%            |</pre>"
      ],
      "text/plain": [
       "| 3600             | 10m 9s       | 31.5%            |"
      ]
     },
     "metadata": {},
     "output_type": "display_data"
    },
    {
     "data": {
      "text/html": [
       "<pre>| 3700             | 10m 37s      | 32.25%           |</pre>"
      ],
      "text/plain": [
       "| 3700             | 10m 37s      | 32.25%           |"
      ]
     },
     "metadata": {},
     "output_type": "display_data"
    },
    {
     "data": {
      "text/html": [
       "<pre>| 3800             | 11m 0s       | 33.25%           |</pre>"
      ],
      "text/plain": [
       "| 3800             | 11m 0s       | 33.25%           |"
      ]
     },
     "metadata": {},
     "output_type": "display_data"
    },
    {
     "data": {
      "text/html": [
       "<pre>| 3900             | 11m 20s      | 34%              |</pre>"
      ],
      "text/plain": [
       "| 3900             | 11m 20s      | 34%              |"
      ]
     },
     "metadata": {},
     "output_type": "display_data"
    },
    {
     "data": {
      "text/html": [
       "<pre>| 4000             | 11m 41s      | 35%              |</pre>"
      ],
      "text/plain": [
       "| 4000             | 11m 41s      | 35%              |"
      ]
     },
     "metadata": {},
     "output_type": "display_data"
    },
    {
     "data": {
      "text/html": [
       "<pre>| 4100             | 11m 47s      | 35.75%           |</pre>"
      ],
      "text/plain": [
       "| 4100             | 11m 47s      | 35.75%           |"
      ]
     },
     "metadata": {},
     "output_type": "display_data"
    },
    {
     "data": {
      "text/html": [
       "<pre>| 4200             | 12m 0s       | 36.75%           |</pre>"
      ],
      "text/plain": [
       "| 4200             | 12m 0s       | 36.75%           |"
      ]
     },
     "metadata": {},
     "output_type": "display_data"
    },
    {
     "data": {
      "text/html": [
       "<pre>| 4300             | 12m 19s      | 37.5%            |</pre>"
      ],
      "text/plain": [
       "| 4300             | 12m 19s      | 37.5%            |"
      ]
     },
     "metadata": {},
     "output_type": "display_data"
    },
    {
     "data": {
      "text/html": [
       "<pre>| 4400             | 12m 44s      | 38.5%            |</pre>"
      ],
      "text/plain": [
       "| 4400             | 12m 44s      | 38.5%            |"
      ]
     },
     "metadata": {},
     "output_type": "display_data"
    },
    {
     "data": {
      "text/html": [
       "<pre>| 4500             | 13m 5s       | 39.25%           |</pre>"
      ],
      "text/plain": [
       "| 4500             | 13m 5s       | 39.25%           |"
      ]
     },
     "metadata": {},
     "output_type": "display_data"
    },
    {
     "data": {
      "text/html": [
       "<pre>| 4600             | 13m 19s      | 40.25%           |</pre>"
      ],
      "text/plain": [
       "| 4600             | 13m 19s      | 40.25%           |"
      ]
     },
     "metadata": {},
     "output_type": "display_data"
    },
    {
     "data": {
      "text/html": [
       "<pre>| 4700             | 13m 35s      | 41%              |</pre>"
      ],
      "text/plain": [
       "| 4700             | 13m 35s      | 41%              |"
      ]
     },
     "metadata": {},
     "output_type": "display_data"
    },
    {
     "data": {
      "text/html": [
       "<pre>| 4800             | 13m 49s      | 42%              |</pre>"
      ],
      "text/plain": [
       "| 4800             | 13m 49s      | 42%              |"
      ]
     },
     "metadata": {},
     "output_type": "display_data"
    },
    {
     "data": {
      "text/html": [
       "<pre>| 4900             | 14m 0s       | 42.75%           |</pre>"
      ],
      "text/plain": [
       "| 4900             | 14m 0s       | 42.75%           |"
      ]
     },
     "metadata": {},
     "output_type": "display_data"
    },
    {
     "data": {
      "text/html": [
       "<pre>| 5000             | 14m 21s      | 43.75%           |</pre>"
      ],
      "text/plain": [
       "| 5000             | 14m 21s      | 43.75%           |"
      ]
     },
     "metadata": {},
     "output_type": "display_data"
    },
    {
     "data": {
      "text/html": [
       "<pre>| 5100             | 14m 45s      | 44.5%            |</pre>"
      ],
      "text/plain": [
       "| 5100             | 14m 45s      | 44.5%            |"
      ]
     },
     "metadata": {},
     "output_type": "display_data"
    },
    {
     "data": {
      "text/html": [
       "<pre>| 5200             | 14m 55s      | 45.5%            |</pre>"
      ],
      "text/plain": [
       "| 5200             | 14m 55s      | 45.5%            |"
      ]
     },
     "metadata": {},
     "output_type": "display_data"
    },
    {
     "data": {
      "text/html": [
       "<pre>| 5300             | 15m 10s      | 46.25%           |</pre>"
      ],
      "text/plain": [
       "| 5300             | 15m 10s      | 46.25%           |"
      ]
     },
     "metadata": {},
     "output_type": "display_data"
    },
    {
     "data": {
      "text/html": [
       "<pre>| 5400             | 15m 22s      | 47.25%           |</pre>"
      ],
      "text/plain": [
       "| 5400             | 15m 22s      | 47.25%           |"
      ]
     },
     "metadata": {},
     "output_type": "display_data"
    },
    {
     "data": {
      "text/html": [
       "<pre>| 5500             | 15m 32s      | 48%              |</pre>"
      ],
      "text/plain": [
       "| 5500             | 15m 32s      | 48%              |"
      ]
     },
     "metadata": {},
     "output_type": "display_data"
    },
    {
     "data": {
      "text/html": [
       "<pre>| 5600             | 15m 47s      | 49%              |</pre>"
      ],
      "text/plain": [
       "| 5600             | 15m 47s      | 49%              |"
      ]
     },
     "metadata": {},
     "output_type": "display_data"
    },
    {
     "data": {
      "text/html": [
       "<pre>| 5700             | 15m 59s      | 49.75%           |</pre>"
      ],
      "text/plain": [
       "| 5700             | 15m 59s      | 49.75%           |"
      ]
     },
     "metadata": {},
     "output_type": "display_data"
    },
    {
     "data": {
      "text/html": [
       "<pre>| 5800             | 16m 25s      | 50.75%           |</pre>"
      ],
      "text/plain": [
       "| 5800             | 16m 25s      | 50.75%           |"
      ]
     },
     "metadata": {},
     "output_type": "display_data"
    },
    {
     "data": {
      "text/html": [
       "<pre>| 5900             | 16m 43s      | 51.5%            |</pre>"
      ],
      "text/plain": [
       "| 5900             | 16m 43s      | 51.5%            |"
      ]
     },
     "metadata": {},
     "output_type": "display_data"
    },
    {
     "data": {
      "text/html": [
       "<pre>| 6000             | 17m 7s       | 52.5%            |</pre>"
      ],
      "text/plain": [
       "| 6000             | 17m 7s       | 52.5%            |"
      ]
     },
     "metadata": {},
     "output_type": "display_data"
    },
    {
     "data": {
      "text/html": [
       "<pre>| 6100             | 17m 18s      | 53.25%           |</pre>"
      ],
      "text/plain": [
       "| 6100             | 17m 18s      | 53.25%           |"
      ]
     },
     "metadata": {},
     "output_type": "display_data"
    },
    {
     "data": {
      "text/html": [
       "<pre>| 6200             | 17m 36s      | 54.25%           |</pre>"
      ],
      "text/plain": [
       "| 6200             | 17m 36s      | 54.25%           |"
      ]
     },
     "metadata": {},
     "output_type": "display_data"
    },
    {
     "data": {
      "text/html": [
       "<pre>| 6300             | 17m 57s      | 55%              |</pre>"
      ],
      "text/plain": [
       "| 6300             | 17m 57s      | 55%              |"
      ]
     },
     "metadata": {},
     "output_type": "display_data"
    },
    {
     "data": {
      "text/html": [
       "<pre>| 6400             | 18m 22s      | 56%              |</pre>"
      ],
      "text/plain": [
       "| 6400             | 18m 22s      | 56%              |"
      ]
     },
     "metadata": {},
     "output_type": "display_data"
    }
   ],
   "source": [
    "# Create an object detection model\n",
    "model = tc.one_shot_object_detector.create(starter_images, 'label', max_iterations=1500)"
   ]
  },
  {
   "cell_type": "code",
   "execution_count": null,
   "metadata": {},
   "outputs": [],
   "source": [
    "model"
   ]
  },
  {
   "cell_type": "code",
   "execution_count": null,
   "metadata": {},
   "outputs": [],
   "source": []
  }
 ],
 "metadata": {
  "kernelspec": {
   "display_name": "conda_mxnet_p36",
   "language": "python",
   "name": "conda_mxnet_p36"
  },
  "language_info": {
   "codemirror_mode": {
    "name": "ipython",
    "version": 3
   },
   "file_extension": ".py",
   "mimetype": "text/x-python",
   "name": "python",
   "nbconvert_exporter": "python",
   "pygments_lexer": "ipython3",
   "version": "3.6.5"
  }
 },
 "nbformat": 4,
 "nbformat_minor": 4
}
