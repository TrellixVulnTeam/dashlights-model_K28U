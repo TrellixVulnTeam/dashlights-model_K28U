{
 "cells": [
  {
   "cell_type": "code",
   "execution_count": 2,
   "metadata": {},
   "outputs": [],
   "source": [
    "# Import libraries\n",
    "import tarfile\n",
    "import urllib\n",
    "import turicreate as tc\n",
    "import os\n",
    "import coremltools\n",
    "tc.config.set_num_gpus(-1)"
   ]
  },
  {
   "cell_type": "code",
   "execution_count": 3,
   "metadata": {},
   "outputs": [],
   "source": [
    "# Specify the data set\n",
    "starter_images =  tc.load_images('colored-dashlights-subaru/')"
   ]
  },
  {
   "cell_type": "code",
   "execution_count": 4,
   "metadata": {},
   "outputs": [],
   "source": [
    "# Clean up labels\n",
    "starter_images['label'] = starter_images['path'].element_slice(26,-4)"
   ]
  },
  {
   "cell_type": "code",
   "execution_count": 5,
   "metadata": {},
   "outputs": [
    {
     "data": {
      "text/html": [
       "<div style=\"max-height:1000px;max-width:1500px;overflow:auto;\"><table frame=\"box\" rules=\"cols\">\n",
       "    <tr>\n",
       "        <th style=\"padding-left: 1em; padding-right: 1em; text-align: center\">path</th>\n",
       "        <th style=\"padding-left: 1em; padding-right: 1em; text-align: center\">image</th>\n",
       "        <th style=\"padding-left: 1em; padding-right: 1em; text-align: center\">label</th>\n",
       "    </tr>\n",
       "    <tr>\n",
       "        <td style=\"padding-left: 1em; padding-right: 1em; text-align: center; vertical-align: top\">colored-dashlights-<br>subaru/ABS-Warning- ...</td>\n",
       "        <td style=\"padding-left: 1em; padding-right: 1em; text-align: center; vertical-align: top\">Height: 50 Width: 50</td>\n",
       "        <td style=\"padding-left: 1em; padding-right: 1em; text-align: center; vertical-align: top\">ABS-Warning-Indicator-Lig<br>hts_50px_x_50px_0_0_255 ...</td>\n",
       "    </tr>\n",
       "    <tr>\n",
       "        <td style=\"padding-left: 1em; padding-right: 1em; text-align: center; vertical-align: top\">colored-dashlights-<br>subaru/ABS-Warning- ...</td>\n",
       "        <td style=\"padding-left: 1em; padding-right: 1em; text-align: center; vertical-align: top\">Height: 50 Width: 50</td>\n",
       "        <td style=\"padding-left: 1em; padding-right: 1em; text-align: center; vertical-align: top\">ABS-Warning-Indicator-Lig<br>hts_50px_x_50px_255_0_0 ...</td>\n",
       "    </tr>\n",
       "    <tr>\n",
       "        <td style=\"padding-left: 1em; padding-right: 1em; text-align: center; vertical-align: top\">colored-dashlights-<br>subaru/ABS-Warning- ...</td>\n",
       "        <td style=\"padding-left: 1em; padding-right: 1em; text-align: center; vertical-align: top\">Height: 50 Width: 50</td>\n",
       "        <td style=\"padding-left: 1em; padding-right: 1em; text-align: center; vertical-align: top\">ABS-Warning-Indicator-Lig<br>hts_50px_x_50px_255_1 ...</td>\n",
       "    </tr>\n",
       "    <tr>\n",
       "        <td style=\"padding-left: 1em; padding-right: 1em; text-align: center; vertical-align: top\">colored-dashlights-<br>subaru/ATOIL- ...</td>\n",
       "        <td style=\"padding-left: 1em; padding-right: 1em; text-align: center; vertical-align: top\">Height: 50 Width: 50</td>\n",
       "        <td style=\"padding-left: 1em; padding-right: 1em; text-align: center; vertical-align: top\">ATOIL-<br>TEMP_warning_0_0_255 ...</td>\n",
       "    </tr>\n",
       "    <tr>\n",
       "        <td style=\"padding-left: 1em; padding-right: 1em; text-align: center; vertical-align: top\">colored-dashlights-<br>subaru/ATOIL- ...</td>\n",
       "        <td style=\"padding-left: 1em; padding-right: 1em; text-align: center; vertical-align: top\">Height: 50 Width: 50</td>\n",
       "        <td style=\"padding-left: 1em; padding-right: 1em; text-align: center; vertical-align: top\">ATOIL-<br>TEMP_warning_255_0_0 ...</td>\n",
       "    </tr>\n",
       "    <tr>\n",
       "        <td style=\"padding-left: 1em; padding-right: 1em; text-align: center; vertical-align: top\">colored-dashlights-<br>subaru/ATOIL-TEMP_war ...</td>\n",
       "        <td style=\"padding-left: 1em; padding-right: 1em; text-align: center; vertical-align: top\">Height: 50 Width: 50</td>\n",
       "        <td style=\"padding-left: 1em; padding-right: 1em; text-align: center; vertical-align: top\">ATOIL-<br>TEMP_warning_255_128_0 ...</td>\n",
       "    </tr>\n",
       "    <tr>\n",
       "        <td style=\"padding-left: 1em; padding-right: 1em; text-align: center; vertical-align: top\">colored-dashlights-<br>subaru/AVH-on_Indicator- ...</td>\n",
       "        <td style=\"padding-left: 1em; padding-right: 1em; text-align: center; vertical-align: top\">Height: 50 Width: 50</td>\n",
       "        <td style=\"padding-left: 1em; padding-right: 1em; text-align: center; vertical-align: top\">AVH-on_Indicator-<br>Light_0_0_255 ...</td>\n",
       "    </tr>\n",
       "    <tr>\n",
       "        <td style=\"padding-left: 1em; padding-right: 1em; text-align: center; vertical-align: top\">colored-dashlights-<br>subaru/AVH-on_Indicator- ...</td>\n",
       "        <td style=\"padding-left: 1em; padding-right: 1em; text-align: center; vertical-align: top\">Height: 50 Width: 50</td>\n",
       "        <td style=\"padding-left: 1em; padding-right: 1em; text-align: center; vertical-align: top\">AVH-on_Indicator-<br>Light_255_0_0 ...</td>\n",
       "    </tr>\n",
       "    <tr>\n",
       "        <td style=\"padding-left: 1em; padding-right: 1em; text-align: center; vertical-align: top\">colored-dashlights-<br>subaru/AVH-on_Indicator- ...</td>\n",
       "        <td style=\"padding-left: 1em; padding-right: 1em; text-align: center; vertical-align: top\">Height: 50 Width: 50</td>\n",
       "        <td style=\"padding-left: 1em; padding-right: 1em; text-align: center; vertical-align: top\">AVH-on_Indicator-<br>Light_255_128_0 ...</td>\n",
       "    </tr>\n",
       "    <tr>\n",
       "        <td style=\"padding-left: 1em; padding-right: 1em; text-align: center; vertical-align: top\">colored-dashlights-subaru<br>/AWD_warning_0_0_255.png ...</td>\n",
       "        <td style=\"padding-left: 1em; padding-right: 1em; text-align: center; vertical-align: top\">Height: 50 Width: 50</td>\n",
       "        <td style=\"padding-left: 1em; padding-right: 1em; text-align: center; vertical-align: top\">AWD_warning_0_0_255</td>\n",
       "    </tr>\n",
       "</table>\n",
       "[231 rows x 3 columns]<br/>Note: Only the head of the SFrame is printed.<br/>You can use print_rows(num_rows=m, num_columns=n) to print more rows and columns.\n",
       "</div>"
      ],
      "text/plain": [
       "Columns:\n",
       "\tpath\tstr\n",
       "\timage\tImage\n",
       "\tlabel\tstr\n",
       "\n",
       "Rows: 231\n",
       "\n",
       "Data:\n",
       "+-------------------------------+----------------------+\n",
       "|              path             |        image         |\n",
       "+-------------------------------+----------------------+\n",
       "| colored-dashlights-subaru/... | Height: 50 Width: 50 |\n",
       "| colored-dashlights-subaru/... | Height: 50 Width: 50 |\n",
       "| colored-dashlights-subaru/... | Height: 50 Width: 50 |\n",
       "| colored-dashlights-subaru/... | Height: 50 Width: 50 |\n",
       "| colored-dashlights-subaru/... | Height: 50 Width: 50 |\n",
       "| colored-dashlights-subaru/... | Height: 50 Width: 50 |\n",
       "| colored-dashlights-subaru/... | Height: 50 Width: 50 |\n",
       "| colored-dashlights-subaru/... | Height: 50 Width: 50 |\n",
       "| colored-dashlights-subaru/... | Height: 50 Width: 50 |\n",
       "| colored-dashlights-subaru/... | Height: 50 Width: 50 |\n",
       "+-------------------------------+----------------------+\n",
       "+--------------------------------+\n",
       "|             label              |\n",
       "+--------------------------------+\n",
       "| ABS-Warning-Indicator-Ligh...  |\n",
       "| ABS-Warning-Indicator-Ligh...  |\n",
       "| ABS-Warning-Indicator-Ligh...  |\n",
       "|   ATOIL-TEMP_warning_0_0_255   |\n",
       "|   ATOIL-TEMP_warning_255_0_0   |\n",
       "|  ATOIL-TEMP_warning_255_128_0  |\n",
       "| AVH-on_Indicator-Light_0_0_255 |\n",
       "| AVH-on_Indicator-Light_255_0_0 |\n",
       "| AVH-on_Indicator-Light_255...  |\n",
       "|      AWD_warning_0_0_255       |\n",
       "+--------------------------------+\n",
       "[231 rows x 3 columns]\n",
       "Note: Only the head of the SFrame is printed.\n",
       "You can use print_rows(num_rows=m, num_columns=n) to print more rows and columns."
      ]
     },
     "execution_count": 5,
     "metadata": {},
     "output_type": "execute_result"
    }
   ],
   "source": [
    "# Preview starter images sframe\n",
    "starter_images"
   ]
  },
  {
   "cell_type": "code",
   "execution_count": 6,
   "metadata": {},
   "outputs": [],
   "source": [
    "# Load background images\n",
    "# my_backgrounds = tc.SArray('my_custom_backgrounds.sarray')\n",
    "my_backgrounds_sframe = tc.load_images('dashlights-background-images/')"
   ]
  },
  {
   "cell_type": "code",
   "execution_count": 7,
   "metadata": {},
   "outputs": [],
   "source": [
    "my_backgrounds = my_backgrounds_sframe['image']"
   ]
  },
  {
   "cell_type": "code",
   "execution_count": null,
   "metadata": {},
   "outputs": [
    {
     "data": {
      "text/html": [
       "<pre>Augmenting input images using 4 background images.</pre>"
      ],
      "text/plain": [
       "Augmenting input images using 4 background images."
      ]
     },
     "metadata": {},
     "output_type": "display_data"
    },
    {
     "data": {
      "text/html": [
       "<pre>+------------------+--------------+------------------+</pre>"
      ],
      "text/plain": [
       "+------------------+--------------+------------------+"
      ]
     },
     "metadata": {},
     "output_type": "display_data"
    },
    {
     "data": {
      "text/html": [
       "<pre>| Images Augmented | Elapsed Time | Percent Complete |</pre>"
      ],
      "text/plain": [
       "| Images Augmented | Elapsed Time | Percent Complete |"
      ]
     },
     "metadata": {},
     "output_type": "display_data"
    },
    {
     "data": {
      "text/html": [
       "<pre>+------------------+--------------+------------------+</pre>"
      ],
      "text/plain": [
       "+------------------+--------------+------------------+"
      ]
     },
     "metadata": {},
     "output_type": "display_data"
    },
    {
     "data": {
      "text/html": [
       "<pre>| 0                | 1.07s        | 0%               |</pre>"
      ],
      "text/plain": [
       "| 0                | 1.07s        | 0%               |"
      ]
     },
     "metadata": {},
     "output_type": "display_data"
    },
    {
     "data": {
      "text/html": [
       "<pre>| 1                | 2.03s        | 0%               |</pre>"
      ],
      "text/plain": [
       "| 1                | 2.03s        | 0%               |"
      ]
     },
     "metadata": {},
     "output_type": "display_data"
    },
    {
     "data": {
      "text/html": [
       "<pre>| 2                | 2.95s        | 0%               |</pre>"
      ],
      "text/plain": [
       "| 2                | 2.95s        | 0%               |"
      ]
     },
     "metadata": {},
     "output_type": "display_data"
    },
    {
     "data": {
      "text/html": [
       "<pre>| 3                | 3.92s        | 0.25%            |</pre>"
      ],
      "text/plain": [
       "| 3                | 3.92s        | 0.25%            |"
      ]
     },
     "metadata": {},
     "output_type": "display_data"
    },
    {
     "data": {
      "text/html": [
       "<pre>| 4                | 4.95s        | 0.25%            |</pre>"
      ],
      "text/plain": [
       "| 4                | 4.95s        | 0.25%            |"
      ]
     },
     "metadata": {},
     "output_type": "display_data"
    },
    {
     "data": {
      "text/html": [
       "<pre>| 5                | 5.94s        | 0.5%             |</pre>"
      ],
      "text/plain": [
       "| 5                | 5.94s        | 0.5%             |"
      ]
     },
     "metadata": {},
     "output_type": "display_data"
    },
    {
     "data": {
      "text/html": [
       "<pre>| 10               | 11.27s       | 1%               |</pre>"
      ],
      "text/plain": [
       "| 10               | 11.27s       | 1%               |"
      ]
     },
     "metadata": {},
     "output_type": "display_data"
    },
    {
     "data": {
      "text/html": [
       "<pre>| 15               | 16.26s       | 1.5%             |</pre>"
      ],
      "text/plain": [
       "| 15               | 16.26s       | 1.5%             |"
      ]
     },
     "metadata": {},
     "output_type": "display_data"
    },
    {
     "data": {
      "text/html": [
       "<pre>| 20               | 21.12s       | 2%               |</pre>"
      ],
      "text/plain": [
       "| 20               | 21.12s       | 2%               |"
      ]
     },
     "metadata": {},
     "output_type": "display_data"
    },
    {
     "data": {
      "text/html": [
       "<pre>| 25               | 25.98s       | 2.5%             |</pre>"
      ],
      "text/plain": [
       "| 25               | 25.98s       | 2.5%             |"
      ]
     },
     "metadata": {},
     "output_type": "display_data"
    },
    {
     "data": {
      "text/html": [
       "<pre>| 30               | 30.72s       | 3%               |</pre>"
      ],
      "text/plain": [
       "| 30               | 30.72s       | 3%               |"
      ]
     },
     "metadata": {},
     "output_type": "display_data"
    },
    {
     "data": {
      "text/html": [
       "<pre>| 35               | 35.64s       | 3.75%            |</pre>"
      ],
      "text/plain": [
       "| 35               | 35.64s       | 3.75%            |"
      ]
     },
     "metadata": {},
     "output_type": "display_data"
    },
    {
     "data": {
      "text/html": [
       "<pre>| 40               | 40.64s       | 4.25%            |</pre>"
      ],
      "text/plain": [
       "| 40               | 40.64s       | 4.25%            |"
      ]
     },
     "metadata": {},
     "output_type": "display_data"
    },
    {
     "data": {
      "text/html": [
       "<pre>| 45               | 45.60s       | 4.75%            |</pre>"
      ],
      "text/plain": [
       "| 45               | 45.60s       | 4.75%            |"
      ]
     },
     "metadata": {},
     "output_type": "display_data"
    },
    {
     "data": {
      "text/html": [
       "<pre>| 50               | 50.35s       | 5.25%            |</pre>"
      ],
      "text/plain": [
       "| 50               | 50.35s       | 5.25%            |"
      ]
     },
     "metadata": {},
     "output_type": "display_data"
    },
    {
     "data": {
      "text/html": [
       "<pre>| 55               | 55.24s       | 5.75%            |</pre>"
      ],
      "text/plain": [
       "| 55               | 55.24s       | 5.75%            |"
      ]
     },
     "metadata": {},
     "output_type": "display_data"
    },
    {
     "data": {
      "text/html": [
       "<pre>| 60               | 1m 0s        | 6.25%            |</pre>"
      ],
      "text/plain": [
       "| 60               | 1m 0s        | 6.25%            |"
      ]
     },
     "metadata": {},
     "output_type": "display_data"
    },
    {
     "data": {
      "text/html": [
       "<pre>| 65               | 1m 5s        | 7%               |</pre>"
      ],
      "text/plain": [
       "| 65               | 1m 5s        | 7%               |"
      ]
     },
     "metadata": {},
     "output_type": "display_data"
    },
    {
     "data": {
      "text/html": [
       "<pre>| 70               | 1m 9s        | 7.5%             |</pre>"
      ],
      "text/plain": [
       "| 70               | 1m 9s        | 7.5%             |"
      ]
     },
     "metadata": {},
     "output_type": "display_data"
    },
    {
     "data": {
      "text/html": [
       "<pre>| 75               | 1m 14s       | 8%               |</pre>"
      ],
      "text/plain": [
       "| 75               | 1m 14s       | 8%               |"
      ]
     },
     "metadata": {},
     "output_type": "display_data"
    },
    {
     "data": {
      "text/html": [
       "<pre>| 80               | 1m 19s       | 8.5%             |</pre>"
      ],
      "text/plain": [
       "| 80               | 1m 19s       | 8.5%             |"
      ]
     },
     "metadata": {},
     "output_type": "display_data"
    },
    {
     "data": {
      "text/html": [
       "<pre>| 85               | 1m 24s       | 9%               |</pre>"
      ],
      "text/plain": [
       "| 85               | 1m 24s       | 9%               |"
      ]
     },
     "metadata": {},
     "output_type": "display_data"
    },
    {
     "data": {
      "text/html": [
       "<pre>| 90               | 1m 29s       | 9.5%             |</pre>"
      ],
      "text/plain": [
       "| 90               | 1m 29s       | 9.5%             |"
      ]
     },
     "metadata": {},
     "output_type": "display_data"
    },
    {
     "data": {
      "text/html": [
       "<pre>| 95               | 1m 34s       | 10.25%           |</pre>"
      ],
      "text/plain": [
       "| 95               | 1m 34s       | 10.25%           |"
      ]
     },
     "metadata": {},
     "output_type": "display_data"
    },
    {
     "data": {
      "text/html": [
       "<pre>| 100              | 1m 39s       | 10.75%           |</pre>"
      ],
      "text/plain": [
       "| 100              | 1m 39s       | 10.75%           |"
      ]
     },
     "metadata": {},
     "output_type": "display_data"
    },
    {
     "data": {
      "text/html": [
       "<pre>| 105              | 1m 43s       | 11.25%           |</pre>"
      ],
      "text/plain": [
       "| 105              | 1m 43s       | 11.25%           |"
      ]
     },
     "metadata": {},
     "output_type": "display_data"
    },
    {
     "data": {
      "text/html": [
       "<pre>| 110              | 1m 48s       | 11.75%           |</pre>"
      ],
      "text/plain": [
       "| 110              | 1m 48s       | 11.75%           |"
      ]
     },
     "metadata": {},
     "output_type": "display_data"
    },
    {
     "data": {
      "text/html": [
       "<pre>| 115              | 1m 53s       | 12.25%           |</pre>"
      ],
      "text/plain": [
       "| 115              | 1m 53s       | 12.25%           |"
      ]
     },
     "metadata": {},
     "output_type": "display_data"
    },
    {
     "data": {
      "text/html": [
       "<pre>| 120              | 1m 58s       | 12.75%           |</pre>"
      ],
      "text/plain": [
       "| 120              | 1m 58s       | 12.75%           |"
      ]
     },
     "metadata": {},
     "output_type": "display_data"
    },
    {
     "data": {
      "text/html": [
       "<pre>| 125              | 2m 2s        | 13.5%            |</pre>"
      ],
      "text/plain": [
       "| 125              | 2m 2s        | 13.5%            |"
      ]
     },
     "metadata": {},
     "output_type": "display_data"
    },
    {
     "data": {
      "text/html": [
       "<pre>| 130              | 2m 7s        | 14%              |</pre>"
      ],
      "text/plain": [
       "| 130              | 2m 7s        | 14%              |"
      ]
     },
     "metadata": {},
     "output_type": "display_data"
    },
    {
     "data": {
      "text/html": [
       "<pre>| 135              | 2m 12s       | 14.5%            |</pre>"
      ],
      "text/plain": [
       "| 135              | 2m 12s       | 14.5%            |"
      ]
     },
     "metadata": {},
     "output_type": "display_data"
    },
    {
     "data": {
      "text/html": [
       "<pre>| 140              | 2m 16s       | 15%              |</pre>"
      ],
      "text/plain": [
       "| 140              | 2m 16s       | 15%              |"
      ]
     },
     "metadata": {},
     "output_type": "display_data"
    },
    {
     "data": {
      "text/html": [
       "<pre>| 145              | 2m 21s       | 15.5%            |</pre>"
      ],
      "text/plain": [
       "| 145              | 2m 21s       | 15.5%            |"
      ]
     },
     "metadata": {},
     "output_type": "display_data"
    },
    {
     "data": {
      "text/html": [
       "<pre>| 150              | 2m 26s       | 16%              |</pre>"
      ],
      "text/plain": [
       "| 150              | 2m 26s       | 16%              |"
      ]
     },
     "metadata": {},
     "output_type": "display_data"
    },
    {
     "data": {
      "text/html": [
       "<pre>| 155              | 2m 31s       | 16.75%           |</pre>"
      ],
      "text/plain": [
       "| 155              | 2m 31s       | 16.75%           |"
      ]
     },
     "metadata": {},
     "output_type": "display_data"
    },
    {
     "data": {
      "text/html": [
       "<pre>| 160              | 2m 35s       | 17.25%           |</pre>"
      ],
      "text/plain": [
       "| 160              | 2m 35s       | 17.25%           |"
      ]
     },
     "metadata": {},
     "output_type": "display_data"
    },
    {
     "data": {
      "text/html": [
       "<pre>| 165              | 2m 40s       | 17.75%           |</pre>"
      ],
      "text/plain": [
       "| 165              | 2m 40s       | 17.75%           |"
      ]
     },
     "metadata": {},
     "output_type": "display_data"
    },
    {
     "data": {
      "text/html": [
       "<pre>| 170              | 2m 45s       | 18.25%           |</pre>"
      ],
      "text/plain": [
       "| 170              | 2m 45s       | 18.25%           |"
      ]
     },
     "metadata": {},
     "output_type": "display_data"
    },
    {
     "data": {
      "text/html": [
       "<pre>| 175              | 2m 50s       | 18.75%           |</pre>"
      ],
      "text/plain": [
       "| 175              | 2m 50s       | 18.75%           |"
      ]
     },
     "metadata": {},
     "output_type": "display_data"
    },
    {
     "data": {
      "text/html": [
       "<pre>| 180              | 2m 54s       | 19.25%           |</pre>"
      ],
      "text/plain": [
       "| 180              | 2m 54s       | 19.25%           |"
      ]
     },
     "metadata": {},
     "output_type": "display_data"
    },
    {
     "data": {
      "text/html": [
       "<pre>| 185              | 2m 59s       | 20%              |</pre>"
      ],
      "text/plain": [
       "| 185              | 2m 59s       | 20%              |"
      ]
     },
     "metadata": {},
     "output_type": "display_data"
    },
    {
     "data": {
      "text/html": [
       "<pre>| 190              | 3m 4s        | 20.5%            |</pre>"
      ],
      "text/plain": [
       "| 190              | 3m 4s        | 20.5%            |"
      ]
     },
     "metadata": {},
     "output_type": "display_data"
    },
    {
     "data": {
      "text/html": [
       "<pre>| 195              | 3m 9s        | 21%              |</pre>"
      ],
      "text/plain": [
       "| 195              | 3m 9s        | 21%              |"
      ]
     },
     "metadata": {},
     "output_type": "display_data"
    },
    {
     "data": {
      "text/html": [
       "<pre>| 200              | 3m 14s       | 21.5%            |</pre>"
      ],
      "text/plain": [
       "| 200              | 3m 14s       | 21.5%            |"
      ]
     },
     "metadata": {},
     "output_type": "display_data"
    },
    {
     "data": {
      "text/html": [
       "<pre>| 205              | 3m 19s       | 22%              |</pre>"
      ],
      "text/plain": [
       "| 205              | 3m 19s       | 22%              |"
      ]
     },
     "metadata": {},
     "output_type": "display_data"
    },
    {
     "data": {
      "text/html": [
       "<pre>| 210              | 3m 25s       | 22.5%            |</pre>"
      ],
      "text/plain": [
       "| 210              | 3m 25s       | 22.5%            |"
      ]
     },
     "metadata": {},
     "output_type": "display_data"
    },
    {
     "data": {
      "text/html": [
       "<pre>| 215              | 3m 30s       | 23.25%           |</pre>"
      ],
      "text/plain": [
       "| 215              | 3m 30s       | 23.25%           |"
      ]
     },
     "metadata": {},
     "output_type": "display_data"
    },
    {
     "data": {
      "text/html": [
       "<pre>| 220              | 3m 35s       | 23.75%           |</pre>"
      ],
      "text/plain": [
       "| 220              | 3m 35s       | 23.75%           |"
      ]
     },
     "metadata": {},
     "output_type": "display_data"
    },
    {
     "data": {
      "text/html": [
       "<pre>| 225              | 3m 40s       | 24.25%           |</pre>"
      ],
      "text/plain": [
       "| 225              | 3m 40s       | 24.25%           |"
      ]
     },
     "metadata": {},
     "output_type": "display_data"
    },
    {
     "data": {
      "text/html": [
       "<pre>| 230              | 3m 45s       | 24.75%           |</pre>"
      ],
      "text/plain": [
       "| 230              | 3m 45s       | 24.75%           |"
      ]
     },
     "metadata": {},
     "output_type": "display_data"
    },
    {
     "data": {
      "text/html": [
       "<pre>| 235              | 3m 50s       | 25.25%           |</pre>"
      ],
      "text/plain": [
       "| 235              | 3m 50s       | 25.25%           |"
      ]
     },
     "metadata": {},
     "output_type": "display_data"
    },
    {
     "data": {
      "text/html": [
       "<pre>| 240              | 3m 56s       | 25.75%           |</pre>"
      ],
      "text/plain": [
       "| 240              | 3m 56s       | 25.75%           |"
      ]
     },
     "metadata": {},
     "output_type": "display_data"
    },
    {
     "data": {
      "text/html": [
       "<pre>| 245              | 4m 1s        | 26.5%            |</pre>"
      ],
      "text/plain": [
       "| 245              | 4m 1s        | 26.5%            |"
      ]
     },
     "metadata": {},
     "output_type": "display_data"
    },
    {
     "data": {
      "text/html": [
       "<pre>| 250              | 4m 6s        | 27%              |</pre>"
      ],
      "text/plain": [
       "| 250              | 4m 6s        | 27%              |"
      ]
     },
     "metadata": {},
     "output_type": "display_data"
    },
    {
     "data": {
      "text/html": [
       "<pre>| 255              | 4m 11s       | 27.5%            |</pre>"
      ],
      "text/plain": [
       "| 255              | 4m 11s       | 27.5%            |"
      ]
     },
     "metadata": {},
     "output_type": "display_data"
    },
    {
     "data": {
      "text/html": [
       "<pre>| 260              | 4m 16s       | 28%              |</pre>"
      ],
      "text/plain": [
       "| 260              | 4m 16s       | 28%              |"
      ]
     },
     "metadata": {},
     "output_type": "display_data"
    },
    {
     "data": {
      "text/html": [
       "<pre>| 265              | 4m 21s       | 28.5%            |</pre>"
      ],
      "text/plain": [
       "| 265              | 4m 21s       | 28.5%            |"
      ]
     },
     "metadata": {},
     "output_type": "display_data"
    },
    {
     "data": {
      "text/html": [
       "<pre>| 270              | 4m 26s       | 29%              |</pre>"
      ],
      "text/plain": [
       "| 270              | 4m 26s       | 29%              |"
      ]
     },
     "metadata": {},
     "output_type": "display_data"
    },
    {
     "data": {
      "text/html": [
       "<pre>| 275              | 4m 31s       | 29.75%           |</pre>"
      ],
      "text/plain": [
       "| 275              | 4m 31s       | 29.75%           |"
      ]
     },
     "metadata": {},
     "output_type": "display_data"
    },
    {
     "data": {
      "text/html": [
       "<pre>| 280              | 4m 36s       | 30.25%           |</pre>"
      ],
      "text/plain": [
       "| 280              | 4m 36s       | 30.25%           |"
      ]
     },
     "metadata": {},
     "output_type": "display_data"
    },
    {
     "data": {
      "text/html": [
       "<pre>| 285              | 4m 41s       | 30.75%           |</pre>"
      ],
      "text/plain": [
       "| 285              | 4m 41s       | 30.75%           |"
      ]
     },
     "metadata": {},
     "output_type": "display_data"
    },
    {
     "data": {
      "text/html": [
       "<pre>| 290              | 4m 46s       | 31.25%           |</pre>"
      ],
      "text/plain": [
       "| 290              | 4m 46s       | 31.25%           |"
      ]
     },
     "metadata": {},
     "output_type": "display_data"
    },
    {
     "data": {
      "text/html": [
       "<pre>| 295              | 4m 51s       | 31.75%           |</pre>"
      ],
      "text/plain": [
       "| 295              | 4m 51s       | 31.75%           |"
      ]
     },
     "metadata": {},
     "output_type": "display_data"
    },
    {
     "data": {
      "text/html": [
       "<pre>| 300              | 4m 56s       | 32.25%           |</pre>"
      ],
      "text/plain": [
       "| 300              | 4m 56s       | 32.25%           |"
      ]
     },
     "metadata": {},
     "output_type": "display_data"
    },
    {
     "data": {
      "text/html": [
       "<pre>| 305              | 5m 1s        | 33%              |</pre>"
      ],
      "text/plain": [
       "| 305              | 5m 1s        | 33%              |"
      ]
     },
     "metadata": {},
     "output_type": "display_data"
    },
    {
     "data": {
      "text/html": [
       "<pre>| 310              | 5m 6s        | 33.5%            |</pre>"
      ],
      "text/plain": [
       "| 310              | 5m 6s        | 33.5%            |"
      ]
     },
     "metadata": {},
     "output_type": "display_data"
    },
    {
     "data": {
      "text/html": [
       "<pre>| 315              | 5m 11s       | 34%              |</pre>"
      ],
      "text/plain": [
       "| 315              | 5m 11s       | 34%              |"
      ]
     },
     "metadata": {},
     "output_type": "display_data"
    },
    {
     "data": {
      "text/html": [
       "<pre>| 320              | 5m 16s       | 34.5%            |</pre>"
      ],
      "text/plain": [
       "| 320              | 5m 16s       | 34.5%            |"
      ]
     },
     "metadata": {},
     "output_type": "display_data"
    },
    {
     "data": {
      "text/html": [
       "<pre>| 325              | 5m 20s       | 35%              |</pre>"
      ],
      "text/plain": [
       "| 325              | 5m 20s       | 35%              |"
      ]
     },
     "metadata": {},
     "output_type": "display_data"
    },
    {
     "data": {
      "text/html": [
       "<pre>| 330              | 5m 25s       | 35.5%            |</pre>"
      ],
      "text/plain": [
       "| 330              | 5m 25s       | 35.5%            |"
      ]
     },
     "metadata": {},
     "output_type": "display_data"
    },
    {
     "data": {
      "text/html": [
       "<pre>| 335              | 5m 30s       | 36.25%           |</pre>"
      ],
      "text/plain": [
       "| 335              | 5m 30s       | 36.25%           |"
      ]
     },
     "metadata": {},
     "output_type": "display_data"
    },
    {
     "data": {
      "text/html": [
       "<pre>| 340              | 5m 35s       | 36.75%           |</pre>"
      ],
      "text/plain": [
       "| 340              | 5m 35s       | 36.75%           |"
      ]
     },
     "metadata": {},
     "output_type": "display_data"
    },
    {
     "data": {
      "text/html": [
       "<pre>| 345              | 5m 40s       | 37.25%           |</pre>"
      ],
      "text/plain": [
       "| 345              | 5m 40s       | 37.25%           |"
      ]
     },
     "metadata": {},
     "output_type": "display_data"
    },
    {
     "data": {
      "text/html": [
       "<pre>| 350              | 5m 46s       | 37.75%           |</pre>"
      ],
      "text/plain": [
       "| 350              | 5m 46s       | 37.75%           |"
      ]
     },
     "metadata": {},
     "output_type": "display_data"
    },
    {
     "data": {
      "text/html": [
       "<pre>| 355              | 5m 51s       | 38.25%           |</pre>"
      ],
      "text/plain": [
       "| 355              | 5m 51s       | 38.25%           |"
      ]
     },
     "metadata": {},
     "output_type": "display_data"
    },
    {
     "data": {
      "text/html": [
       "<pre>| 360              | 5m 56s       | 38.75%           |</pre>"
      ],
      "text/plain": [
       "| 360              | 5m 56s       | 38.75%           |"
      ]
     },
     "metadata": {},
     "output_type": "display_data"
    },
    {
     "data": {
      "text/html": [
       "<pre>| 365              | 6m 1s        | 39.5%            |</pre>"
      ],
      "text/plain": [
       "| 365              | 6m 1s        | 39.5%            |"
      ]
     },
     "metadata": {},
     "output_type": "display_data"
    },
    {
     "data": {
      "text/html": [
       "<pre>| 370              | 6m 6s        | 40%              |</pre>"
      ],
      "text/plain": [
       "| 370              | 6m 6s        | 40%              |"
      ]
     },
     "metadata": {},
     "output_type": "display_data"
    },
    {
     "data": {
      "text/html": [
       "<pre>| 375              | 6m 11s       | 40.5%            |</pre>"
      ],
      "text/plain": [
       "| 375              | 6m 11s       | 40.5%            |"
      ]
     },
     "metadata": {},
     "output_type": "display_data"
    },
    {
     "data": {
      "text/html": [
       "<pre>| 380              | 6m 15s       | 41%              |</pre>"
      ],
      "text/plain": [
       "| 380              | 6m 15s       | 41%              |"
      ]
     },
     "metadata": {},
     "output_type": "display_data"
    },
    {
     "data": {
      "text/html": [
       "<pre>| 385              | 6m 20s       | 41.5%            |</pre>"
      ],
      "text/plain": [
       "| 385              | 6m 20s       | 41.5%            |"
      ]
     },
     "metadata": {},
     "output_type": "display_data"
    },
    {
     "data": {
      "text/html": [
       "<pre>| 390              | 6m 25s       | 42%              |</pre>"
      ],
      "text/plain": [
       "| 390              | 6m 25s       | 42%              |"
      ]
     },
     "metadata": {},
     "output_type": "display_data"
    },
    {
     "data": {
      "text/html": [
       "<pre>| 395              | 6m 30s       | 42.5%            |</pre>"
      ],
      "text/plain": [
       "| 395              | 6m 30s       | 42.5%            |"
      ]
     },
     "metadata": {},
     "output_type": "display_data"
    },
    {
     "data": {
      "text/html": [
       "<pre>| 400              | 6m 35s       | 43.25%           |</pre>"
      ],
      "text/plain": [
       "| 400              | 6m 35s       | 43.25%           |"
      ]
     },
     "metadata": {},
     "output_type": "display_data"
    },
    {
     "data": {
      "text/html": [
       "<pre>| 405              | 6m 40s       | 43.75%           |</pre>"
      ],
      "text/plain": [
       "| 405              | 6m 40s       | 43.75%           |"
      ]
     },
     "metadata": {},
     "output_type": "display_data"
    },
    {
     "data": {
      "text/html": [
       "<pre>| 410              | 6m 45s       | 44.25%           |</pre>"
      ],
      "text/plain": [
       "| 410              | 6m 45s       | 44.25%           |"
      ]
     },
     "metadata": {},
     "output_type": "display_data"
    },
    {
     "data": {
      "text/html": [
       "<pre>| 415              | 6m 50s       | 44.75%           |</pre>"
      ],
      "text/plain": [
       "| 415              | 6m 50s       | 44.75%           |"
      ]
     },
     "metadata": {},
     "output_type": "display_data"
    },
    {
     "data": {
      "text/html": [
       "<pre>| 420              | 6m 55s       | 45.25%           |</pre>"
      ],
      "text/plain": [
       "| 420              | 6m 55s       | 45.25%           |"
      ]
     },
     "metadata": {},
     "output_type": "display_data"
    },
    {
     "data": {
      "text/html": [
       "<pre>| 425              | 7m 0s        | 45.75%           |</pre>"
      ],
      "text/plain": [
       "| 425              | 7m 0s        | 45.75%           |"
      ]
     },
     "metadata": {},
     "output_type": "display_data"
    },
    {
     "data": {
      "text/html": [
       "<pre>| 430              | 7m 5s        | 46.5%            |</pre>"
      ],
      "text/plain": [
       "| 430              | 7m 5s        | 46.5%            |"
      ]
     },
     "metadata": {},
     "output_type": "display_data"
    },
    {
     "data": {
      "text/html": [
       "<pre>| 435              | 7m 10s       | 47%              |</pre>"
      ],
      "text/plain": [
       "| 435              | 7m 10s       | 47%              |"
      ]
     },
     "metadata": {},
     "output_type": "display_data"
    },
    {
     "data": {
      "text/html": [
       "<pre>| 440              | 7m 15s       | 47.5%            |</pre>"
      ],
      "text/plain": [
       "| 440              | 7m 15s       | 47.5%            |"
      ]
     },
     "metadata": {},
     "output_type": "display_data"
    },
    {
     "data": {
      "text/html": [
       "<pre>| 445              | 7m 20s       | 48%              |</pre>"
      ],
      "text/plain": [
       "| 445              | 7m 20s       | 48%              |"
      ]
     },
     "metadata": {},
     "output_type": "display_data"
    },
    {
     "data": {
      "text/html": [
       "<pre>| 450              | 7m 25s       | 48.5%            |</pre>"
      ],
      "text/plain": [
       "| 450              | 7m 25s       | 48.5%            |"
      ]
     },
     "metadata": {},
     "output_type": "display_data"
    },
    {
     "data": {
      "text/html": [
       "<pre>| 455              | 7m 30s       | 49%              |</pre>"
      ],
      "text/plain": [
       "| 455              | 7m 30s       | 49%              |"
      ]
     },
     "metadata": {},
     "output_type": "display_data"
    },
    {
     "data": {
      "text/html": [
       "<pre>| 460              | 7m 35s       | 49.75%           |</pre>"
      ],
      "text/plain": [
       "| 460              | 7m 35s       | 49.75%           |"
      ]
     },
     "metadata": {},
     "output_type": "display_data"
    },
    {
     "data": {
      "text/html": [
       "<pre>| 465              | 7m 40s       | 50.25%           |</pre>"
      ],
      "text/plain": [
       "| 465              | 7m 40s       | 50.25%           |"
      ]
     },
     "metadata": {},
     "output_type": "display_data"
    },
    {
     "data": {
      "text/html": [
       "<pre>| 470              | 7m 45s       | 50.75%           |</pre>"
      ],
      "text/plain": [
       "| 470              | 7m 45s       | 50.75%           |"
      ]
     },
     "metadata": {},
     "output_type": "display_data"
    },
    {
     "data": {
      "text/html": [
       "<pre>| 475              | 7m 50s       | 51.25%           |</pre>"
      ],
      "text/plain": [
       "| 475              | 7m 50s       | 51.25%           |"
      ]
     },
     "metadata": {},
     "output_type": "display_data"
    },
    {
     "data": {
      "text/html": [
       "<pre>| 480              | 7m 54s       | 51.75%           |</pre>"
      ],
      "text/plain": [
       "| 480              | 7m 54s       | 51.75%           |"
      ]
     },
     "metadata": {},
     "output_type": "display_data"
    },
    {
     "data": {
      "text/html": [
       "<pre>| 485              | 7m 59s       | 52.25%           |</pre>"
      ],
      "text/plain": [
       "| 485              | 7m 59s       | 52.25%           |"
      ]
     },
     "metadata": {},
     "output_type": "display_data"
    },
    {
     "data": {
      "text/html": [
       "<pre>| 490              | 8m 4s        | 53%              |</pre>"
      ],
      "text/plain": [
       "| 490              | 8m 4s        | 53%              |"
      ]
     },
     "metadata": {},
     "output_type": "display_data"
    },
    {
     "data": {
      "text/html": [
       "<pre>| 495              | 8m 10s       | 53.5%            |</pre>"
      ],
      "text/plain": [
       "| 495              | 8m 10s       | 53.5%            |"
      ]
     },
     "metadata": {},
     "output_type": "display_data"
    },
    {
     "data": {
      "text/html": [
       "<pre>| 500              | 8m 15s       | 54%              |</pre>"
      ],
      "text/plain": [
       "| 500              | 8m 15s       | 54%              |"
      ]
     },
     "metadata": {},
     "output_type": "display_data"
    },
    {
     "data": {
      "text/html": [
       "<pre>| 505              | 8m 20s       | 54.5%            |</pre>"
      ],
      "text/plain": [
       "| 505              | 8m 20s       | 54.5%            |"
      ]
     },
     "metadata": {},
     "output_type": "display_data"
    },
    {
     "data": {
      "text/html": [
       "<pre>| 510              | 8m 25s       | 55%              |</pre>"
      ],
      "text/plain": [
       "| 510              | 8m 25s       | 55%              |"
      ]
     },
     "metadata": {},
     "output_type": "display_data"
    },
    {
     "data": {
      "text/html": [
       "<pre>| 515              | 8m 30s       | 55.5%            |</pre>"
      ],
      "text/plain": [
       "| 515              | 8m 30s       | 55.5%            |"
      ]
     },
     "metadata": {},
     "output_type": "display_data"
    },
    {
     "data": {
      "text/html": [
       "<pre>| 520              | 8m 35s       | 56.25%           |</pre>"
      ],
      "text/plain": [
       "| 520              | 8m 35s       | 56.25%           |"
      ]
     },
     "metadata": {},
     "output_type": "display_data"
    },
    {
     "data": {
      "text/html": [
       "<pre>| 525              | 8m 40s       | 56.75%           |</pre>"
      ],
      "text/plain": [
       "| 525              | 8m 40s       | 56.75%           |"
      ]
     },
     "metadata": {},
     "output_type": "display_data"
    },
    {
     "data": {
      "text/html": [
       "<pre>| 530              | 8m 45s       | 57.25%           |</pre>"
      ],
      "text/plain": [
       "| 530              | 8m 45s       | 57.25%           |"
      ]
     },
     "metadata": {},
     "output_type": "display_data"
    },
    {
     "data": {
      "text/html": [
       "<pre>| 535              | 8m 50s       | 57.75%           |</pre>"
      ],
      "text/plain": [
       "| 535              | 8m 50s       | 57.75%           |"
      ]
     },
     "metadata": {},
     "output_type": "display_data"
    },
    {
     "data": {
      "text/html": [
       "<pre>| 540              | 8m 55s       | 58.25%           |</pre>"
      ],
      "text/plain": [
       "| 540              | 8m 55s       | 58.25%           |"
      ]
     },
     "metadata": {},
     "output_type": "display_data"
    },
    {
     "data": {
      "text/html": [
       "<pre>| 545              | 9m 1s        | 58.75%           |</pre>"
      ],
      "text/plain": [
       "| 545              | 9m 1s        | 58.75%           |"
      ]
     },
     "metadata": {},
     "output_type": "display_data"
    },
    {
     "data": {
      "text/html": [
       "<pre>| 550              | 9m 6s        | 59.5%            |</pre>"
      ],
      "text/plain": [
       "| 550              | 9m 6s        | 59.5%            |"
      ]
     },
     "metadata": {},
     "output_type": "display_data"
    },
    {
     "data": {
      "text/html": [
       "<pre>| 555              | 9m 11s       | 60%              |</pre>"
      ],
      "text/plain": [
       "| 555              | 9m 11s       | 60%              |"
      ]
     },
     "metadata": {},
     "output_type": "display_data"
    },
    {
     "data": {
      "text/html": [
       "<pre>| 560              | 9m 16s       | 60.5%            |</pre>"
      ],
      "text/plain": [
       "| 560              | 9m 16s       | 60.5%            |"
      ]
     },
     "metadata": {},
     "output_type": "display_data"
    },
    {
     "data": {
      "text/html": [
       "<pre>| 565              | 9m 21s       | 61%              |</pre>"
      ],
      "text/plain": [
       "| 565              | 9m 21s       | 61%              |"
      ]
     },
     "metadata": {},
     "output_type": "display_data"
    },
    {
     "data": {
      "text/html": [
       "<pre>| 570              | 9m 27s       | 61.5%            |</pre>"
      ],
      "text/plain": [
       "| 570              | 9m 27s       | 61.5%            |"
      ]
     },
     "metadata": {},
     "output_type": "display_data"
    },
    {
     "data": {
      "text/html": [
       "<pre>| 575              | 9m 32s       | 62%              |</pre>"
      ],
      "text/plain": [
       "| 575              | 9m 32s       | 62%              |"
      ]
     },
     "metadata": {},
     "output_type": "display_data"
    },
    {
     "data": {
      "text/html": [
       "<pre>| 580              | 9m 37s       | 62.75%           |</pre>"
      ],
      "text/plain": [
       "| 580              | 9m 37s       | 62.75%           |"
      ]
     },
     "metadata": {},
     "output_type": "display_data"
    },
    {
     "data": {
      "text/html": [
       "<pre>| 585              | 9m 42s       | 63.25%           |</pre>"
      ],
      "text/plain": [
       "| 585              | 9m 42s       | 63.25%           |"
      ]
     },
     "metadata": {},
     "output_type": "display_data"
    },
    {
     "data": {
      "text/html": [
       "<pre>| 590              | 9m 47s       | 63.75%           |</pre>"
      ],
      "text/plain": [
       "| 590              | 9m 47s       | 63.75%           |"
      ]
     },
     "metadata": {},
     "output_type": "display_data"
    },
    {
     "data": {
      "text/html": [
       "<pre>| 595              | 9m 52s       | 64.25%           |</pre>"
      ],
      "text/plain": [
       "| 595              | 9m 52s       | 64.25%           |"
      ]
     },
     "metadata": {},
     "output_type": "display_data"
    },
    {
     "data": {
      "text/html": [
       "<pre>| 600              | 9m 57s       | 64.75%           |</pre>"
      ],
      "text/plain": [
       "| 600              | 9m 57s       | 64.75%           |"
      ]
     },
     "metadata": {},
     "output_type": "display_data"
    },
    {
     "data": {
      "text/html": [
       "<pre>| 605              | 10m 2s       | 65.25%           |</pre>"
      ],
      "text/plain": [
       "| 605              | 10m 2s       | 65.25%           |"
      ]
     },
     "metadata": {},
     "output_type": "display_data"
    },
    {
     "data": {
      "text/html": [
       "<pre>| 610              | 10m 7s       | 66%              |</pre>"
      ],
      "text/plain": [
       "| 610              | 10m 7s       | 66%              |"
      ]
     },
     "metadata": {},
     "output_type": "display_data"
    },
    {
     "data": {
      "text/html": [
       "<pre>| 615              | 10m 12s      | 66.5%            |</pre>"
      ],
      "text/plain": [
       "| 615              | 10m 12s      | 66.5%            |"
      ]
     },
     "metadata": {},
     "output_type": "display_data"
    },
    {
     "data": {
      "text/html": [
       "<pre>| 620              | 10m 17s      | 67%              |</pre>"
      ],
      "text/plain": [
       "| 620              | 10m 17s      | 67%              |"
      ]
     },
     "metadata": {},
     "output_type": "display_data"
    },
    {
     "data": {
      "text/html": [
       "<pre>| 625              | 10m 22s      | 67.5%            |</pre>"
      ],
      "text/plain": [
       "| 625              | 10m 22s      | 67.5%            |"
      ]
     },
     "metadata": {},
     "output_type": "display_data"
    },
    {
     "data": {
      "text/html": [
       "<pre>| 630              | 10m 27s      | 68%              |</pre>"
      ],
      "text/plain": [
       "| 630              | 10m 27s      | 68%              |"
      ]
     },
     "metadata": {},
     "output_type": "display_data"
    },
    {
     "data": {
      "text/html": [
       "<pre>| 635              | 10m 32s      | 68.5%            |</pre>"
      ],
      "text/plain": [
       "| 635              | 10m 32s      | 68.5%            |"
      ]
     },
     "metadata": {},
     "output_type": "display_data"
    },
    {
     "data": {
      "text/html": [
       "<pre>| 640              | 10m 37s      | 69.25%           |</pre>"
      ],
      "text/plain": [
       "| 640              | 10m 37s      | 69.25%           |"
      ]
     },
     "metadata": {},
     "output_type": "display_data"
    },
    {
     "data": {
      "text/html": [
       "<pre>| 645              | 10m 42s      | 69.75%           |</pre>"
      ],
      "text/plain": [
       "| 645              | 10m 42s      | 69.75%           |"
      ]
     },
     "metadata": {},
     "output_type": "display_data"
    },
    {
     "data": {
      "text/html": [
       "<pre>| 650              | 10m 47s      | 70.25%           |</pre>"
      ],
      "text/plain": [
       "| 650              | 10m 47s      | 70.25%           |"
      ]
     },
     "metadata": {},
     "output_type": "display_data"
    },
    {
     "data": {
      "text/html": [
       "<pre>| 655              | 10m 52s      | 70.75%           |</pre>"
      ],
      "text/plain": [
       "| 655              | 10m 52s      | 70.75%           |"
      ]
     },
     "metadata": {},
     "output_type": "display_data"
    },
    {
     "data": {
      "text/html": [
       "<pre>| 660              | 10m 57s      | 71.25%           |</pre>"
      ],
      "text/plain": [
       "| 660              | 10m 57s      | 71.25%           |"
      ]
     },
     "metadata": {},
     "output_type": "display_data"
    },
    {
     "data": {
      "text/html": [
       "<pre>| 665              | 11m 3s       | 71.75%           |</pre>"
      ],
      "text/plain": [
       "| 665              | 11m 3s       | 71.75%           |"
      ]
     },
     "metadata": {},
     "output_type": "display_data"
    },
    {
     "data": {
      "text/html": [
       "<pre>| 670              | 11m 8s       | 72.5%            |</pre>"
      ],
      "text/plain": [
       "| 670              | 11m 8s       | 72.5%            |"
      ]
     },
     "metadata": {},
     "output_type": "display_data"
    },
    {
     "data": {
      "text/html": [
       "<pre>| 675              | 11m 13s      | 73%              |</pre>"
      ],
      "text/plain": [
       "| 675              | 11m 13s      | 73%              |"
      ]
     },
     "metadata": {},
     "output_type": "display_data"
    },
    {
     "data": {
      "text/html": [
       "<pre>| 680              | 11m 18s      | 73.5%            |</pre>"
      ],
      "text/plain": [
       "| 680              | 11m 18s      | 73.5%            |"
      ]
     },
     "metadata": {},
     "output_type": "display_data"
    },
    {
     "data": {
      "text/html": [
       "<pre>| 685              | 11m 23s      | 74%              |</pre>"
      ],
      "text/plain": [
       "| 685              | 11m 23s      | 74%              |"
      ]
     },
     "metadata": {},
     "output_type": "display_data"
    },
    {
     "data": {
      "text/html": [
       "<pre>| 690              | 11m 28s      | 74.5%            |</pre>"
      ],
      "text/plain": [
       "| 690              | 11m 28s      | 74.5%            |"
      ]
     },
     "metadata": {},
     "output_type": "display_data"
    },
    {
     "data": {
      "text/html": [
       "<pre>| 695              | 11m 33s      | 75%              |</pre>"
      ],
      "text/plain": [
       "| 695              | 11m 33s      | 75%              |"
      ]
     },
     "metadata": {},
     "output_type": "display_data"
    },
    {
     "data": {
      "text/html": [
       "<pre>| 700              | 11m 38s      | 75.75%           |</pre>"
      ],
      "text/plain": [
       "| 700              | 11m 38s      | 75.75%           |"
      ]
     },
     "metadata": {},
     "output_type": "display_data"
    },
    {
     "data": {
      "text/html": [
       "<pre>| 705              | 11m 43s      | 76.25%           |</pre>"
      ],
      "text/plain": [
       "| 705              | 11m 43s      | 76.25%           |"
      ]
     },
     "metadata": {},
     "output_type": "display_data"
    },
    {
     "data": {
      "text/html": [
       "<pre>| 710              | 11m 48s      | 76.75%           |</pre>"
      ],
      "text/plain": [
       "| 710              | 11m 48s      | 76.75%           |"
      ]
     },
     "metadata": {},
     "output_type": "display_data"
    },
    {
     "data": {
      "text/html": [
       "<pre>| 715              | 11m 53s      | 77.25%           |</pre>"
      ],
      "text/plain": [
       "| 715              | 11m 53s      | 77.25%           |"
      ]
     },
     "metadata": {},
     "output_type": "display_data"
    },
    {
     "data": {
      "text/html": [
       "<pre>| 720              | 11m 58s      | 77.75%           |</pre>"
      ],
      "text/plain": [
       "| 720              | 11m 58s      | 77.75%           |"
      ]
     },
     "metadata": {},
     "output_type": "display_data"
    },
    {
     "data": {
      "text/html": [
       "<pre>| 725              | 12m 3s       | 78.25%           |</pre>"
      ],
      "text/plain": [
       "| 725              | 12m 3s       | 78.25%           |"
      ]
     },
     "metadata": {},
     "output_type": "display_data"
    },
    {
     "data": {
      "text/html": [
       "<pre>| 730              | 12m 8s       | 79%              |</pre>"
      ],
      "text/plain": [
       "| 730              | 12m 8s       | 79%              |"
      ]
     },
     "metadata": {},
     "output_type": "display_data"
    },
    {
     "data": {
      "text/html": [
       "<pre>| 735              | 12m 13s      | 79.5%            |</pre>"
      ],
      "text/plain": [
       "| 735              | 12m 13s      | 79.5%            |"
      ]
     },
     "metadata": {},
     "output_type": "display_data"
    },
    {
     "data": {
      "text/html": [
       "<pre>| 740              | 12m 18s      | 80%              |</pre>"
      ],
      "text/plain": [
       "| 740              | 12m 18s      | 80%              |"
      ]
     },
     "metadata": {},
     "output_type": "display_data"
    },
    {
     "data": {
      "text/html": [
       "<pre>| 745              | 12m 22s      | 80.5%            |</pre>"
      ],
      "text/plain": [
       "| 745              | 12m 22s      | 80.5%            |"
      ]
     },
     "metadata": {},
     "output_type": "display_data"
    },
    {
     "data": {
      "text/html": [
       "<pre>| 750              | 12m 27s      | 81%              |</pre>"
      ],
      "text/plain": [
       "| 750              | 12m 27s      | 81%              |"
      ]
     },
     "metadata": {},
     "output_type": "display_data"
    },
    {
     "data": {
      "text/html": [
       "<pre>| 755              | 12m 32s      | 81.5%            |</pre>"
      ],
      "text/plain": [
       "| 755              | 12m 32s      | 81.5%            |"
      ]
     },
     "metadata": {},
     "output_type": "display_data"
    },
    {
     "data": {
      "text/html": [
       "<pre>| 760              | 12m 38s      | 82.25%           |</pre>"
      ],
      "text/plain": [
       "| 760              | 12m 38s      | 82.25%           |"
      ]
     },
     "metadata": {},
     "output_type": "display_data"
    },
    {
     "data": {
      "text/html": [
       "<pre>| 765              | 12m 43s      | 82.75%           |</pre>"
      ],
      "text/plain": [
       "| 765              | 12m 43s      | 82.75%           |"
      ]
     },
     "metadata": {},
     "output_type": "display_data"
    },
    {
     "data": {
      "text/html": [
       "<pre>| 770              | 12m 48s      | 83.25%           |</pre>"
      ],
      "text/plain": [
       "| 770              | 12m 48s      | 83.25%           |"
      ]
     },
     "metadata": {},
     "output_type": "display_data"
    },
    {
     "data": {
      "text/html": [
       "<pre>| 775              | 12m 53s      | 83.75%           |</pre>"
      ],
      "text/plain": [
       "| 775              | 12m 53s      | 83.75%           |"
      ]
     },
     "metadata": {},
     "output_type": "display_data"
    },
    {
     "data": {
      "text/html": [
       "<pre>| 780              | 12m 58s      | 84.25%           |</pre>"
      ],
      "text/plain": [
       "| 780              | 12m 58s      | 84.25%           |"
      ]
     },
     "metadata": {},
     "output_type": "display_data"
    },
    {
     "data": {
      "text/html": [
       "<pre>| 785              | 13m 3s       | 84.75%           |</pre>"
      ],
      "text/plain": [
       "| 785              | 13m 3s       | 84.75%           |"
      ]
     },
     "metadata": {},
     "output_type": "display_data"
    },
    {
     "data": {
      "text/html": [
       "<pre>| 790              | 13m 8s       | 85.25%           |</pre>"
      ],
      "text/plain": [
       "| 790              | 13m 8s       | 85.25%           |"
      ]
     },
     "metadata": {},
     "output_type": "display_data"
    },
    {
     "data": {
      "text/html": [
       "<pre>| 795              | 13m 13s      | 86%              |</pre>"
      ],
      "text/plain": [
       "| 795              | 13m 13s      | 86%              |"
      ]
     },
     "metadata": {},
     "output_type": "display_data"
    },
    {
     "data": {
      "text/html": [
       "<pre>| 800              | 13m 18s      | 86.5%            |</pre>"
      ],
      "text/plain": [
       "| 800              | 13m 18s      | 86.5%            |"
      ]
     },
     "metadata": {},
     "output_type": "display_data"
    },
    {
     "data": {
      "text/html": [
       "<pre>| 805              | 13m 23s      | 87%              |</pre>"
      ],
      "text/plain": [
       "| 805              | 13m 23s      | 87%              |"
      ]
     },
     "metadata": {},
     "output_type": "display_data"
    },
    {
     "data": {
      "text/html": [
       "<pre>| 810              | 13m 27s      | 87.5%            |</pre>"
      ],
      "text/plain": [
       "| 810              | 13m 27s      | 87.5%            |"
      ]
     },
     "metadata": {},
     "output_type": "display_data"
    },
    {
     "data": {
      "text/html": [
       "<pre>| 815              | 13m 32s      | 88%              |</pre>"
      ],
      "text/plain": [
       "| 815              | 13m 32s      | 88%              |"
      ]
     },
     "metadata": {},
     "output_type": "display_data"
    },
    {
     "data": {
      "text/html": [
       "<pre>| 820              | 13m 38s      | 88.5%            |</pre>"
      ],
      "text/plain": [
       "| 820              | 13m 38s      | 88.5%            |"
      ]
     },
     "metadata": {},
     "output_type": "display_data"
    },
    {
     "data": {
      "text/html": [
       "<pre>| 825              | 13m 43s      | 89.25%           |</pre>"
      ],
      "text/plain": [
       "| 825              | 13m 43s      | 89.25%           |"
      ]
     },
     "metadata": {},
     "output_type": "display_data"
    },
    {
     "data": {
      "text/html": [
       "<pre>| 830              | 13m 48s      | 89.75%           |</pre>"
      ],
      "text/plain": [
       "| 830              | 13m 48s      | 89.75%           |"
      ]
     },
     "metadata": {},
     "output_type": "display_data"
    },
    {
     "data": {
      "text/html": [
       "<pre>| 835              | 13m 53s      | 90.25%           |</pre>"
      ],
      "text/plain": [
       "| 835              | 13m 53s      | 90.25%           |"
      ]
     },
     "metadata": {},
     "output_type": "display_data"
    },
    {
     "data": {
      "text/html": [
       "<pre>| 840              | 13m 58s      | 90.75%           |</pre>"
      ],
      "text/plain": [
       "| 840              | 13m 58s      | 90.75%           |"
      ]
     },
     "metadata": {},
     "output_type": "display_data"
    },
    {
     "data": {
      "text/html": [
       "<pre>| 845              | 14m 3s       | 91.25%           |</pre>"
      ],
      "text/plain": [
       "| 845              | 14m 3s       | 91.25%           |"
      ]
     },
     "metadata": {},
     "output_type": "display_data"
    },
    {
     "data": {
      "text/html": [
       "<pre>| 850              | 14m 8s       | 91.75%           |</pre>"
      ],
      "text/plain": [
       "| 850              | 14m 8s       | 91.75%           |"
      ]
     },
     "metadata": {},
     "output_type": "display_data"
    },
    {
     "data": {
      "text/html": [
       "<pre>| 855              | 14m 13s      | 92.5%            |</pre>"
      ],
      "text/plain": [
       "| 855              | 14m 13s      | 92.5%            |"
      ]
     },
     "metadata": {},
     "output_type": "display_data"
    },
    {
     "data": {
      "text/html": [
       "<pre>| 860              | 14m 18s      | 93%              |</pre>"
      ],
      "text/plain": [
       "| 860              | 14m 18s      | 93%              |"
      ]
     },
     "metadata": {},
     "output_type": "display_data"
    },
    {
     "data": {
      "text/html": [
       "<pre>| 865              | 14m 23s      | 93.5%            |</pre>"
      ],
      "text/plain": [
       "| 865              | 14m 23s      | 93.5%            |"
      ]
     },
     "metadata": {},
     "output_type": "display_data"
    },
    {
     "data": {
      "text/html": [
       "<pre>| 870              | 14m 28s      | 94%              |</pre>"
      ],
      "text/plain": [
       "| 870              | 14m 28s      | 94%              |"
      ]
     },
     "metadata": {},
     "output_type": "display_data"
    },
    {
     "data": {
      "text/html": [
       "<pre>| 875              | 14m 32s      | 94.5%            |</pre>"
      ],
      "text/plain": [
       "| 875              | 14m 32s      | 94.5%            |"
      ]
     },
     "metadata": {},
     "output_type": "display_data"
    },
    {
     "data": {
      "text/html": [
       "<pre>| 880              | 14m 37s      | 95%              |</pre>"
      ],
      "text/plain": [
       "| 880              | 14m 37s      | 95%              |"
      ]
     },
     "metadata": {},
     "output_type": "display_data"
    },
    {
     "data": {
      "text/html": [
       "<pre>| 885              | 14m 42s      | 95.75%           |</pre>"
      ],
      "text/plain": [
       "| 885              | 14m 42s      | 95.75%           |"
      ]
     },
     "metadata": {},
     "output_type": "display_data"
    },
    {
     "data": {
      "text/html": [
       "<pre>| 890              | 14m 47s      | 96.25%           |</pre>"
      ],
      "text/plain": [
       "| 890              | 14m 47s      | 96.25%           |"
      ]
     },
     "metadata": {},
     "output_type": "display_data"
    },
    {
     "data": {
      "text/html": [
       "<pre>| 895              | 14m 53s      | 96.75%           |</pre>"
      ],
      "text/plain": [
       "| 895              | 14m 53s      | 96.75%           |"
      ]
     },
     "metadata": {},
     "output_type": "display_data"
    },
    {
     "data": {
      "text/html": [
       "<pre>| 900              | 14m 58s      | 97.25%           |</pre>"
      ],
      "text/plain": [
       "| 900              | 14m 58s      | 97.25%           |"
      ]
     },
     "metadata": {},
     "output_type": "display_data"
    },
    {
     "data": {
      "text/html": [
       "<pre>| 905              | 15m 3s       | 97.75%           |</pre>"
      ],
      "text/plain": [
       "| 905              | 15m 3s       | 97.75%           |"
      ]
     },
     "metadata": {},
     "output_type": "display_data"
    },
    {
     "data": {
      "text/html": [
       "<pre>| 910              | 15m 7s       | 98.25%           |</pre>"
      ],
      "text/plain": [
       "| 910              | 15m 7s       | 98.25%           |"
      ]
     },
     "metadata": {},
     "output_type": "display_data"
    },
    {
     "data": {
      "text/html": [
       "<pre>| 915              | 15m 12s      | 99%              |</pre>"
      ],
      "text/plain": [
       "| 915              | 15m 12s      | 99%              |"
      ]
     },
     "metadata": {},
     "output_type": "display_data"
    },
    {
     "data": {
      "text/html": [
       "<pre>| 920              | 15m 17s      | 99.5%            |</pre>"
      ],
      "text/plain": [
       "| 920              | 15m 17s      | 99.5%            |"
      ]
     },
     "metadata": {},
     "output_type": "display_data"
    },
    {
     "data": {
      "text/html": [
       "<pre>| 923              | 15m 20s      | 99.75%           |</pre>"
      ],
      "text/plain": [
       "| 923              | 15m 20s      | 99.75%           |"
      ]
     },
     "metadata": {},
     "output_type": "display_data"
    },
    {
     "data": {
      "text/html": [
       "<pre>+------------------+--------------+------------------+</pre>"
      ],
      "text/plain": [
       "+------------------+--------------+------------------+"
      ]
     },
     "metadata": {},
     "output_type": "display_data"
    },
    {
     "name": "stdout",
     "output_type": "stream",
     "text": [
      "Using 'image' as feature column\n",
      "Using 'label' as annotations column\n",
      "Setting 'batch_size' to 16\n",
      "Using GPU to create model (AMD Radeon Pro 455)\n"
     ]
    }
   ],
   "source": [
    "# Create an object detection model\n",
    "model = tc.one_shot_object_detector.create(starter_images, 'label', backgrounds=my_backgrounds, batch_size=1)"
   ]
  },
  {
   "cell_type": "code",
   "execution_count": null,
   "metadata": {},
   "outputs": [],
   "source": [
    "model"
   ]
  }
 ],
 "metadata": {
  "kernelspec": {
   "display_name": "Python 3",
   "language": "python",
   "name": "python3"
  },
  "language_info": {
   "codemirror_mode": {
    "name": "ipython",
    "version": 3
   },
   "file_extension": ".py",
   "mimetype": "text/x-python",
   "name": "python",
   "nbconvert_exporter": "python",
   "pygments_lexer": "ipython3",
   "version": "3.6.8"
  }
 },
 "nbformat": 4,
 "nbformat_minor": 2
}
