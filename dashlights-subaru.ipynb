{
 "cells": [
  {
   "cell_type": "code",
   "execution_count": 1,
   "metadata": {},
   "outputs": [],
   "source": [
    "# Import libraries\n",
    "import tarfile\n",
    "import urllib\n",
    "import turicreate as tc\n",
    "import os\n",
    "tc.config.set_num_gpus(-1)"
   ]
  },
  {
   "cell_type": "code",
   "execution_count": 2,
   "metadata": {},
   "outputs": [],
   "source": [
    "# Specify the data set\n",
    "starter_images =  tc.load_images('DashLight-Subaru/')"
   ]
  },
  {
   "cell_type": "code",
   "execution_count": 3,
   "metadata": {},
   "outputs": [
    {
     "data": {
      "text/html": [
       "<div style=\"max-height:1000px;max-width:1500px;overflow:auto;\"><table frame=\"box\" rules=\"cols\">\n",
       "    <tr>\n",
       "        <th style=\"padding-left: 1em; padding-right: 1em; text-align: center\">path</th>\n",
       "        <th style=\"padding-left: 1em; padding-right: 1em; text-align: center\">image</th>\n",
       "    </tr>\n",
       "    <tr>\n",
       "        <td style=\"padding-left: 1em; padding-right: 1em; text-align: center; vertical-align: top\">DashLight-Subaru/ABS-<br>Warning-Indicator- ...</td>\n",
       "        <td style=\"padding-left: 1em; padding-right: 1em; text-align: center; vertical-align: top\">Height: 50 Width: 50</td>\n",
       "    </tr>\n",
       "    <tr>\n",
       "        <td style=\"padding-left: 1em; padding-right: 1em; text-align: center; vertical-align: top\">DashLight-Subaru/ATOIL-<br>TEMP_warning.png ...</td>\n",
       "        <td style=\"padding-left: 1em; padding-right: 1em; text-align: center; vertical-align: top\">Height: 50 Width: 50</td>\n",
       "    </tr>\n",
       "    <tr>\n",
       "        <td style=\"padding-left: 1em; padding-right: 1em; text-align: center; vertical-align: top\">DashLight-<br>Subaru/AWD_warning.png ...</td>\n",
       "        <td style=\"padding-left: 1em; padding-right: 1em; text-align: center; vertical-align: top\">Height: 50 Width: 50</td>\n",
       "    </tr>\n",
       "    <tr>\n",
       "        <td style=\"padding-left: 1em; padding-right: 1em; text-align: center; vertical-align: top\">DashLight-Subaru/Check-<br>Engine-Warning-Indica ...</td>\n",
       "        <td style=\"padding-left: 1em; padding-right: 1em; text-align: center; vertical-align: top\">Height: 50 Width: 50</td>\n",
       "    </tr>\n",
       "    <tr>\n",
       "        <td style=\"padding-left: 1em; padding-right: 1em; text-align: center; vertical-align: top\">DashLight-Subaru/Coolant-<br>Temp-Low-High-Indicator- ...</td>\n",
       "        <td style=\"padding-left: 1em; padding-right: 1em; text-align: center; vertical-align: top\">Height: 50 Width: 50</td>\n",
       "    </tr>\n",
       "    <tr>\n",
       "        <td style=\"padding-left: 1em; padding-right: 1em; text-align: center; vertical-align: top\">DashLight-Subaru/Engine_L<br>owOIL_warning-light.png ...</td>\n",
       "        <td style=\"padding-left: 1em; padding-right: 1em; text-align: center; vertical-align: top\">Height: 50 Width: 50</td>\n",
       "    </tr>\n",
       "    <tr>\n",
       "        <td style=\"padding-left: 1em; padding-right: 1em; text-align: center; vertical-align: top\">DashLight-Subaru/HillStar<br>tAssist_warning-light ...</td>\n",
       "        <td style=\"padding-left: 1em; padding-right: 1em; text-align: center; vertical-align: top\">Height: 50 Width: 50</td>\n",
       "    </tr>\n",
       "    <tr>\n",
       "        <td style=\"padding-left: 1em; padding-right: 1em; text-align: center; vertical-align: top\">DashLight-Subaru/Icy-<br>Road-Surface-Warning- ...</td>\n",
       "        <td style=\"padding-left: 1em; padding-right: 1em; text-align: center; vertical-align: top\">Height: 50 Width: 50</td>\n",
       "    </tr>\n",
       "    <tr>\n",
       "        <td style=\"padding-left: 1em; padding-right: 1em; text-align: center; vertical-align: top\">DashLight-Subaru/Oil-<br>Pressure_warning- ...</td>\n",
       "        <td style=\"padding-left: 1em; padding-right: 1em; text-align: center; vertical-align: top\">Height: 50 Width: 50</td>\n",
       "    </tr>\n",
       "    <tr>\n",
       "        <td style=\"padding-left: 1em; padding-right: 1em; text-align: center; vertical-align: top\">DashLight-Subaru/PowerSte<br>ering_warning-light.png ...</td>\n",
       "        <td style=\"padding-left: 1em; padding-right: 1em; text-align: center; vertical-align: top\">Height: 50 Width: 50</td>\n",
       "    </tr>\n",
       "</table>\n",
       "[16 rows x 2 columns]<br/>Note: Only the head of the SFrame is printed.<br/>You can use print_rows(num_rows=m, num_columns=n) to print more rows and columns.\n",
       "</div>"
      ],
      "text/plain": [
       "Columns:\n",
       "\tpath\tstr\n",
       "\timage\tImage\n",
       "\n",
       "Rows: 16\n",
       "\n",
       "Data:\n",
       "+-------------------------------+----------------------+\n",
       "|              path             |        image         |\n",
       "+-------------------------------+----------------------+\n",
       "| DashLight-Subaru/ABS-Warni... | Height: 50 Width: 50 |\n",
       "| DashLight-Subaru/ATOIL-TEM... | Height: 50 Width: 50 |\n",
       "| DashLight-Subaru/AWD_warni... | Height: 50 Width: 50 |\n",
       "| DashLight-Subaru/Check-Eng... | Height: 50 Width: 50 |\n",
       "| DashLight-Subaru/Coolant-T... | Height: 50 Width: 50 |\n",
       "| DashLight-Subaru/Engine_Lo... | Height: 50 Width: 50 |\n",
       "| DashLight-Subaru/HillStart... | Height: 50 Width: 50 |\n",
       "| DashLight-Subaru/Icy-Road-... | Height: 50 Width: 50 |\n",
       "| DashLight-Subaru/Oil-Press... | Height: 50 Width: 50 |\n",
       "| DashLight-Subaru/PowerStee... | Height: 50 Width: 50 |\n",
       "+-------------------------------+----------------------+\n",
       "[16 rows x 2 columns]\n",
       "Note: Only the head of the SFrame is printed.\n",
       "You can use print_rows(num_rows=m, num_columns=n) to print more rows and columns."
      ]
     },
     "execution_count": 3,
     "metadata": {},
     "output_type": "execute_result"
    }
   ],
   "source": [
    "starter_images"
   ]
  },
  {
   "cell_type": "code",
   "execution_count": 4,
   "metadata": {},
   "outputs": [],
   "source": [
    "starter_images['label'] = starter_images['path'].element_slice(17,-4)"
   ]
  },
  {
   "cell_type": "code",
   "execution_count": 5,
   "metadata": {},
   "outputs": [
    {
     "data": {
      "text/html": [
       "<div style=\"max-height:1000px;max-width:1500px;overflow:auto;\"><table frame=\"box\" rules=\"cols\">\n",
       "    <tr>\n",
       "        <th style=\"padding-left: 1em; padding-right: 1em; text-align: center\">path</th>\n",
       "        <th style=\"padding-left: 1em; padding-right: 1em; text-align: center\">image</th>\n",
       "        <th style=\"padding-left: 1em; padding-right: 1em; text-align: center\">label</th>\n",
       "    </tr>\n",
       "    <tr>\n",
       "        <td style=\"padding-left: 1em; padding-right: 1em; text-align: center; vertical-align: top\">DashLight-Subaru/ABS-<br>Warning-Indicator- ...</td>\n",
       "        <td style=\"padding-left: 1em; padding-right: 1em; text-align: center; vertical-align: top\">Height: 50 Width: 50</td>\n",
       "        <td style=\"padding-left: 1em; padding-right: 1em; text-align: center; vertical-align: top\">ABS-Warning-Indicator-<br>Lights_50px_x_50px ...</td>\n",
       "    </tr>\n",
       "    <tr>\n",
       "        <td style=\"padding-left: 1em; padding-right: 1em; text-align: center; vertical-align: top\">DashLight-Subaru/ATOIL-<br>TEMP_warning.png ...</td>\n",
       "        <td style=\"padding-left: 1em; padding-right: 1em; text-align: center; vertical-align: top\">Height: 50 Width: 50</td>\n",
       "        <td style=\"padding-left: 1em; padding-right: 1em; text-align: center; vertical-align: top\">ATOIL-TEMP_warning</td>\n",
       "    </tr>\n",
       "    <tr>\n",
       "        <td style=\"padding-left: 1em; padding-right: 1em; text-align: center; vertical-align: top\">DashLight-<br>Subaru/AWD_warning.png ...</td>\n",
       "        <td style=\"padding-left: 1em; padding-right: 1em; text-align: center; vertical-align: top\">Height: 50 Width: 50</td>\n",
       "        <td style=\"padding-left: 1em; padding-right: 1em; text-align: center; vertical-align: top\">AWD_warning</td>\n",
       "    </tr>\n",
       "    <tr>\n",
       "        <td style=\"padding-left: 1em; padding-right: 1em; text-align: center; vertical-align: top\">DashLight-Subaru/Check-<br>Engine-Warning-Indica ...</td>\n",
       "        <td style=\"padding-left: 1em; padding-right: 1em; text-align: center; vertical-align: top\">Height: 50 Width: 50</td>\n",
       "        <td style=\"padding-left: 1em; padding-right: 1em; text-align: center; vertical-align: top\">Check-Engine-Warning-<br>Indicator- ...</td>\n",
       "    </tr>\n",
       "    <tr>\n",
       "        <td style=\"padding-left: 1em; padding-right: 1em; text-align: center; vertical-align: top\">DashLight-Subaru/Coolant-<br>Temp-Low-High-Indicator- ...</td>\n",
       "        <td style=\"padding-left: 1em; padding-right: 1em; text-align: center; vertical-align: top\">Height: 50 Width: 50</td>\n",
       "        <td style=\"padding-left: 1em; padding-right: 1em; text-align: center; vertical-align: top\">Coolant-Temp-Low-High-<br>Indicator-Light ...</td>\n",
       "    </tr>\n",
       "    <tr>\n",
       "        <td style=\"padding-left: 1em; padding-right: 1em; text-align: center; vertical-align: top\">DashLight-Subaru/Engine_L<br>owOIL_warning-light.png ...</td>\n",
       "        <td style=\"padding-left: 1em; padding-right: 1em; text-align: center; vertical-align: top\">Height: 50 Width: 50</td>\n",
       "        <td style=\"padding-left: 1em; padding-right: 1em; text-align: center; vertical-align: top\">Engine_LowOIL_warning-<br>light ...</td>\n",
       "    </tr>\n",
       "    <tr>\n",
       "        <td style=\"padding-left: 1em; padding-right: 1em; text-align: center; vertical-align: top\">DashLight-Subaru/HillStar<br>tAssist_warning-light ...</td>\n",
       "        <td style=\"padding-left: 1em; padding-right: 1em; text-align: center; vertical-align: top\">Height: 50 Width: 50</td>\n",
       "        <td style=\"padding-left: 1em; padding-right: 1em; text-align: center; vertical-align: top\">HillStartAssist_warning-<br>light ...</td>\n",
       "    </tr>\n",
       "    <tr>\n",
       "        <td style=\"padding-left: 1em; padding-right: 1em; text-align: center; vertical-align: top\">DashLight-Subaru/Icy-<br>Road-Surface-Warning- ...</td>\n",
       "        <td style=\"padding-left: 1em; padding-right: 1em; text-align: center; vertical-align: top\">Height: 50 Width: 50</td>\n",
       "        <td style=\"padding-left: 1em; padding-right: 1em; text-align: center; vertical-align: top\">Icy-Road-Surface-Warning-<br>Light ...</td>\n",
       "    </tr>\n",
       "    <tr>\n",
       "        <td style=\"padding-left: 1em; padding-right: 1em; text-align: center; vertical-align: top\">DashLight-Subaru/Oil-<br>Pressure_warning- ...</td>\n",
       "        <td style=\"padding-left: 1em; padding-right: 1em; text-align: center; vertical-align: top\">Height: 50 Width: 50</td>\n",
       "        <td style=\"padding-left: 1em; padding-right: 1em; text-align: center; vertical-align: top\">Oil-Pressure_warning-<br>light ...</td>\n",
       "    </tr>\n",
       "    <tr>\n",
       "        <td style=\"padding-left: 1em; padding-right: 1em; text-align: center; vertical-align: top\">DashLight-Subaru/PowerSte<br>ering_warning-light.png ...</td>\n",
       "        <td style=\"padding-left: 1em; padding-right: 1em; text-align: center; vertical-align: top\">Height: 50 Width: 50</td>\n",
       "        <td style=\"padding-left: 1em; padding-right: 1em; text-align: center; vertical-align: top\">PowerSteering_warning-<br>light ...</td>\n",
       "    </tr>\n",
       "</table>\n",
       "[16 rows x 3 columns]<br/>Note: Only the head of the SFrame is printed.<br/>You can use print_rows(num_rows=m, num_columns=n) to print more rows and columns.\n",
       "</div>"
      ],
      "text/plain": [
       "Columns:\n",
       "\tpath\tstr\n",
       "\timage\tImage\n",
       "\tlabel\tstr\n",
       "\n",
       "Rows: 16\n",
       "\n",
       "Data:\n",
       "+-------------------------------+----------------------+\n",
       "|              path             |        image         |\n",
       "+-------------------------------+----------------------+\n",
       "| DashLight-Subaru/ABS-Warni... | Height: 50 Width: 50 |\n",
       "| DashLight-Subaru/ATOIL-TEM... | Height: 50 Width: 50 |\n",
       "| DashLight-Subaru/AWD_warni... | Height: 50 Width: 50 |\n",
       "| DashLight-Subaru/Check-Eng... | Height: 50 Width: 50 |\n",
       "| DashLight-Subaru/Coolant-T... | Height: 50 Width: 50 |\n",
       "| DashLight-Subaru/Engine_Lo... | Height: 50 Width: 50 |\n",
       "| DashLight-Subaru/HillStart... | Height: 50 Width: 50 |\n",
       "| DashLight-Subaru/Icy-Road-... | Height: 50 Width: 50 |\n",
       "| DashLight-Subaru/Oil-Press... | Height: 50 Width: 50 |\n",
       "| DashLight-Subaru/PowerStee... | Height: 50 Width: 50 |\n",
       "+-------------------------------+----------------------+\n",
       "+--------------------------------+\n",
       "|             label              |\n",
       "+--------------------------------+\n",
       "| ABS-Warning-Indicator-Ligh...  |\n",
       "|       ATOIL-TEMP_warning       |\n",
       "|          AWD_warning           |\n",
       "| Check-Engine-Warning-Indic...  |\n",
       "| Coolant-Temp-Low-High-Indi...  |\n",
       "|  Engine_LowOIL_warning-light   |\n",
       "| HillStartAssist_warning-light  |\n",
       "| Icy-Road-Surface-Warning-Light |\n",
       "|   Oil-Pressure_warning-light   |\n",
       "|  PowerSteering_warning-light   |\n",
       "+--------------------------------+\n",
       "[16 rows x 3 columns]\n",
       "Note: Only the head of the SFrame is printed.\n",
       "You can use print_rows(num_rows=m, num_columns=n) to print more rows and columns."
      ]
     },
     "execution_count": 5,
     "metadata": {},
     "output_type": "execute_result"
    }
   ],
   "source": [
    "starter_images"
   ]
  },
  {
   "cell_type": "code",
   "execution_count": null,
   "metadata": {},
   "outputs": [
    {
     "data": {
      "text/html": [
       "<pre>Augmenting input images using 951 background images.</pre>"
      ],
      "text/plain": [
       "Augmenting input images using 951 background images."
      ]
     },
     "metadata": {},
     "output_type": "display_data"
    },
    {
     "data": {
      "text/html": [
       "<pre>+------------------+--------------+------------------+</pre>"
      ],
      "text/plain": [
       "+------------------+--------------+------------------+"
      ]
     },
     "metadata": {},
     "output_type": "display_data"
    },
    {
     "data": {
      "text/html": [
       "<pre>| Images Augmented | Elapsed Time | Percent Complete |</pre>"
      ],
      "text/plain": [
       "| Images Augmented | Elapsed Time | Percent Complete |"
      ]
     },
     "metadata": {},
     "output_type": "display_data"
    },
    {
     "data": {
      "text/html": [
       "<pre>+------------------+--------------+------------------+</pre>"
      ],
      "text/plain": [
       "+------------------+--------------+------------------+"
      ]
     },
     "metadata": {},
     "output_type": "display_data"
    },
    {
     "data": {
      "text/html": [
       "<pre>| 0                | 5.40s        | 0%               |</pre>"
      ],
      "text/plain": [
       "| 0                | 5.40s        | 0%               |"
      ]
     },
     "metadata": {},
     "output_type": "display_data"
    },
    {
     "data": {
      "text/html": [
       "<pre>| 1                | 5.40s        | 0%               |</pre>"
      ],
      "text/plain": [
       "| 1                | 5.40s        | 0%               |"
      ]
     },
     "metadata": {},
     "output_type": "display_data"
    },
    {
     "data": {
      "text/html": [
       "<pre>| 2                | 5.42s        | 0%               |</pre>"
      ],
      "text/plain": [
       "| 2                | 5.42s        | 0%               |"
      ]
     },
     "metadata": {},
     "output_type": "display_data"
    },
    {
     "data": {
      "text/html": [
       "<pre>| 3                | 5.43s        | 0%               |</pre>"
      ],
      "text/plain": [
       "| 3                | 5.43s        | 0%               |"
      ]
     },
     "metadata": {},
     "output_type": "display_data"
    },
    {
     "data": {
      "text/html": [
       "<pre>| 4                | 5.46s        | 0%               |</pre>"
      ],
      "text/plain": [
       "| 4                | 5.46s        | 0%               |"
      ]
     },
     "metadata": {},
     "output_type": "display_data"
    },
    {
     "data": {
      "text/html": [
       "<pre>| 5                | 5.51s        | 0%               |</pre>"
      ],
      "text/plain": [
       "| 5                | 5.51s        | 0%               |"
      ]
     },
     "metadata": {},
     "output_type": "display_data"
    },
    {
     "data": {
      "text/html": [
       "<pre>| 10               | 5.65s        | 0%               |</pre>"
      ],
      "text/plain": [
       "| 10               | 5.65s        | 0%               |"
      ]
     },
     "metadata": {},
     "output_type": "display_data"
    },
    {
     "data": {
      "text/html": [
       "<pre>| 50               | 7.07s        | 0.25%            |</pre>"
      ],
      "text/plain": [
       "| 50               | 7.07s        | 0.25%            |"
      ]
     },
     "metadata": {},
     "output_type": "display_data"
    },
    {
     "data": {
      "text/html": [
       "<pre>| 100              | 8.33s        | 0.5%             |</pre>"
      ],
      "text/plain": [
       "| 100              | 8.33s        | 0.5%             |"
      ]
     },
     "metadata": {},
     "output_type": "display_data"
    },
    {
     "data": {
      "text/html": [
       "<pre>| 250              | 12.16s       | 1.5%             |</pre>"
      ],
      "text/plain": [
       "| 250              | 12.16s       | 1.5%             |"
      ]
     },
     "metadata": {},
     "output_type": "display_data"
    },
    {
     "data": {
      "text/html": [
       "<pre>| 500              | 21.05s       | 3.25%            |</pre>"
      ],
      "text/plain": [
       "| 500              | 21.05s       | 3.25%            |"
      ]
     },
     "metadata": {},
     "output_type": "display_data"
    },
    {
     "data": {
      "text/html": [
       "<pre>| 750              | 28.39s       | 4.75%            |</pre>"
      ],
      "text/plain": [
       "| 750              | 28.39s       | 4.75%            |"
      ]
     },
     "metadata": {},
     "output_type": "display_data"
    },
    {
     "data": {
      "text/html": [
       "<pre>| 1000             | 42.29s       | 6.5%             |</pre>"
      ],
      "text/plain": [
       "| 1000             | 42.29s       | 6.5%             |"
      ]
     },
     "metadata": {},
     "output_type": "display_data"
    },
    {
     "data": {
      "text/html": [
       "<pre>| 1250             | 50.00s       | 8%               |</pre>"
      ],
      "text/plain": [
       "| 1250             | 50.00s       | 8%               |"
      ]
     },
     "metadata": {},
     "output_type": "display_data"
    },
    {
     "data": {
      "text/html": [
       "<pre>| 1500             | 58.54s       | 9.75%            |</pre>"
      ],
      "text/plain": [
       "| 1500             | 58.54s       | 9.75%            |"
      ]
     },
     "metadata": {},
     "output_type": "display_data"
    },
    {
     "data": {
      "text/html": [
       "<pre>| 1750             | 1m 5s        | 11.5%            |</pre>"
      ],
      "text/plain": [
       "| 1750             | 1m 5s        | 11.5%            |"
      ]
     },
     "metadata": {},
     "output_type": "display_data"
    },
    {
     "data": {
      "text/html": [
       "<pre>| 2000             | 1m 20s       | 13%              |</pre>"
      ],
      "text/plain": [
       "| 2000             | 1m 20s       | 13%              |"
      ]
     },
     "metadata": {},
     "output_type": "display_data"
    },
    {
     "data": {
      "text/html": [
       "<pre>| 2250             | 1m 29s       | 14.75%           |</pre>"
      ],
      "text/plain": [
       "| 2250             | 1m 29s       | 14.75%           |"
      ]
     },
     "metadata": {},
     "output_type": "display_data"
    },
    {
     "data": {
      "text/html": [
       "<pre>| 2500             | 1m 38s       | 16.25%           |</pre>"
      ],
      "text/plain": [
       "| 2500             | 1m 38s       | 16.25%           |"
      ]
     },
     "metadata": {},
     "output_type": "display_data"
    },
    {
     "data": {
      "text/html": [
       "<pre>| 2750             | 1m 46s       | 18%              |</pre>"
      ],
      "text/plain": [
       "| 2750             | 1m 46s       | 18%              |"
      ]
     },
     "metadata": {},
     "output_type": "display_data"
    },
    {
     "data": {
      "text/html": [
       "<pre>| 3000             | 2m 3s        | 19.5%            |</pre>"
      ],
      "text/plain": [
       "| 3000             | 2m 3s        | 19.5%            |"
      ]
     },
     "metadata": {},
     "output_type": "display_data"
    },
    {
     "data": {
      "text/html": [
       "<pre>| 3250             | 2m 12s       | 21.25%           |</pre>"
      ],
      "text/plain": [
       "| 3250             | 2m 12s       | 21.25%           |"
      ]
     },
     "metadata": {},
     "output_type": "display_data"
    },
    {
     "data": {
      "text/html": [
       "<pre>| 3500             | 2m 20s       | 23%              |</pre>"
      ],
      "text/plain": [
       "| 3500             | 2m 20s       | 23%              |"
      ]
     },
     "metadata": {},
     "output_type": "display_data"
    },
    {
     "data": {
      "text/html": [
       "<pre>| 3750             | 2m 28s       | 24.5%            |</pre>"
      ],
      "text/plain": [
       "| 3750             | 2m 28s       | 24.5%            |"
      ]
     },
     "metadata": {},
     "output_type": "display_data"
    },
    {
     "data": {
      "text/html": [
       "<pre>| 4000             | 2m 44s       | 26.25%           |</pre>"
      ],
      "text/plain": [
       "| 4000             | 2m 44s       | 26.25%           |"
      ]
     },
     "metadata": {},
     "output_type": "display_data"
    },
    {
     "data": {
      "text/html": [
       "<pre>| 4250             | 2m 53s       | 27.75%           |</pre>"
      ],
      "text/plain": [
       "| 4250             | 2m 53s       | 27.75%           |"
      ]
     },
     "metadata": {},
     "output_type": "display_data"
    },
    {
     "data": {
      "text/html": [
       "<pre>| 4500             | 3m 2s        | 29.5%            |</pre>"
      ],
      "text/plain": [
       "| 4500             | 3m 2s        | 29.5%            |"
      ]
     },
     "metadata": {},
     "output_type": "display_data"
    },
    {
     "data": {
      "text/html": [
       "<pre>| 4750             | 3m 9s        | 31%              |</pre>"
      ],
      "text/plain": [
       "| 4750             | 3m 9s        | 31%              |"
      ]
     },
     "metadata": {},
     "output_type": "display_data"
    },
    {
     "data": {
      "text/html": [
       "<pre>| 5000             | 3m 28s       | 32.75%           |</pre>"
      ],
      "text/plain": [
       "| 5000             | 3m 28s       | 32.75%           |"
      ]
     },
     "metadata": {},
     "output_type": "display_data"
    },
    {
     "data": {
      "text/html": [
       "<pre>| 5250             | 3m 38s       | 34.5%            |</pre>"
      ],
      "text/plain": [
       "| 5250             | 3m 38s       | 34.5%            |"
      ]
     },
     "metadata": {},
     "output_type": "display_data"
    },
    {
     "data": {
      "text/html": [
       "<pre>| 5500             | 3m 46s       | 36%              |</pre>"
      ],
      "text/plain": [
       "| 5500             | 3m 46s       | 36%              |"
      ]
     },
     "metadata": {},
     "output_type": "display_data"
    },
    {
     "data": {
      "text/html": [
       "<pre>| 5750             | 4m 3s        | 37.75%           |</pre>"
      ],
      "text/plain": [
       "| 5750             | 4m 3s        | 37.75%           |"
      ]
     },
     "metadata": {},
     "output_type": "display_data"
    },
    {
     "data": {
      "text/html": [
       "<pre>| 6000             | 4m 11s       | 39.25%           |</pre>"
      ],
      "text/plain": [
       "| 6000             | 4m 11s       | 39.25%           |"
      ]
     },
     "metadata": {},
     "output_type": "display_data"
    },
    {
     "data": {
      "text/html": [
       "<pre>| 6250             | 4m 20s       | 41%              |</pre>"
      ],
      "text/plain": [
       "| 6250             | 4m 20s       | 41%              |"
      ]
     },
     "metadata": {},
     "output_type": "display_data"
    },
    {
     "data": {
      "text/html": [
       "<pre>| 6500             | 4m 28s       | 42.5%            |</pre>"
      ],
      "text/plain": [
       "| 6500             | 4m 28s       | 42.5%            |"
      ]
     },
     "metadata": {},
     "output_type": "display_data"
    },
    {
     "data": {
      "text/html": [
       "<pre>| 6750             | 4m 45s       | 44.25%           |</pre>"
      ],
      "text/plain": [
       "| 6750             | 4m 45s       | 44.25%           |"
      ]
     },
     "metadata": {},
     "output_type": "display_data"
    },
    {
     "data": {
      "text/html": [
       "<pre>| 7000             | 4m 53s       | 46%              |</pre>"
      ],
      "text/plain": [
       "| 7000             | 4m 53s       | 46%              |"
      ]
     },
     "metadata": {},
     "output_type": "display_data"
    },
    {
     "data": {
      "text/html": [
       "<pre>| 7250             | 5m 2s        | 47.5%            |</pre>"
      ],
      "text/plain": [
       "| 7250             | 5m 2s        | 47.5%            |"
      ]
     },
     "metadata": {},
     "output_type": "display_data"
    },
    {
     "data": {
      "text/html": [
       "<pre>| 7500             | 5m 10s       | 49.25%           |</pre>"
      ],
      "text/plain": [
       "| 7500             | 5m 10s       | 49.25%           |"
      ]
     },
     "metadata": {},
     "output_type": "display_data"
    },
    {
     "data": {
      "text/html": [
       "<pre>| 7750             | 5m 27s       | 50.75%           |</pre>"
      ],
      "text/plain": [
       "| 7750             | 5m 27s       | 50.75%           |"
      ]
     },
     "metadata": {},
     "output_type": "display_data"
    },
    {
     "data": {
      "text/html": [
       "<pre>| 8000             | 5m 36s       | 52.5%            |</pre>"
      ],
      "text/plain": [
       "| 8000             | 5m 36s       | 52.5%            |"
      ]
     },
     "metadata": {},
     "output_type": "display_data"
    },
    {
     "data": {
      "text/html": [
       "<pre>| 8250             | 5m 44s       | 54%              |</pre>"
      ],
      "text/plain": [
       "| 8250             | 5m 44s       | 54%              |"
      ]
     },
     "metadata": {},
     "output_type": "display_data"
    },
    {
     "data": {
      "text/html": [
       "<pre>| 8500             | 5m 52s       | 55.75%           |</pre>"
      ],
      "text/plain": [
       "| 8500             | 5m 52s       | 55.75%           |"
      ]
     },
     "metadata": {},
     "output_type": "display_data"
    },
    {
     "data": {
      "text/html": [
       "<pre>| 8750             | 6m 9s        | 57.5%            |</pre>"
      ],
      "text/plain": [
       "| 8750             | 6m 9s        | 57.5%            |"
      ]
     },
     "metadata": {},
     "output_type": "display_data"
    },
    {
     "data": {
      "text/html": [
       "<pre>| 9000             | 6m 18s       | 59%              |</pre>"
      ],
      "text/plain": [
       "| 9000             | 6m 18s       | 59%              |"
      ]
     },
     "metadata": {},
     "output_type": "display_data"
    },
    {
     "data": {
      "text/html": [
       "<pre>| 9250             | 6m 27s       | 60.75%           |</pre>"
      ],
      "text/plain": [
       "| 9250             | 6m 27s       | 60.75%           |"
      ]
     },
     "metadata": {},
     "output_type": "display_data"
    },
    {
     "data": {
      "text/html": [
       "<pre>| 9500             | 6m 34s       | 62.25%           |</pre>"
      ],
      "text/plain": [
       "| 9500             | 6m 34s       | 62.25%           |"
      ]
     },
     "metadata": {},
     "output_type": "display_data"
    },
    {
     "data": {
      "text/html": [
       "<pre>| 9750             | 6m 51s       | 64%              |</pre>"
      ],
      "text/plain": [
       "| 9750             | 6m 51s       | 64%              |"
      ]
     },
     "metadata": {},
     "output_type": "display_data"
    },
    {
     "data": {
      "text/html": [
       "<pre>| 10000            | 7m 1s        | 65.5%            |</pre>"
      ],
      "text/plain": [
       "| 10000            | 7m 1s        | 65.5%            |"
      ]
     },
     "metadata": {},
     "output_type": "display_data"
    },
    {
     "data": {
      "text/html": [
       "<pre>| 10250            | 7m 9s        | 67.25%           |</pre>"
      ],
      "text/plain": [
       "| 10250            | 7m 9s        | 67.25%           |"
      ]
     },
     "metadata": {},
     "output_type": "display_data"
    },
    {
     "data": {
      "text/html": [
       "<pre>| 10500            | 7m 27s       | 69%              |</pre>"
      ],
      "text/plain": [
       "| 10500            | 7m 27s       | 69%              |"
      ]
     },
     "metadata": {},
     "output_type": "display_data"
    },
    {
     "data": {
      "text/html": [
       "<pre>| 10750            | 7m 35s       | 70.5%            |</pre>"
      ],
      "text/plain": [
       "| 10750            | 7m 35s       | 70.5%            |"
      ]
     },
     "metadata": {},
     "output_type": "display_data"
    },
    {
     "data": {
      "text/html": [
       "<pre>| 11000            | 7m 44s       | 72.25%           |</pre>"
      ],
      "text/plain": [
       "| 11000            | 7m 44s       | 72.25%           |"
      ]
     },
     "metadata": {},
     "output_type": "display_data"
    },
    {
     "data": {
      "text/html": [
       "<pre>| 11250            | 7m 52s       | 73.75%           |</pre>"
      ],
      "text/plain": [
       "| 11250            | 7m 52s       | 73.75%           |"
      ]
     },
     "metadata": {},
     "output_type": "display_data"
    },
    {
     "data": {
      "text/html": [
       "<pre>| 11500            | 8m 9s        | 75.5%            |</pre>"
      ],
      "text/plain": [
       "| 11500            | 8m 9s        | 75.5%            |"
      ]
     },
     "metadata": {},
     "output_type": "display_data"
    },
    {
     "data": {
      "text/html": [
       "<pre>| 11750            | 8m 18s       | 77%              |</pre>"
      ],
      "text/plain": [
       "| 11750            | 8m 18s       | 77%              |"
      ]
     },
     "metadata": {},
     "output_type": "display_data"
    },
    {
     "data": {
      "text/html": [
       "<pre>| 12000            | 8m 27s       | 78.75%           |</pre>"
      ],
      "text/plain": [
       "| 12000            | 8m 27s       | 78.75%           |"
      ]
     },
     "metadata": {},
     "output_type": "display_data"
    },
    {
     "data": {
      "text/html": [
       "<pre>| 12250            | 8m 35s       | 80.5%            |</pre>"
      ],
      "text/plain": [
       "| 12250            | 8m 35s       | 80.5%            |"
      ]
     },
     "metadata": {},
     "output_type": "display_data"
    },
    {
     "data": {
      "text/html": [
       "<pre>| 12500            | 8m 52s       | 82%              |</pre>"
      ],
      "text/plain": [
       "| 12500            | 8m 52s       | 82%              |"
      ]
     },
     "metadata": {},
     "output_type": "display_data"
    },
    {
     "data": {
      "text/html": [
       "<pre>| 12750            | 9m 1s        | 83.75%           |</pre>"
      ],
      "text/plain": [
       "| 12750            | 9m 1s        | 83.75%           |"
      ]
     },
     "metadata": {},
     "output_type": "display_data"
    },
    {
     "data": {
      "text/html": [
       "<pre>| 13000            | 9m 9s        | 85.25%           |</pre>"
      ],
      "text/plain": [
       "| 13000            | 9m 9s        | 85.25%           |"
      ]
     },
     "metadata": {},
     "output_type": "display_data"
    },
    {
     "data": {
      "text/html": [
       "<pre>| 13250            | 9m 17s       | 87%              |</pre>"
      ],
      "text/plain": [
       "| 13250            | 9m 17s       | 87%              |"
      ]
     },
     "metadata": {},
     "output_type": "display_data"
    },
    {
     "data": {
      "text/html": [
       "<pre>| 13500            | 9m 34s       | 88.5%            |</pre>"
      ],
      "text/plain": [
       "| 13500            | 9m 34s       | 88.5%            |"
      ]
     },
     "metadata": {},
     "output_type": "display_data"
    },
    {
     "data": {
      "text/html": [
       "<pre>| 13750            | 9m 44s       | 90.25%           |</pre>"
      ],
      "text/plain": [
       "| 13750            | 9m 44s       | 90.25%           |"
      ]
     },
     "metadata": {},
     "output_type": "display_data"
    },
    {
     "data": {
      "text/html": [
       "<pre>| 14000            | 9m 52s       | 92%              |</pre>"
      ],
      "text/plain": [
       "| 14000            | 9m 52s       | 92%              |"
      ]
     },
     "metadata": {},
     "output_type": "display_data"
    },
    {
     "data": {
      "text/html": [
       "<pre>| 14250            | 10m 0s       | 93.5%            |</pre>"
      ],
      "text/plain": [
       "| 14250            | 10m 0s       | 93.5%            |"
      ]
     },
     "metadata": {},
     "output_type": "display_data"
    },
    {
     "data": {
      "text/html": [
       "<pre>| 14500            | 10m 18s      | 95.25%           |</pre>"
      ],
      "text/plain": [
       "| 14500            | 10m 18s      | 95.25%           |"
      ]
     },
     "metadata": {},
     "output_type": "display_data"
    },
    {
     "data": {
      "text/html": [
       "<pre>| 14750            | 10m 27s      | 96.75%           |</pre>"
      ],
      "text/plain": [
       "| 14750            | 10m 27s      | 96.75%           |"
      ]
     },
     "metadata": {},
     "output_type": "display_data"
    },
    {
     "data": {
      "text/html": [
       "<pre>| 15000            | 10m 35s      | 98.5%            |</pre>"
      ],
      "text/plain": [
       "| 15000            | 10m 35s      | 98.5%            |"
      ]
     },
     "metadata": {},
     "output_type": "display_data"
    },
    {
     "data": {
      "text/html": [
       "<pre>| 15215            | 10m 41s      | 99.75%           |</pre>"
      ],
      "text/plain": [
       "| 15215            | 10m 41s      | 99.75%           |"
      ]
     },
     "metadata": {},
     "output_type": "display_data"
    },
    {
     "data": {
      "text/html": [
       "<pre>+------------------+--------------+------------------+</pre>"
      ],
      "text/plain": [
       "+------------------+--------------+------------------+"
      ]
     },
     "metadata": {},
     "output_type": "display_data"
    },
    {
     "name": "stdout",
     "output_type": "stream",
     "text": [
      "Using 'image' as feature column\n",
      "Using 'label' as annotations column\n",
      "Downloading https://docs-assets.developer.apple.com/turicreate/models/darknet.params\n",
      "Download completed: /var/folders/50/hks2j__n6jqddg9sljbz01gr0000gn/T/model_cache/darknet.params\n",
      "Setting 'batch_size' to 32\n",
      "Using GPU to create model (AMD Radeon RX 570)\n",
      "Setting 'max_iterations' to 19000\n",
      "+--------------+--------------+--------------+\n",
      "| Iteration    | Loss         | Elapsed Time |\n",
      "+--------------+--------------+--------------+\n",
      "| 1            | 23.789       | 274.6        |\n",
      "| 4            | 23.793       | 287.2        |\n",
      "| 19           | 16.786       | 297.4        |\n",
      "| 22           | 14.348       | 308.8        |\n",
      "| 35           | 12.651       | 319.1        |\n",
      "| 38           | 13.393       | 330.1        |\n",
      "| 52           | 11.899       | 340.7        |\n",
      "| 54           | 11.300       | 351.3        |\n",
      "| 68           | 11.185       | 361.9        |\n",
      "| 71           | 11.073       | 372.9        |\n",
      "| 85           | 9.466        | 393.2        |\n",
      "| 100          | 10.938       | 403.2        |\n",
      "| 103          | 10.989       | 413.5        |\n",
      "| 117          | 9.273        | 430.0        |\n",
      "| 127          | 10.475       | 440.1        |\n",
      "| 133          | 10.596       | 453.5        |\n",
      "| 148          | 8.698        | 463.8        |\n",
      "| 149          | 8.722        | 474.2        |\n",
      "| 163          | 10.439       | 484.5        |\n",
      "| 165          | 10.369       | 494.9        |\n",
      "| 180          | 9.060        | 505.1        |\n",
      "| 184          | 10.061       | 517.4        |\n",
      "| 198          | 10.211       | 534.7        |\n",
      "| 212          | 9.635        | 545.2        |\n",
      "| 215          | 10.243       | 556.5        |\n",
      "| 229          | 9.809        | 572.9        |\n",
      "| 236          | 9.098        | 583.0        |\n",
      "| 246          | 10.185       | 597.0        |\n",
      "| 260          | 9.490        | 607.4        |\n",
      "| 261          | 9.344        | 617.6        |\n",
      "| 276          | 9.849        | 628.5        |\n",
      "| 280          | 9.980        | 639.7        |\n",
      "| 293          | 8.722        | 656.9        |\n",
      "| 307          | 9.762        | 667.1        |\n",
      "| 309          | 9.900        | 677.9        |\n",
      "| 323          | 8.635        | 688.2        |\n",
      "| 326          | 8.350        | 698.4        |\n",
      "| 340          | 9.717        | 708.6        |\n",
      "| 342          | 9.667        | 718.7        |\n",
      "| 355          | 8.407        | 728.7        |\n",
      "| 359          | 8.562        | 740.0        |\n",
      "| 373          | 9.437        | 758.0        |\n",
      "| 388          | 8.475        | 768.3        |\n",
      "| 392          | 9.190        | 779.6        |\n",
      "| 405          | 9.330        | 796.5        |\n",
      "| 419          | 8.480        | 806.9        |\n",
      "| 422          | 9.003        | 817.0        |\n",
      "| 436          | 9.028        | 827.4        |\n",
      "| 437          | 8.949        | 837.7        |\n",
      "| 451          | 8.950        | 847.8        |\n",
      "| 460          | 9.291        | 858.1        |\n",
      "| 474          | 7.879        | 868.8        |\n"
     ]
    }
   ],
   "source": [
    "# Create an object detection model\n",
    "model = tc.one_shot_object_detector.create(starter_images, 'label')"
   ]
  },
  {
   "cell_type": "code",
   "execution_count": null,
   "metadata": {},
   "outputs": [],
   "source": [
    "model"
   ]
  }
 ],
 "metadata": {
  "kernelspec": {
   "display_name": "Python 3",
   "language": "python",
   "name": "python3"
  },
  "language_info": {
   "codemirror_mode": {
    "name": "ipython",
    "version": 3
   },
   "file_extension": ".py",
   "mimetype": "text/x-python",
   "name": "python",
   "nbconvert_exporter": "python",
   "pygments_lexer": "ipython3",
   "version": "3.7.3"
  }
 },
 "nbformat": 4,
 "nbformat_minor": 2
}
