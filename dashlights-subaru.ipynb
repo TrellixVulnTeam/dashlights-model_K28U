{
 "cells": [
  {
   "cell_type": "code",
   "execution_count": 1,
   "metadata": {},
   "outputs": [],
   "source": [
    "# Import libraries\n",
    "import tarfile\n",
    "import urllib\n",
    "import turicreate as tc\n",
    "import os\n",
    "import coremltools\n",
    "tc.config.set_num_gpus(-1)"
   ]
  },
  {
   "cell_type": "code",
   "execution_count": 2,
   "metadata": {},
   "outputs": [],
   "source": [
    "# Specify the data set\n",
    "starter_images =  tc.load_images('colored-dashlights-subaru/')"
   ]
  },
  {
   "cell_type": "code",
   "execution_count": 3,
   "metadata": {},
   "outputs": [],
   "source": [
    "# Clean up labels\n",
    "starter_images['label'] = starter_images['path'].element_slice(26,-4)"
   ]
  },
  {
   "cell_type": "code",
   "execution_count": 4,
   "metadata": {},
   "outputs": [
    {
     "data": {
      "text/html": [
       "<div style=\"max-height:1000px;max-width:1500px;overflow:auto;\"><table frame=\"box\" rules=\"cols\">\n",
       "    <tr>\n",
       "        <th style=\"padding-left: 1em; padding-right: 1em; text-align: center\">path</th>\n",
       "        <th style=\"padding-left: 1em; padding-right: 1em; text-align: center\">image</th>\n",
       "        <th style=\"padding-left: 1em; padding-right: 1em; text-align: center\">label</th>\n",
       "    </tr>\n",
       "    <tr>\n",
       "        <td style=\"padding-left: 1em; padding-right: 1em; text-align: center; vertical-align: top\">colored-dashlights-<br>subaru/ATOIL- ...</td>\n",
       "        <td style=\"padding-left: 1em; padding-right: 1em; text-align: center; vertical-align: top\">Height: 50 Width: 50</td>\n",
       "        <td style=\"padding-left: 1em; padding-right: 1em; text-align: center; vertical-align: top\">ATOIL-<br>TEMP_warning_255_0_0 ...</td>\n",
       "    </tr>\n",
       "    <tr>\n",
       "        <td style=\"padding-left: 1em; padding-right: 1em; text-align: center; vertical-align: top\">colored-dashlights-subaru<br>/AWD_warning_255_0_0.png ...</td>\n",
       "        <td style=\"padding-left: 1em; padding-right: 1em; text-align: center; vertical-align: top\">Height: 50 Width: 50</td>\n",
       "        <td style=\"padding-left: 1em; padding-right: 1em; text-align: center; vertical-align: top\">AWD_warning_255_0_0</td>\n",
       "    </tr>\n",
       "    <tr>\n",
       "        <td style=\"padding-left: 1em; padding-right: 1em; text-align: center; vertical-align: top\">colored-dashlights-subaru<br>/AWD_warning_255_128_ ...</td>\n",
       "        <td style=\"padding-left: 1em; padding-right: 1em; text-align: center; vertical-align: top\">Height: 50 Width: 50</td>\n",
       "        <td style=\"padding-left: 1em; padding-right: 1em; text-align: center; vertical-align: top\">AWD_warning_255_128_0</td>\n",
       "    </tr>\n",
       "    <tr>\n",
       "        <td style=\"padding-left: 1em; padding-right: 1em; text-align: center; vertical-align: top\">colored-dashlights-subaru<br>/AccessKey_warning_25 ...</td>\n",
       "        <td style=\"padding-left: 1em; padding-right: 1em; text-align: center; vertical-align: top\">Height: 50 Width: 50</td>\n",
       "        <td style=\"padding-left: 1em; padding-right: 1em; text-align: center; vertical-align: top\">AccessKey_warning_255_128<br>_0 ...</td>\n",
       "    </tr>\n",
       "    <tr>\n",
       "        <td style=\"padding-left: 1em; padding-right: 1em; text-align: center; vertical-align: top\">colored-dashlights-<br>subaru/Auto-Vehicle-H ...</td>\n",
       "        <td style=\"padding-left: 1em; padding-right: 1em; text-align: center; vertical-align: top\">Height: 50 Width: 50</td>\n",
       "        <td style=\"padding-left: 1em; padding-right: 1em; text-align: center; vertical-align: top\">Auto-Vehicle-Hold-<br>operation-indicator- ...</td>\n",
       "    </tr>\n",
       "    <tr>\n",
       "        <td style=\"padding-left: 1em; padding-right: 1em; text-align: center; vertical-align: top\">colored-dashlights-<br>subaru/Charge-cable- ...</td>\n",
       "        <td style=\"padding-left: 1em; padding-right: 1em; text-align: center; vertical-align: top\">Height: 50 Width: 50</td>\n",
       "        <td style=\"padding-left: 1em; padding-right: 1em; text-align: center; vertical-align: top\">Charge-cable-connection-<br>indicator_255_128_0 ...</td>\n",
       "    </tr>\n",
       "    <tr>\n",
       "        <td style=\"padding-left: 1em; padding-right: 1em; text-align: center; vertical-align: top\">colored-dashlights-<br>subaru/Charge_warning- ...</td>\n",
       "        <td style=\"padding-left: 1em; padding-right: 1em; text-align: center; vertical-align: top\">Height: 50 Width: 50</td>\n",
       "        <td style=\"padding-left: 1em; padding-right: 1em; text-align: center; vertical-align: top\">Charge_warning-<br>light_255_0_0 ...</td>\n",
       "    </tr>\n",
       "    <tr>\n",
       "        <td style=\"padding-left: 1em; padding-right: 1em; text-align: center; vertical-align: top\">colored-dashlights-<br>subaru/Coolant-Temp-Low- ...</td>\n",
       "        <td style=\"padding-left: 1em; padding-right: 1em; text-align: center; vertical-align: top\">Height: 50 Width: 50</td>\n",
       "        <td style=\"padding-left: 1em; padding-right: 1em; text-align: center; vertical-align: top\">Coolant-Temp-Low-High-<br>Indicator-Light_255_0_0 ...</td>\n",
       "    </tr>\n",
       "    <tr>\n",
       "        <td style=\"padding-left: 1em; padding-right: 1em; text-align: center; vertical-align: top\">colored-dashlights-<br>subaru/Depress-brake- ...</td>\n",
       "        <td style=\"padding-left: 1em; padding-right: 1em; text-align: center; vertical-align: top\">Height: 50 Width: 50</td>\n",
       "        <td style=\"padding-left: 1em; padding-right: 1em; text-align: center; vertical-align: top\">Depress-brake-indicator-<br>light_255_128_0 ...</td>\n",
       "    </tr>\n",
       "    <tr>\n",
       "        <td style=\"padding-left: 1em; padding-right: 1em; text-align: center; vertical-align: top\">colored-dashlights-<br>subaru/Door- ...</td>\n",
       "        <td style=\"padding-left: 1em; padding-right: 1em; text-align: center; vertical-align: top\">Height: 50 Width: 50</td>\n",
       "        <td style=\"padding-left: 1em; padding-right: 1em; text-align: center; vertical-align: top\">Door-Open_indicator-<br>light_255_0_0 ...</td>\n",
       "    </tr>\n",
       "</table>\n",
       "[48 rows x 3 columns]<br/>Note: Only the head of the SFrame is printed.<br/>You can use print_rows(num_rows=m, num_columns=n) to print more rows and columns.\n",
       "</div>"
      ],
      "text/plain": [
       "Columns:\n",
       "\tpath\tstr\n",
       "\timage\tImage\n",
       "\tlabel\tstr\n",
       "\n",
       "Rows: 48\n",
       "\n",
       "Data:\n",
       "+-------------------------------+----------------------+\n",
       "|              path             |        image         |\n",
       "+-------------------------------+----------------------+\n",
       "| colored-dashlights-subaru/... | Height: 50 Width: 50 |\n",
       "| colored-dashlights-subaru/... | Height: 50 Width: 50 |\n",
       "| colored-dashlights-subaru/... | Height: 50 Width: 50 |\n",
       "| colored-dashlights-subaru/... | Height: 50 Width: 50 |\n",
       "| colored-dashlights-subaru/... | Height: 50 Width: 50 |\n",
       "| colored-dashlights-subaru/... | Height: 50 Width: 50 |\n",
       "| colored-dashlights-subaru/... | Height: 50 Width: 50 |\n",
       "| colored-dashlights-subaru/... | Height: 50 Width: 50 |\n",
       "| colored-dashlights-subaru/... | Height: 50 Width: 50 |\n",
       "| colored-dashlights-subaru/... | Height: 50 Width: 50 |\n",
       "+-------------------------------+----------------------+\n",
       "+-------------------------------+\n",
       "|             label             |\n",
       "+-------------------------------+\n",
       "|   ATOIL-TEMP_warning_255_0_0  |\n",
       "|      AWD_warning_255_0_0      |\n",
       "|     AWD_warning_255_128_0     |\n",
       "|  AccessKey_warning_255_128_0  |\n",
       "| Auto-Vehicle-Hold-operatio... |\n",
       "| Charge-cable-connection-in... |\n",
       "|  Charge_warning-light_255_0_0 |\n",
       "| Coolant-Temp-Low-High-Indi... |\n",
       "| Depress-brake-indicator-li... |\n",
       "| Door-Open_indicator-light_... |\n",
       "+-------------------------------+\n",
       "[48 rows x 3 columns]\n",
       "Note: Only the head of the SFrame is printed.\n",
       "You can use print_rows(num_rows=m, num_columns=n) to print more rows and columns."
      ]
     },
     "execution_count": 4,
     "metadata": {},
     "output_type": "execute_result"
    }
   ],
   "source": [
    "# Preview starter images sframe\n",
    "starter_images"
   ]
  },
  {
   "cell_type": "code",
   "execution_count": 5,
   "metadata": {},
   "outputs": [],
   "source": [
    "# Load background images\n",
    "# my_backgrounds = tc.SArray('my_custom_backgrounds.sarray')\n",
    "my_backgrounds_sframe = tc.load_images('dashlights-background-images/')"
   ]
  },
  {
   "cell_type": "code",
   "execution_count": 6,
   "metadata": {},
   "outputs": [],
   "source": [
    "my_backgrounds = my_backgrounds_sframe['image']"
   ]
  },
  {
   "cell_type": "code",
   "execution_count": null,
   "metadata": {},
   "outputs": [
    {
     "data": {
      "text/html": [
       "<pre>Augmenting input images using 1 background images.</pre>"
      ],
      "text/plain": [
       "Augmenting input images using 1 background images."
      ]
     },
     "metadata": {},
     "output_type": "display_data"
    },
    {
     "data": {
      "text/html": [
       "<pre>+------------------+--------------+------------------+</pre>"
      ],
      "text/plain": [
       "+------------------+--------------+------------------+"
      ]
     },
     "metadata": {},
     "output_type": "display_data"
    },
    {
     "data": {
      "text/html": [
       "<pre>| Images Augmented | Elapsed Time | Percent Complete |</pre>"
      ],
      "text/plain": [
       "| Images Augmented | Elapsed Time | Percent Complete |"
      ]
     },
     "metadata": {},
     "output_type": "display_data"
    },
    {
     "data": {
      "text/html": [
       "<pre>+------------------+--------------+------------------+</pre>"
      ],
      "text/plain": [
       "+------------------+--------------+------------------+"
      ]
     },
     "metadata": {},
     "output_type": "display_data"
    },
    {
     "data": {
      "text/html": [
       "<pre>| 0                | 1.08s        | 0%               |</pre>"
      ],
      "text/plain": [
       "| 0                | 1.08s        | 0%               |"
      ]
     },
     "metadata": {},
     "output_type": "display_data"
    },
    {
     "data": {
      "text/html": [
       "<pre>| 1                | 2.07s        | 2%               |</pre>"
      ],
      "text/plain": [
       "| 1                | 2.07s        | 2%               |"
      ]
     },
     "metadata": {},
     "output_type": "display_data"
    },
    {
     "data": {
      "text/html": [
       "<pre>| 2                | 3.08s        | 4%               |</pre>"
      ],
      "text/plain": [
       "| 2                | 3.08s        | 4%               |"
      ]
     },
     "metadata": {},
     "output_type": "display_data"
    },
    {
     "data": {
      "text/html": [
       "<pre>| 3                | 4.09s        | 6.25%            |</pre>"
      ],
      "text/plain": [
       "| 3                | 4.09s        | 6.25%            |"
      ]
     },
     "metadata": {},
     "output_type": "display_data"
    },
    {
     "data": {
      "text/html": [
       "<pre>| 4                | 5.11s        | 8.25%            |</pre>"
      ],
      "text/plain": [
       "| 4                | 5.11s        | 8.25%            |"
      ]
     },
     "metadata": {},
     "output_type": "display_data"
    },
    {
     "data": {
      "text/html": [
       "<pre>| 5                | 6.17s        | 10.25%           |</pre>"
      ],
      "text/plain": [
       "| 5                | 6.17s        | 10.25%           |"
      ]
     },
     "metadata": {},
     "output_type": "display_data"
    },
    {
     "data": {
      "text/html": [
       "<pre>| 10               | 11.30s       | 20.75%           |</pre>"
      ],
      "text/plain": [
       "| 10               | 11.30s       | 20.75%           |"
      ]
     },
     "metadata": {},
     "output_type": "display_data"
    },
    {
     "data": {
      "text/html": [
       "<pre>| 15               | 16.38s       | 31.25%           |</pre>"
      ],
      "text/plain": [
       "| 15               | 16.38s       | 31.25%           |"
      ]
     },
     "metadata": {},
     "output_type": "display_data"
    },
    {
     "data": {
      "text/html": [
       "<pre>| 20               | 21.35s       | 41.5%            |</pre>"
      ],
      "text/plain": [
       "| 20               | 21.35s       | 41.5%            |"
      ]
     },
     "metadata": {},
     "output_type": "display_data"
    },
    {
     "data": {
      "text/html": [
       "<pre>| 25               | 26.31s       | 52%              |</pre>"
      ],
      "text/plain": [
       "| 25               | 26.31s       | 52%              |"
      ]
     },
     "metadata": {},
     "output_type": "display_data"
    },
    {
     "data": {
      "text/html": [
       "<pre>| 30               | 31.24s       | 62.5%            |</pre>"
      ],
      "text/plain": [
       "| 30               | 31.24s       | 62.5%            |"
      ]
     },
     "metadata": {},
     "output_type": "display_data"
    },
    {
     "data": {
      "text/html": [
       "<pre>| 35               | 36.17s       | 72.75%           |</pre>"
      ],
      "text/plain": [
       "| 35               | 36.17s       | 72.75%           |"
      ]
     },
     "metadata": {},
     "output_type": "display_data"
    },
    {
     "data": {
      "text/html": [
       "<pre>| 40               | 41.38s       | 83.25%           |</pre>"
      ],
      "text/plain": [
       "| 40               | 41.38s       | 83.25%           |"
      ]
     },
     "metadata": {},
     "output_type": "display_data"
    },
    {
     "data": {
      "text/html": [
       "<pre>| 45               | 46.72s       | 93.75%           |</pre>"
      ],
      "text/plain": [
       "| 45               | 46.72s       | 93.75%           |"
      ]
     },
     "metadata": {},
     "output_type": "display_data"
    },
    {
     "data": {
      "text/html": [
       "<pre>| 47               | 48.74s       | 97.75%           |</pre>"
      ],
      "text/plain": [
       "| 47               | 48.74s       | 97.75%           |"
      ]
     },
     "metadata": {},
     "output_type": "display_data"
    },
    {
     "data": {
      "text/html": [
       "<pre>+------------------+--------------+------------------+</pre>"
      ],
      "text/plain": [
       "+------------------+--------------+------------------+"
      ]
     },
     "metadata": {},
     "output_type": "display_data"
    },
    {
     "name": "stdout",
     "output_type": "stream",
     "text": [
      "Using 'image' as feature column\n",
      "Using 'label' as annotations column\n",
      "Setting 'batch_size' to 16\n",
      "Using GPU to create model (AMD Radeon RX 570)\n",
      "+--------------+--------------+--------------+\n",
      "| Iteration    | Loss         | Elapsed Time |\n",
      "+--------------+--------------+--------------+\n",
      "| 1            | 34.205       | 52.9         |\n",
      "| 3            | 34.061       | 77.5         |\n",
      "| 6            | 33.635       | 107.4        |\n",
      "| 9            | 32.789       | 136.4        |\n",
      "| 11           | 31.113       | 146.4        |\n",
      "| 12           | 29.857       | 171.7        |\n",
      "| 14           | 26.987       | 182.2        |\n",
      "| 15           | 26.151       | 207.1        |\n",
      "| 18           | 24.835       | 236.9        |\n",
      "| 21           | 21.559       | 267.8        |\n",
      "| 24           | 19.317       | 302.0        |\n",
      "| 27           | 17.160       | 336.1        |\n",
      "| 29           | 16.054       | 348.7        |\n",
      "| 30           | 15.467       | 384.6        |\n",
      "| 33           | 14.070       | 424.7        |\n",
      "| 36           | 12.931       | 456.8        |\n",
      "| 39           | 12.074       | 486.9        |\n",
      "| 42           | 11.385       | 520.2        |\n",
      "| 45           | 10.877       | 559.2        |\n",
      "| 48           | 10.483       | 593.1        |\n",
      "| 51           | 10.123       | 625.4        |\n",
      "| 54           | 9.806        | 656.8        |\n",
      "| 57           | 9.637        | 696.9        |\n",
      "| 60           | 9.418        | 735.4        |\n",
      "| 63           | 9.223        | 767.5        |\n",
      "| 66           | 9.165        | 796.4        |\n",
      "| 69           | 9.022        | 836.8        |\n",
      "| 72           | 8.893        | 882.8        |\n",
      "| 75           | 8.836        | 921.1        |\n",
      "| 78           | 8.755        | 950.9        |\n",
      "| 81           | 8.662        | 981.5        |\n",
      "| 84           | 8.619        | 1012.9       |\n",
      "| 87           | 8.592        | 1041.7       |\n",
      "| 90           | 8.584        | 1074.1       |\n",
      "| 92           | 8.556        | 1084.5       |\n",
      "| 93           | 8.536        | 1112.0       |\n",
      "| 96           | 8.485        | 1145.2       |\n",
      "| 99           | 8.450        | 1182.1       |\n",
      "| 102          | 8.422        | 1215.4       |\n",
      "| 105          | 8.421        | 1245.6       |\n",
      "| 107          | 8.409        | 1256.1       |\n",
      "| 108          | 8.402        | 1284.7       |\n",
      "| 111          | 8.423        | 1316.6       |\n",
      "| 114          | 8.406        | 1348.1       |\n",
      "| 117          | 8.450        | 1381.6       |\n",
      "| 120          | 8.479        | 1412.7       |\n",
      "| 123          | 8.431        | 1447.3       |\n",
      "| 126          | 8.449        | 1482.2       |\n",
      "| 128          | 8.434        | 1495.2       |\n",
      "| 129          | 8.430        | 1532.3       |\n",
      "| 132          | 8.391        | 1565.8       |\n",
      "| 135          | 8.376        | 1597.0       |\n",
      "| 138          | 8.355        | 1627.1       |\n",
      "| 141          | 8.355        | 1660.8       |\n",
      "| 144          | 8.358        | 1694.1       |\n",
      "| 147          | 8.373        | 1728.3       |\n",
      "| 150          | 8.332        | 1762.9       |\n",
      "| 153          | 8.318        | 1794.8       |\n",
      "| 156          | 8.300        | 1824.8       |\n",
      "| 159          | 8.277        | 1858.6       |\n",
      "| 162          | 8.310        | 1898.2       |\n",
      "| 165          | 8.290        | 1933.6       |\n",
      "| 168          | 8.315        | 1964.1       |\n",
      "| 171          | 8.301        | 1992.7       |\n",
      "| 174          | 8.283        | 2024.7       |\n",
      "| 177          | 8.314        | 2060.8       |\n",
      "| 180          | 8.311        | 2097.5       |\n",
      "| 183          | 8.337        | 2130.8       |\n",
      "| 186          | 8.292        | 2161.5       |\n",
      "| 189          | 8.269        | 2193.2       |\n",
      "| 192          | 8.256        | 2225.4       |\n",
      "| 195          | 8.240        | 2263.4       |\n",
      "| 198          | 8.279        | 2293.5       |\n",
      "| 201          | 8.258        | 2327.3       |\n",
      "| 204          | 8.260        | 2359.0       |\n",
      "| 207          | 8.276        | 2395.5       |\n",
      "| 210          | 8.249        | 2426.9       |\n",
      "| 213          | 8.245        | 2456.0       |\n",
      "| 216          | 8.253        | 2485.8       |\n",
      "| 219          | 8.256        | 2513.4       |\n",
      "| 222          | 8.260        | 2545.2       |\n",
      "| 225          | 8.270        | 2575.2       |\n",
      "| 228          | 8.256        | 2608.0       |\n",
      "| 231          | 8.226        | 2636.1       |\n",
      "| 234          | 8.218        | 2665.6       |\n",
      "| 237          | 8.252        | 2694.0       |\n",
      "| 240          | 8.229        | 2720.5       |\n",
      "| 242          | 8.215        | 2733.7       |\n",
      "| 243          | 8.213        | 2761.1       |\n",
      "| 246          | 8.230        | 2794.0       |\n",
      "| 249          | 8.240        | 2830.1       |\n",
      "| 252          | 8.251        | 2859.7       |\n",
      "| 255          | 8.233        | 2888.7       |\n",
      "| 258          | 8.218        | 2918.1       |\n",
      "| 260          | 8.208        | 2930.2       |\n",
      "| 261          | 8.220        | 2952.3       |\n",
      "| 264          | 8.205        | 2984.8       |\n",
      "| 267          | 8.217        | 3010.9       |\n",
      "| 269          | 8.221        | 3024.9       |\n",
      "| 270          | 8.218        | 3051.8       |\n",
      "| 273          | 8.210        | 3087.4       |\n",
      "| 276          | 8.225        | 3118.3       |\n",
      "| 279          | 8.226        | 3147.1       |\n",
      "| 282          | 8.224        | 3175.5       |\n",
      "| 285          | 8.237        | 3203.8       |\n",
      "| 288          | 8.221        | 3232.3       |\n",
      "| 291          | 8.219        | 3259.0       |\n",
      "| 294          | 8.198        | 3286.1       |\n"
     ]
    }
   ],
   "source": [
    "# Create an object detection model\n",
    "model = tc.one_shot_object_detector.create(starter_images, 'label', backgrounds=my_backgrounds, batch_size=16, max_iterations=1750)"
   ]
  },
  {
   "cell_type": "code",
   "execution_count": null,
   "metadata": {},
   "outputs": [],
   "source": [
    "model"
   ]
  },
  {
   "cell_type": "code",
   "execution_count": null,
   "metadata": {},
   "outputs": [],
   "source": []
  }
 ],
 "metadata": {
  "kernelspec": {
   "display_name": "Python 3",
   "language": "python",
   "name": "python3"
  },
  "language_info": {
   "codemirror_mode": {
    "name": "ipython",
    "version": 3
   },
   "file_extension": ".py",
   "mimetype": "text/x-python",
   "name": "python",
   "nbconvert_exporter": "python",
   "pygments_lexer": "ipython3",
   "version": "3.6.8"
  }
 },
 "nbformat": 4,
 "nbformat_minor": 2
}
