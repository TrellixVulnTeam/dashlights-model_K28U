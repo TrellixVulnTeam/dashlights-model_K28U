{
 "cells": [
  {
   "cell_type": "code",
   "execution_count": 1,
   "metadata": {},
   "outputs": [],
   "source": [
    "# Import libraries\n",
    "import tarfile\n",
    "import urllib\n",
    "import turicreate as tc\n",
    "import os\n",
    "import coremltools\n",
    "tc.config.set_num_gpus(-1)"
   ]
  },
  {
   "cell_type": "code",
   "execution_count": 2,
   "metadata": {},
   "outputs": [],
   "source": [
    "# Specify the data set\n",
    "starter_images =  tc.load_images('colored-dashlights-subaru/')"
   ]
  },
  {
   "cell_type": "code",
   "execution_count": 3,
   "metadata": {},
   "outputs": [],
   "source": [
    "# Clean up labels\n",
    "starter_images['label'] = starter_images['path'].element_slice(26,-4)"
   ]
  },
  {
   "cell_type": "code",
   "execution_count": 4,
   "metadata": {},
   "outputs": [
    {
     "data": {
      "text/html": [
       "<div style=\"max-height:1000px;max-width:1500px;overflow:auto;\"><table frame=\"box\" rules=\"cols\">\n",
       "    <tr>\n",
       "        <th style=\"padding-left: 1em; padding-right: 1em; text-align: center\">path</th>\n",
       "        <th style=\"padding-left: 1em; padding-right: 1em; text-align: center\">image</th>\n",
       "        <th style=\"padding-left: 1em; padding-right: 1em; text-align: center\">label</th>\n",
       "    </tr>\n",
       "    <tr>\n",
       "        <td style=\"padding-left: 1em; padding-right: 1em; text-align: center; vertical-align: top\">colored-dashlights-<br>subaru/ABS-Warning- ...</td>\n",
       "        <td style=\"padding-left: 1em; padding-right: 1em; text-align: center; vertical-align: top\">Height: 50 Width: 50</td>\n",
       "        <td style=\"padding-left: 1em; padding-right: 1em; text-align: center; vertical-align: top\">ABS-Warning-Indicator-Lig<br>hts_50px_x_50px_0_0_255 ...</td>\n",
       "    </tr>\n",
       "    <tr>\n",
       "        <td style=\"padding-left: 1em; padding-right: 1em; text-align: center; vertical-align: top\">colored-dashlights-<br>subaru/ABS-Warning- ...</td>\n",
       "        <td style=\"padding-left: 1em; padding-right: 1em; text-align: center; vertical-align: top\">Height: 50 Width: 50</td>\n",
       "        <td style=\"padding-left: 1em; padding-right: 1em; text-align: center; vertical-align: top\">ABS-Warning-Indicator-Lig<br>hts_50px_x_50px_255_0_0 ...</td>\n",
       "    </tr>\n",
       "    <tr>\n",
       "        <td style=\"padding-left: 1em; padding-right: 1em; text-align: center; vertical-align: top\">colored-dashlights-<br>subaru/ABS-Warning- ...</td>\n",
       "        <td style=\"padding-left: 1em; padding-right: 1em; text-align: center; vertical-align: top\">Height: 50 Width: 50</td>\n",
       "        <td style=\"padding-left: 1em; padding-right: 1em; text-align: center; vertical-align: top\">ABS-Warning-Indicator-Lig<br>hts_50px_x_50px_255_1 ...</td>\n",
       "    </tr>\n",
       "    <tr>\n",
       "        <td style=\"padding-left: 1em; padding-right: 1em; text-align: center; vertical-align: top\">colored-dashlights-<br>subaru/ATOIL- ...</td>\n",
       "        <td style=\"padding-left: 1em; padding-right: 1em; text-align: center; vertical-align: top\">Height: 50 Width: 50</td>\n",
       "        <td style=\"padding-left: 1em; padding-right: 1em; text-align: center; vertical-align: top\">ATOIL-<br>TEMP_warning_0_0_255 ...</td>\n",
       "    </tr>\n",
       "    <tr>\n",
       "        <td style=\"padding-left: 1em; padding-right: 1em; text-align: center; vertical-align: top\">colored-dashlights-<br>subaru/ATOIL- ...</td>\n",
       "        <td style=\"padding-left: 1em; padding-right: 1em; text-align: center; vertical-align: top\">Height: 50 Width: 50</td>\n",
       "        <td style=\"padding-left: 1em; padding-right: 1em; text-align: center; vertical-align: top\">ATOIL-<br>TEMP_warning_255_0_0 ...</td>\n",
       "    </tr>\n",
       "    <tr>\n",
       "        <td style=\"padding-left: 1em; padding-right: 1em; text-align: center; vertical-align: top\">colored-dashlights-<br>subaru/ATOIL-TEMP_war ...</td>\n",
       "        <td style=\"padding-left: 1em; padding-right: 1em; text-align: center; vertical-align: top\">Height: 50 Width: 50</td>\n",
       "        <td style=\"padding-left: 1em; padding-right: 1em; text-align: center; vertical-align: top\">ATOIL-<br>TEMP_warning_255_128_0 ...</td>\n",
       "    </tr>\n",
       "    <tr>\n",
       "        <td style=\"padding-left: 1em; padding-right: 1em; text-align: center; vertical-align: top\">colored-dashlights-<br>subaru/AVH-on_Indicator- ...</td>\n",
       "        <td style=\"padding-left: 1em; padding-right: 1em; text-align: center; vertical-align: top\">Height: 50 Width: 50</td>\n",
       "        <td style=\"padding-left: 1em; padding-right: 1em; text-align: center; vertical-align: top\">AVH-on_Indicator-<br>Light_0_0_255 ...</td>\n",
       "    </tr>\n",
       "    <tr>\n",
       "        <td style=\"padding-left: 1em; padding-right: 1em; text-align: center; vertical-align: top\">colored-dashlights-<br>subaru/AVH-on_Indicator- ...</td>\n",
       "        <td style=\"padding-left: 1em; padding-right: 1em; text-align: center; vertical-align: top\">Height: 50 Width: 50</td>\n",
       "        <td style=\"padding-left: 1em; padding-right: 1em; text-align: center; vertical-align: top\">AVH-on_Indicator-<br>Light_255_0_0 ...</td>\n",
       "    </tr>\n",
       "    <tr>\n",
       "        <td style=\"padding-left: 1em; padding-right: 1em; text-align: center; vertical-align: top\">colored-dashlights-<br>subaru/AVH-on_Indicator- ...</td>\n",
       "        <td style=\"padding-left: 1em; padding-right: 1em; text-align: center; vertical-align: top\">Height: 50 Width: 50</td>\n",
       "        <td style=\"padding-left: 1em; padding-right: 1em; text-align: center; vertical-align: top\">AVH-on_Indicator-<br>Light_255_128_0 ...</td>\n",
       "    </tr>\n",
       "    <tr>\n",
       "        <td style=\"padding-left: 1em; padding-right: 1em; text-align: center; vertical-align: top\">colored-dashlights-subaru<br>/AWD_warning_0_0_255.png ...</td>\n",
       "        <td style=\"padding-left: 1em; padding-right: 1em; text-align: center; vertical-align: top\">Height: 50 Width: 50</td>\n",
       "        <td style=\"padding-left: 1em; padding-right: 1em; text-align: center; vertical-align: top\">AWD_warning_0_0_255</td>\n",
       "    </tr>\n",
       "</table>\n",
       "[231 rows x 3 columns]<br/>Note: Only the head of the SFrame is printed.<br/>You can use print_rows(num_rows=m, num_columns=n) to print more rows and columns.\n",
       "</div>"
      ],
      "text/plain": [
       "Columns:\n",
       "\tpath\tstr\n",
       "\timage\tImage\n",
       "\tlabel\tstr\n",
       "\n",
       "Rows: 231\n",
       "\n",
       "Data:\n",
       "+-------------------------------+----------------------+\n",
       "|              path             |        image         |\n",
       "+-------------------------------+----------------------+\n",
       "| colored-dashlights-subaru/... | Height: 50 Width: 50 |\n",
       "| colored-dashlights-subaru/... | Height: 50 Width: 50 |\n",
       "| colored-dashlights-subaru/... | Height: 50 Width: 50 |\n",
       "| colored-dashlights-subaru/... | Height: 50 Width: 50 |\n",
       "| colored-dashlights-subaru/... | Height: 50 Width: 50 |\n",
       "| colored-dashlights-subaru/... | Height: 50 Width: 50 |\n",
       "| colored-dashlights-subaru/... | Height: 50 Width: 50 |\n",
       "| colored-dashlights-subaru/... | Height: 50 Width: 50 |\n",
       "| colored-dashlights-subaru/... | Height: 50 Width: 50 |\n",
       "| colored-dashlights-subaru/... | Height: 50 Width: 50 |\n",
       "+-------------------------------+----------------------+\n",
       "+--------------------------------+\n",
       "|             label              |\n",
       "+--------------------------------+\n",
       "| ABS-Warning-Indicator-Ligh...  |\n",
       "| ABS-Warning-Indicator-Ligh...  |\n",
       "| ABS-Warning-Indicator-Ligh...  |\n",
       "|   ATOIL-TEMP_warning_0_0_255   |\n",
       "|   ATOIL-TEMP_warning_255_0_0   |\n",
       "|  ATOIL-TEMP_warning_255_128_0  |\n",
       "| AVH-on_Indicator-Light_0_0_255 |\n",
       "| AVH-on_Indicator-Light_255_0_0 |\n",
       "| AVH-on_Indicator-Light_255...  |\n",
       "|      AWD_warning_0_0_255       |\n",
       "+--------------------------------+\n",
       "[231 rows x 3 columns]\n",
       "Note: Only the head of the SFrame is printed.\n",
       "You can use print_rows(num_rows=m, num_columns=n) to print more rows and columns."
      ]
     },
     "execution_count": 4,
     "metadata": {},
     "output_type": "execute_result"
    }
   ],
   "source": [
    "# Preview starter images sframe\n",
    "starter_images"
   ]
  },
  {
   "cell_type": "code",
   "execution_count": 5,
   "metadata": {},
   "outputs": [],
   "source": [
    "# Load background images\n",
    "# my_backgrounds = tc.SArray('my_custom_backgrounds.sarray')\n",
    "my_backgrounds_sframe = tc.load_images('dashlights-background-images/')"
   ]
  },
  {
   "cell_type": "code",
   "execution_count": 6,
   "metadata": {},
   "outputs": [],
   "source": [
    "my_backgrounds = my_backgrounds_sframe['image']"
   ]
  },
  {
   "cell_type": "code",
   "execution_count": null,
   "metadata": {},
   "outputs": [
    {
     "data": {
      "text/html": [
       "<pre>Augmenting input images using 4 background images.</pre>"
      ],
      "text/plain": [
       "Augmenting input images using 4 background images."
      ]
     },
     "metadata": {},
     "output_type": "display_data"
    },
    {
     "data": {
      "text/html": [
       "<pre>+------------------+--------------+------------------+</pre>"
      ],
      "text/plain": [
       "+------------------+--------------+------------------+"
      ]
     },
     "metadata": {},
     "output_type": "display_data"
    },
    {
     "data": {
      "text/html": [
       "<pre>| Images Augmented | Elapsed Time | Percent Complete |</pre>"
      ],
      "text/plain": [
       "| Images Augmented | Elapsed Time | Percent Complete |"
      ]
     },
     "metadata": {},
     "output_type": "display_data"
    },
    {
     "data": {
      "text/html": [
       "<pre>+------------------+--------------+------------------+</pre>"
      ],
      "text/plain": [
       "+------------------+--------------+------------------+"
      ]
     },
     "metadata": {},
     "output_type": "display_data"
    },
    {
     "data": {
      "text/html": [
       "<pre>| 0                | 1.10s        | 0%               |</pre>"
      ],
      "text/plain": [
       "| 0                | 1.10s        | 0%               |"
      ]
     },
     "metadata": {},
     "output_type": "display_data"
    },
    {
     "data": {
      "text/html": [
       "<pre>| 1                | 2.10s        | 0%               |</pre>"
      ],
      "text/plain": [
       "| 1                | 2.10s        | 0%               |"
      ]
     },
     "metadata": {},
     "output_type": "display_data"
    },
    {
     "data": {
      "text/html": [
       "<pre>| 2                | 3.02s        | 0%               |</pre>"
      ],
      "text/plain": [
       "| 2                | 3.02s        | 0%               |"
      ]
     },
     "metadata": {},
     "output_type": "display_data"
    },
    {
     "data": {
      "text/html": [
       "<pre>| 3                | 4.01s        | 0.25%            |</pre>"
      ],
      "text/plain": [
       "| 3                | 4.01s        | 0.25%            |"
      ]
     },
     "metadata": {},
     "output_type": "display_data"
    },
    {
     "data": {
      "text/html": [
       "<pre>| 4                | 5.05s        | 0.25%            |</pre>"
      ],
      "text/plain": [
       "| 4                | 5.05s        | 0.25%            |"
      ]
     },
     "metadata": {},
     "output_type": "display_data"
    },
    {
     "data": {
      "text/html": [
       "<pre>| 5                | 6.03s        | 0.5%             |</pre>"
      ],
      "text/plain": [
       "| 5                | 6.03s        | 0.5%             |"
      ]
     },
     "metadata": {},
     "output_type": "display_data"
    },
    {
     "data": {
      "text/html": [
       "<pre>| 10               | 10.94s       | 1%               |</pre>"
      ],
      "text/plain": [
       "| 10               | 10.94s       | 1%               |"
      ]
     },
     "metadata": {},
     "output_type": "display_data"
    },
    {
     "data": {
      "text/html": [
       "<pre>| 15               | 15.91s       | 1.5%             |</pre>"
      ],
      "text/plain": [
       "| 15               | 15.91s       | 1.5%             |"
      ]
     },
     "metadata": {},
     "output_type": "display_data"
    },
    {
     "data": {
      "text/html": [
       "<pre>| 20               | 20.87s       | 2%               |</pre>"
      ],
      "text/plain": [
       "| 20               | 20.87s       | 2%               |"
      ]
     },
     "metadata": {},
     "output_type": "display_data"
    },
    {
     "data": {
      "text/html": [
       "<pre>| 25               | 25.83s       | 2.5%             |</pre>"
      ],
      "text/plain": [
       "| 25               | 25.83s       | 2.5%             |"
      ]
     },
     "metadata": {},
     "output_type": "display_data"
    },
    {
     "data": {
      "text/html": [
       "<pre>| 30               | 30.73s       | 3%               |</pre>"
      ],
      "text/plain": [
       "| 30               | 30.73s       | 3%               |"
      ]
     },
     "metadata": {},
     "output_type": "display_data"
    },
    {
     "data": {
      "text/html": [
       "<pre>| 35               | 35.75s       | 3.75%            |</pre>"
      ],
      "text/plain": [
       "| 35               | 35.75s       | 3.75%            |"
      ]
     },
     "metadata": {},
     "output_type": "display_data"
    },
    {
     "data": {
      "text/html": [
       "<pre>| 40               | 40.71s       | 4.25%            |</pre>"
      ],
      "text/plain": [
       "| 40               | 40.71s       | 4.25%            |"
      ]
     },
     "metadata": {},
     "output_type": "display_data"
    },
    {
     "data": {
      "text/html": [
       "<pre>| 45               | 45.78s       | 4.75%            |</pre>"
      ],
      "text/plain": [
       "| 45               | 45.78s       | 4.75%            |"
      ]
     },
     "metadata": {},
     "output_type": "display_data"
    },
    {
     "data": {
      "text/html": [
       "<pre>| 50               | 50.63s       | 5.25%            |</pre>"
      ],
      "text/plain": [
       "| 50               | 50.63s       | 5.25%            |"
      ]
     },
     "metadata": {},
     "output_type": "display_data"
    },
    {
     "data": {
      "text/html": [
       "<pre>| 55               | 55.57s       | 5.75%            |</pre>"
      ],
      "text/plain": [
       "| 55               | 55.57s       | 5.75%            |"
      ]
     },
     "metadata": {},
     "output_type": "display_data"
    },
    {
     "data": {
      "text/html": [
       "<pre>| 60               | 1m 0s        | 6.25%            |</pre>"
      ],
      "text/plain": [
       "| 60               | 1m 0s        | 6.25%            |"
      ]
     },
     "metadata": {},
     "output_type": "display_data"
    },
    {
     "data": {
      "text/html": [
       "<pre>| 65               | 1m 5s        | 7%               |</pre>"
      ],
      "text/plain": [
       "| 65               | 1m 5s        | 7%               |"
      ]
     },
     "metadata": {},
     "output_type": "display_data"
    },
    {
     "data": {
      "text/html": [
       "<pre>| 70               | 1m 10s       | 7.5%             |</pre>"
      ],
      "text/plain": [
       "| 70               | 1m 10s       | 7.5%             |"
      ]
     },
     "metadata": {},
     "output_type": "display_data"
    },
    {
     "data": {
      "text/html": [
       "<pre>| 75               | 1m 14s       | 8%               |</pre>"
      ],
      "text/plain": [
       "| 75               | 1m 14s       | 8%               |"
      ]
     },
     "metadata": {},
     "output_type": "display_data"
    },
    {
     "data": {
      "text/html": [
       "<pre>| 80               | 1m 19s       | 8.5%             |</pre>"
      ],
      "text/plain": [
       "| 80               | 1m 19s       | 8.5%             |"
      ]
     },
     "metadata": {},
     "output_type": "display_data"
    },
    {
     "data": {
      "text/html": [
       "<pre>| 85               | 1m 24s       | 9%               |</pre>"
      ],
      "text/plain": [
       "| 85               | 1m 24s       | 9%               |"
      ]
     },
     "metadata": {},
     "output_type": "display_data"
    },
    {
     "data": {
      "text/html": [
       "<pre>| 90               | 1m 29s       | 9.5%             |</pre>"
      ],
      "text/plain": [
       "| 90               | 1m 29s       | 9.5%             |"
      ]
     },
     "metadata": {},
     "output_type": "display_data"
    },
    {
     "data": {
      "text/html": [
       "<pre>| 95               | 1m 33s       | 10.25%           |</pre>"
      ],
      "text/plain": [
       "| 95               | 1m 33s       | 10.25%           |"
      ]
     },
     "metadata": {},
     "output_type": "display_data"
    },
    {
     "data": {
      "text/html": [
       "<pre>| 100              | 1m 38s       | 10.75%           |</pre>"
      ],
      "text/plain": [
       "| 100              | 1m 38s       | 10.75%           |"
      ]
     },
     "metadata": {},
     "output_type": "display_data"
    },
    {
     "data": {
      "text/html": [
       "<pre>| 105              | 1m 43s       | 11.25%           |</pre>"
      ],
      "text/plain": [
       "| 105              | 1m 43s       | 11.25%           |"
      ]
     },
     "metadata": {},
     "output_type": "display_data"
    },
    {
     "data": {
      "text/html": [
       "<pre>| 110              | 1m 48s       | 11.75%           |</pre>"
      ],
      "text/plain": [
       "| 110              | 1m 48s       | 11.75%           |"
      ]
     },
     "metadata": {},
     "output_type": "display_data"
    },
    {
     "data": {
      "text/html": [
       "<pre>| 115              | 1m 53s       | 12.25%           |</pre>"
      ],
      "text/plain": [
       "| 115              | 1m 53s       | 12.25%           |"
      ]
     },
     "metadata": {},
     "output_type": "display_data"
    },
    {
     "data": {
      "text/html": [
       "<pre>| 120              | 1m 58s       | 12.75%           |</pre>"
      ],
      "text/plain": [
       "| 120              | 1m 58s       | 12.75%           |"
      ]
     },
     "metadata": {},
     "output_type": "display_data"
    },
    {
     "data": {
      "text/html": [
       "<pre>| 125              | 2m 3s        | 13.5%            |</pre>"
      ],
      "text/plain": [
       "| 125              | 2m 3s        | 13.5%            |"
      ]
     },
     "metadata": {},
     "output_type": "display_data"
    },
    {
     "data": {
      "text/html": [
       "<pre>| 130              | 2m 8s        | 14%              |</pre>"
      ],
      "text/plain": [
       "| 130              | 2m 8s        | 14%              |"
      ]
     },
     "metadata": {},
     "output_type": "display_data"
    },
    {
     "data": {
      "text/html": [
       "<pre>| 135              | 2m 13s       | 14.5%            |</pre>"
      ],
      "text/plain": [
       "| 135              | 2m 13s       | 14.5%            |"
      ]
     },
     "metadata": {},
     "output_type": "display_data"
    },
    {
     "data": {
      "text/html": [
       "<pre>| 140              | 2m 18s       | 15%              |</pre>"
      ],
      "text/plain": [
       "| 140              | 2m 18s       | 15%              |"
      ]
     },
     "metadata": {},
     "output_type": "display_data"
    },
    {
     "data": {
      "text/html": [
       "<pre>| 145              | 2m 23s       | 15.5%            |</pre>"
      ],
      "text/plain": [
       "| 145              | 2m 23s       | 15.5%            |"
      ]
     },
     "metadata": {},
     "output_type": "display_data"
    },
    {
     "data": {
      "text/html": [
       "<pre>| 150              | 2m 28s       | 16%              |</pre>"
      ],
      "text/plain": [
       "| 150              | 2m 28s       | 16%              |"
      ]
     },
     "metadata": {},
     "output_type": "display_data"
    },
    {
     "data": {
      "text/html": [
       "<pre>| 155              | 2m 33s       | 16.75%           |</pre>"
      ],
      "text/plain": [
       "| 155              | 2m 33s       | 16.75%           |"
      ]
     },
     "metadata": {},
     "output_type": "display_data"
    },
    {
     "data": {
      "text/html": [
       "<pre>| 160              | 2m 38s       | 17.25%           |</pre>"
      ],
      "text/plain": [
       "| 160              | 2m 38s       | 17.25%           |"
      ]
     },
     "metadata": {},
     "output_type": "display_data"
    },
    {
     "data": {
      "text/html": [
       "<pre>| 165              | 2m 43s       | 17.75%           |</pre>"
      ],
      "text/plain": [
       "| 165              | 2m 43s       | 17.75%           |"
      ]
     },
     "metadata": {},
     "output_type": "display_data"
    },
    {
     "data": {
      "text/html": [
       "<pre>| 170              | 2m 47s       | 18.25%           |</pre>"
      ],
      "text/plain": [
       "| 170              | 2m 47s       | 18.25%           |"
      ]
     },
     "metadata": {},
     "output_type": "display_data"
    },
    {
     "data": {
      "text/html": [
       "<pre>| 175              | 2m 52s       | 18.75%           |</pre>"
      ],
      "text/plain": [
       "| 175              | 2m 52s       | 18.75%           |"
      ]
     },
     "metadata": {},
     "output_type": "display_data"
    },
    {
     "data": {
      "text/html": [
       "<pre>| 180              | 2m 57s       | 19.25%           |</pre>"
      ],
      "text/plain": [
       "| 180              | 2m 57s       | 19.25%           |"
      ]
     },
     "metadata": {},
     "output_type": "display_data"
    },
    {
     "data": {
      "text/html": [
       "<pre>| 185              | 3m 2s        | 20%              |</pre>"
      ],
      "text/plain": [
       "| 185              | 3m 2s        | 20%              |"
      ]
     },
     "metadata": {},
     "output_type": "display_data"
    },
    {
     "data": {
      "text/html": [
       "<pre>| 190              | 3m 7s        | 20.5%            |</pre>"
      ],
      "text/plain": [
       "| 190              | 3m 7s        | 20.5%            |"
      ]
     },
     "metadata": {},
     "output_type": "display_data"
    },
    {
     "data": {
      "text/html": [
       "<pre>| 195              | 3m 11s       | 21%              |</pre>"
      ],
      "text/plain": [
       "| 195              | 3m 11s       | 21%              |"
      ]
     },
     "metadata": {},
     "output_type": "display_data"
    },
    {
     "data": {
      "text/html": [
       "<pre>| 200              | 3m 16s       | 21.5%            |</pre>"
      ],
      "text/plain": [
       "| 200              | 3m 16s       | 21.5%            |"
      ]
     },
     "metadata": {},
     "output_type": "display_data"
    },
    {
     "data": {
      "text/html": [
       "<pre>| 205              | 3m 21s       | 22%              |</pre>"
      ],
      "text/plain": [
       "| 205              | 3m 21s       | 22%              |"
      ]
     },
     "metadata": {},
     "output_type": "display_data"
    },
    {
     "data": {
      "text/html": [
       "<pre>| 210              | 3m 26s       | 22.5%            |</pre>"
      ],
      "text/plain": [
       "| 210              | 3m 26s       | 22.5%            |"
      ]
     },
     "metadata": {},
     "output_type": "display_data"
    },
    {
     "data": {
      "text/html": [
       "<pre>| 215              | 3m 32s       | 23.25%           |</pre>"
      ],
      "text/plain": [
       "| 215              | 3m 32s       | 23.25%           |"
      ]
     },
     "metadata": {},
     "output_type": "display_data"
    },
    {
     "data": {
      "text/html": [
       "<pre>| 220              | 3m 37s       | 23.75%           |</pre>"
      ],
      "text/plain": [
       "| 220              | 3m 37s       | 23.75%           |"
      ]
     },
     "metadata": {},
     "output_type": "display_data"
    },
    {
     "data": {
      "text/html": [
       "<pre>| 225              | 3m 42s       | 24.25%           |</pre>"
      ],
      "text/plain": [
       "| 225              | 3m 42s       | 24.25%           |"
      ]
     },
     "metadata": {},
     "output_type": "display_data"
    },
    {
     "data": {
      "text/html": [
       "<pre>| 230              | 3m 47s       | 24.75%           |</pre>"
      ],
      "text/plain": [
       "| 230              | 3m 47s       | 24.75%           |"
      ]
     },
     "metadata": {},
     "output_type": "display_data"
    },
    {
     "data": {
      "text/html": [
       "<pre>| 235              | 3m 53s       | 25.25%           |</pre>"
      ],
      "text/plain": [
       "| 235              | 3m 53s       | 25.25%           |"
      ]
     },
     "metadata": {},
     "output_type": "display_data"
    },
    {
     "data": {
      "text/html": [
       "<pre>| 240              | 3m 57s       | 25.75%           |</pre>"
      ],
      "text/plain": [
       "| 240              | 3m 57s       | 25.75%           |"
      ]
     },
     "metadata": {},
     "output_type": "display_data"
    },
    {
     "data": {
      "text/html": [
       "<pre>| 245              | 4m 3s        | 26.5%            |</pre>"
      ],
      "text/plain": [
       "| 245              | 4m 3s        | 26.5%            |"
      ]
     },
     "metadata": {},
     "output_type": "display_data"
    },
    {
     "data": {
      "text/html": [
       "<pre>| 250              | 4m 8s        | 27%              |</pre>"
      ],
      "text/plain": [
       "| 250              | 4m 8s        | 27%              |"
      ]
     },
     "metadata": {},
     "output_type": "display_data"
    },
    {
     "data": {
      "text/html": [
       "<pre>| 255              | 4m 13s       | 27.5%            |</pre>"
      ],
      "text/plain": [
       "| 255              | 4m 13s       | 27.5%            |"
      ]
     },
     "metadata": {},
     "output_type": "display_data"
    },
    {
     "data": {
      "text/html": [
       "<pre>| 260              | 4m 18s       | 28%              |</pre>"
      ],
      "text/plain": [
       "| 260              | 4m 18s       | 28%              |"
      ]
     },
     "metadata": {},
     "output_type": "display_data"
    },
    {
     "data": {
      "text/html": [
       "<pre>| 265              | 4m 23s       | 28.5%            |</pre>"
      ],
      "text/plain": [
       "| 265              | 4m 23s       | 28.5%            |"
      ]
     },
     "metadata": {},
     "output_type": "display_data"
    },
    {
     "data": {
      "text/html": [
       "<pre>| 270              | 4m 28s       | 29%              |</pre>"
      ],
      "text/plain": [
       "| 270              | 4m 28s       | 29%              |"
      ]
     },
     "metadata": {},
     "output_type": "display_data"
    },
    {
     "data": {
      "text/html": [
       "<pre>| 275              | 4m 33s       | 29.75%           |</pre>"
      ],
      "text/plain": [
       "| 275              | 4m 33s       | 29.75%           |"
      ]
     },
     "metadata": {},
     "output_type": "display_data"
    },
    {
     "data": {
      "text/html": [
       "<pre>| 280              | 4m 38s       | 30.25%           |</pre>"
      ],
      "text/plain": [
       "| 280              | 4m 38s       | 30.25%           |"
      ]
     },
     "metadata": {},
     "output_type": "display_data"
    },
    {
     "data": {
      "text/html": [
       "<pre>| 285              | 4m 43s       | 30.75%           |</pre>"
      ],
      "text/plain": [
       "| 285              | 4m 43s       | 30.75%           |"
      ]
     },
     "metadata": {},
     "output_type": "display_data"
    },
    {
     "data": {
      "text/html": [
       "<pre>| 290              | 4m 48s       | 31.25%           |</pre>"
      ],
      "text/plain": [
       "| 290              | 4m 48s       | 31.25%           |"
      ]
     },
     "metadata": {},
     "output_type": "display_data"
    },
    {
     "data": {
      "text/html": [
       "<pre>| 295              | 4m 53s       | 31.75%           |</pre>"
      ],
      "text/plain": [
       "| 295              | 4m 53s       | 31.75%           |"
      ]
     },
     "metadata": {},
     "output_type": "display_data"
    },
    {
     "data": {
      "text/html": [
       "<pre>| 300              | 4m 58s       | 32.25%           |</pre>"
      ],
      "text/plain": [
       "| 300              | 4m 58s       | 32.25%           |"
      ]
     },
     "metadata": {},
     "output_type": "display_data"
    },
    {
     "data": {
      "text/html": [
       "<pre>| 305              | 5m 3s        | 33%              |</pre>"
      ],
      "text/plain": [
       "| 305              | 5m 3s        | 33%              |"
      ]
     },
     "metadata": {},
     "output_type": "display_data"
    },
    {
     "data": {
      "text/html": [
       "<pre>| 310              | 5m 8s        | 33.5%            |</pre>"
      ],
      "text/plain": [
       "| 310              | 5m 8s        | 33.5%            |"
      ]
     },
     "metadata": {},
     "output_type": "display_data"
    },
    {
     "data": {
      "text/html": [
       "<pre>| 315              | 5m 13s       | 34%              |</pre>"
      ],
      "text/plain": [
       "| 315              | 5m 13s       | 34%              |"
      ]
     },
     "metadata": {},
     "output_type": "display_data"
    },
    {
     "data": {
      "text/html": [
       "<pre>| 320              | 5m 17s       | 34.5%            |</pre>"
      ],
      "text/plain": [
       "| 320              | 5m 17s       | 34.5%            |"
      ]
     },
     "metadata": {},
     "output_type": "display_data"
    },
    {
     "data": {
      "text/html": [
       "<pre>| 325              | 5m 22s       | 35%              |</pre>"
      ],
      "text/plain": [
       "| 325              | 5m 22s       | 35%              |"
      ]
     },
     "metadata": {},
     "output_type": "display_data"
    },
    {
     "data": {
      "text/html": [
       "<pre>| 330              | 5m 27s       | 35.5%            |</pre>"
      ],
      "text/plain": [
       "| 330              | 5m 27s       | 35.5%            |"
      ]
     },
     "metadata": {},
     "output_type": "display_data"
    },
    {
     "data": {
      "text/html": [
       "<pre>| 335              | 5m 32s       | 36.25%           |</pre>"
      ],
      "text/plain": [
       "| 335              | 5m 32s       | 36.25%           |"
      ]
     },
     "metadata": {},
     "output_type": "display_data"
    },
    {
     "data": {
      "text/html": [
       "<pre>| 340              | 5m 37s       | 36.75%           |</pre>"
      ],
      "text/plain": [
       "| 340              | 5m 37s       | 36.75%           |"
      ]
     },
     "metadata": {},
     "output_type": "display_data"
    },
    {
     "data": {
      "text/html": [
       "<pre>| 345              | 5m 42s       | 37.25%           |</pre>"
      ],
      "text/plain": [
       "| 345              | 5m 42s       | 37.25%           |"
      ]
     },
     "metadata": {},
     "output_type": "display_data"
    },
    {
     "data": {
      "text/html": [
       "<pre>| 350              | 5m 47s       | 37.75%           |</pre>"
      ],
      "text/plain": [
       "| 350              | 5m 47s       | 37.75%           |"
      ]
     },
     "metadata": {},
     "output_type": "display_data"
    },
    {
     "data": {
      "text/html": [
       "<pre>| 355              | 5m 52s       | 38.25%           |</pre>"
      ],
      "text/plain": [
       "| 355              | 5m 52s       | 38.25%           |"
      ]
     },
     "metadata": {},
     "output_type": "display_data"
    },
    {
     "data": {
      "text/html": [
       "<pre>| 360              | 5m 57s       | 38.75%           |</pre>"
      ],
      "text/plain": [
       "| 360              | 5m 57s       | 38.75%           |"
      ]
     },
     "metadata": {},
     "output_type": "display_data"
    },
    {
     "data": {
      "text/html": [
       "<pre>| 365              | 6m 2s        | 39.5%            |</pre>"
      ],
      "text/plain": [
       "| 365              | 6m 2s        | 39.5%            |"
      ]
     },
     "metadata": {},
     "output_type": "display_data"
    },
    {
     "data": {
      "text/html": [
       "<pre>| 370              | 6m 7s        | 40%              |</pre>"
      ],
      "text/plain": [
       "| 370              | 6m 7s        | 40%              |"
      ]
     },
     "metadata": {},
     "output_type": "display_data"
    },
    {
     "data": {
      "text/html": [
       "<pre>| 375              | 6m 11s       | 40.5%            |</pre>"
      ],
      "text/plain": [
       "| 375              | 6m 11s       | 40.5%            |"
      ]
     },
     "metadata": {},
     "output_type": "display_data"
    },
    {
     "data": {
      "text/html": [
       "<pre>| 380              | 6m 16s       | 41%              |</pre>"
      ],
      "text/plain": [
       "| 380              | 6m 16s       | 41%              |"
      ]
     },
     "metadata": {},
     "output_type": "display_data"
    },
    {
     "data": {
      "text/html": [
       "<pre>| 385              | 6m 21s       | 41.5%            |</pre>"
      ],
      "text/plain": [
       "| 385              | 6m 21s       | 41.5%            |"
      ]
     },
     "metadata": {},
     "output_type": "display_data"
    },
    {
     "data": {
      "text/html": [
       "<pre>| 390              | 6m 26s       | 42%              |</pre>"
      ],
      "text/plain": [
       "| 390              | 6m 26s       | 42%              |"
      ]
     },
     "metadata": {},
     "output_type": "display_data"
    },
    {
     "data": {
      "text/html": [
       "<pre>| 395              | 6m 31s       | 42.5%            |</pre>"
      ],
      "text/plain": [
       "| 395              | 6m 31s       | 42.5%            |"
      ]
     },
     "metadata": {},
     "output_type": "display_data"
    },
    {
     "data": {
      "text/html": [
       "<pre>| 400              | 6m 36s       | 43.25%           |</pre>"
      ],
      "text/plain": [
       "| 400              | 6m 36s       | 43.25%           |"
      ]
     },
     "metadata": {},
     "output_type": "display_data"
    },
    {
     "data": {
      "text/html": [
       "<pre>| 405              | 6m 41s       | 43.75%           |</pre>"
      ],
      "text/plain": [
       "| 405              | 6m 41s       | 43.75%           |"
      ]
     },
     "metadata": {},
     "output_type": "display_data"
    },
    {
     "data": {
      "text/html": [
       "<pre>| 410              | 6m 47s       | 44.25%           |</pre>"
      ],
      "text/plain": [
       "| 410              | 6m 47s       | 44.25%           |"
      ]
     },
     "metadata": {},
     "output_type": "display_data"
    },
    {
     "data": {
      "text/html": [
       "<pre>| 415              | 6m 52s       | 44.75%           |</pre>"
      ],
      "text/plain": [
       "| 415              | 6m 52s       | 44.75%           |"
      ]
     },
     "metadata": {},
     "output_type": "display_data"
    },
    {
     "data": {
      "text/html": [
       "<pre>| 420              | 6m 57s       | 45.25%           |</pre>"
      ],
      "text/plain": [
       "| 420              | 6m 57s       | 45.25%           |"
      ]
     },
     "metadata": {},
     "output_type": "display_data"
    },
    {
     "data": {
      "text/html": [
       "<pre>| 425              | 7m 1s        | 45.75%           |</pre>"
      ],
      "text/plain": [
       "| 425              | 7m 1s        | 45.75%           |"
      ]
     },
     "metadata": {},
     "output_type": "display_data"
    },
    {
     "data": {
      "text/html": [
       "<pre>| 430              | 7m 6s        | 46.5%            |</pre>"
      ],
      "text/plain": [
       "| 430              | 7m 6s        | 46.5%            |"
      ]
     },
     "metadata": {},
     "output_type": "display_data"
    },
    {
     "data": {
      "text/html": [
       "<pre>| 435              | 7m 11s       | 47%              |</pre>"
      ],
      "text/plain": [
       "| 435              | 7m 11s       | 47%              |"
      ]
     },
     "metadata": {},
     "output_type": "display_data"
    },
    {
     "data": {
      "text/html": [
       "<pre>| 440              | 7m 17s       | 47.5%            |</pre>"
      ],
      "text/plain": [
       "| 440              | 7m 17s       | 47.5%            |"
      ]
     },
     "metadata": {},
     "output_type": "display_data"
    },
    {
     "data": {
      "text/html": [
       "<pre>| 445              | 7m 22s       | 48%              |</pre>"
      ],
      "text/plain": [
       "| 445              | 7m 22s       | 48%              |"
      ]
     },
     "metadata": {},
     "output_type": "display_data"
    },
    {
     "data": {
      "text/html": [
       "<pre>| 450              | 7m 27s       | 48.5%            |</pre>"
      ],
      "text/plain": [
       "| 450              | 7m 27s       | 48.5%            |"
      ]
     },
     "metadata": {},
     "output_type": "display_data"
    },
    {
     "data": {
      "text/html": [
       "<pre>| 455              | 7m 31s       | 49%              |</pre>"
      ],
      "text/plain": [
       "| 455              | 7m 31s       | 49%              |"
      ]
     },
     "metadata": {},
     "output_type": "display_data"
    },
    {
     "data": {
      "text/html": [
       "<pre>| 460              | 7m 37s       | 49.75%           |</pre>"
      ],
      "text/plain": [
       "| 460              | 7m 37s       | 49.75%           |"
      ]
     },
     "metadata": {},
     "output_type": "display_data"
    },
    {
     "data": {
      "text/html": [
       "<pre>| 465              | 7m 41s       | 50.25%           |</pre>"
      ],
      "text/plain": [
       "| 465              | 7m 41s       | 50.25%           |"
      ]
     },
     "metadata": {},
     "output_type": "display_data"
    },
    {
     "data": {
      "text/html": [
       "<pre>| 470              | 7m 47s       | 50.75%           |</pre>"
      ],
      "text/plain": [
       "| 470              | 7m 47s       | 50.75%           |"
      ]
     },
     "metadata": {},
     "output_type": "display_data"
    },
    {
     "data": {
      "text/html": [
       "<pre>| 475              | 7m 52s       | 51.25%           |</pre>"
      ],
      "text/plain": [
       "| 475              | 7m 52s       | 51.25%           |"
      ]
     },
     "metadata": {},
     "output_type": "display_data"
    },
    {
     "data": {
      "text/html": [
       "<pre>| 480              | 7m 57s       | 51.75%           |</pre>"
      ],
      "text/plain": [
       "| 480              | 7m 57s       | 51.75%           |"
      ]
     },
     "metadata": {},
     "output_type": "display_data"
    },
    {
     "data": {
      "text/html": [
       "<pre>| 485              | 8m 2s        | 52.25%           |</pre>"
      ],
      "text/plain": [
       "| 485              | 8m 2s        | 52.25%           |"
      ]
     },
     "metadata": {},
     "output_type": "display_data"
    },
    {
     "data": {
      "text/html": [
       "<pre>| 490              | 8m 7s        | 53%              |</pre>"
      ],
      "text/plain": [
       "| 490              | 8m 7s        | 53%              |"
      ]
     },
     "metadata": {},
     "output_type": "display_data"
    },
    {
     "data": {
      "text/html": [
       "<pre>| 495              | 8m 12s       | 53.5%            |</pre>"
      ],
      "text/plain": [
       "| 495              | 8m 12s       | 53.5%            |"
      ]
     },
     "metadata": {},
     "output_type": "display_data"
    },
    {
     "data": {
      "text/html": [
       "<pre>| 500              | 8m 17s       | 54%              |</pre>"
      ],
      "text/plain": [
       "| 500              | 8m 17s       | 54%              |"
      ]
     },
     "metadata": {},
     "output_type": "display_data"
    },
    {
     "data": {
      "text/html": [
       "<pre>| 505              | 8m 22s       | 54.5%            |</pre>"
      ],
      "text/plain": [
       "| 505              | 8m 22s       | 54.5%            |"
      ]
     },
     "metadata": {},
     "output_type": "display_data"
    },
    {
     "data": {
      "text/html": [
       "<pre>| 510              | 8m 27s       | 55%              |</pre>"
      ],
      "text/plain": [
       "| 510              | 8m 27s       | 55%              |"
      ]
     },
     "metadata": {},
     "output_type": "display_data"
    },
    {
     "data": {
      "text/html": [
       "<pre>| 515              | 8m 31s       | 55.5%            |</pre>"
      ],
      "text/plain": [
       "| 515              | 8m 31s       | 55.5%            |"
      ]
     },
     "metadata": {},
     "output_type": "display_data"
    },
    {
     "data": {
      "text/html": [
       "<pre>| 520              | 8m 36s       | 56.25%           |</pre>"
      ],
      "text/plain": [
       "| 520              | 8m 36s       | 56.25%           |"
      ]
     },
     "metadata": {},
     "output_type": "display_data"
    },
    {
     "data": {
      "text/html": [
       "<pre>| 525              | 8m 43s       | 56.75%           |</pre>"
      ],
      "text/plain": [
       "| 525              | 8m 43s       | 56.75%           |"
      ]
     },
     "metadata": {},
     "output_type": "display_data"
    },
    {
     "data": {
      "text/html": [
       "<pre>| 530              | 8m 48s       | 57.25%           |</pre>"
      ],
      "text/plain": [
       "| 530              | 8m 48s       | 57.25%           |"
      ]
     },
     "metadata": {},
     "output_type": "display_data"
    },
    {
     "data": {
      "text/html": [
       "<pre>| 535              | 8m 53s       | 57.75%           |</pre>"
      ],
      "text/plain": [
       "| 535              | 8m 53s       | 57.75%           |"
      ]
     },
     "metadata": {},
     "output_type": "display_data"
    }
   ],
   "source": [
    "# Create an object detection model\n",
    "model = tc.one_shot_object_detector.create(starter_images, 'label', backgrounds=my_backgrounds)"
   ]
  },
  {
   "cell_type": "code",
   "execution_count": null,
   "metadata": {},
   "outputs": [],
   "source": [
    "model"
   ]
  }
 ],
 "metadata": {
  "kernelspec": {
   "display_name": "Python 3",
   "language": "python",
   "name": "python3"
  },
  "language_info": {
   "codemirror_mode": {
    "name": "ipython",
    "version": 3
   },
   "file_extension": ".py",
   "mimetype": "text/x-python",
   "name": "python",
   "nbconvert_exporter": "python",
   "pygments_lexer": "ipython3",
   "version": "3.6.8"
  }
 },
 "nbformat": 4,
 "nbformat_minor": 2
}
