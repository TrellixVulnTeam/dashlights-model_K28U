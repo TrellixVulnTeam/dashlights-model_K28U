{
 "cells": [
  {
   "cell_type": "code",
   "execution_count": null,
   "metadata": {},
   "outputs": [],
   "source": [
    "import os\n",
    "import json\n",
    "import turicreate as tc\n",
    "import pandas as pd\n",
    "import coremltools\n",
    "import numpy as np\n",
    "from PIL import Image"
   ]
  },
  {
   "cell_type": "code",
   "execution_count": null,
   "metadata": {},
   "outputs": [],
   "source": [
    "# Prepare data creation pipeline\n",
    "base_bkgs_path = \"Dashboards/\"\n",
    "icons_path = \"Icons/\"\n",
    "icon_images = [f for f in os.listdir(icons_path) if not f.startswith(\".\")]\n",
    "bkg_images = [f for f in os.listdir(base_bkgs_path) if not f.startswith(\".\")]\n",
    "sizes = [0.4, 0.6, 0.8, 1, 1.2] # different icon sizes to use\n",
    "\n",
    "# Location where training data will get dumped\n",
    "output_images = \"NewTrainingImages/\"\n",
    "\n",
    "# Check initial size of all the icons to start\n",
    "for d in icon_images:\n",
    "    d_path = icons_path + d\n",
    "    i = Image.open(d_path)\n",
    "    print(d_path, i.size)"
   ]
  },
  {
   "cell_type": "code",
   "execution_count": null,
   "metadata": {},
   "outputs": [],
   "source": [
    "def get_icon_positions(icon, bkg, count=1):\n",
    "    icon_w, icon_h = [], []\n",
    "    x_positions, y_positions = [], []\n",
    "    bkg_w, bkg_h = bkg.size\n",
    "    # Rescale our icon to have a couple different sizes\n",
    "    icon_sizes = [tuple([int(s*x) for x in icon.size]) for s in sizes]\n",
    "    for w, h in icon_sizes:\n",
    "        icon_w.extend([w]*count)\n",
    "        icon_h.extend([h]*count)\n",
    "        max_x, max_y = bkg_w-w, bkg_h-h\n",
    "        x_positions.extend(list(np.random.randint(0, max_x, count)))\n",
    "        y_positions.extend(list(np.random.randint(0, max_y, count)))\n",
    "    return icon_h, icon_w, x_positions, y_positions\n",
    "\n",
    "\n",
    "def get_box(icon_w, icon_h, max_x, max_y):\n",
    "    x1, y1 = np.random.randint(0, max_x, 1), np.random.randint(0, max_y, 1)\n",
    "    x2, y2 = x1 + icon_w, y1 + icon_h\n",
    "    return [x1[0], y1[0], x2[0], y2[0]]\n",
    "\n",
    "\n",
    "# check if two boxes intersect\n",
    "def intersects(box, new_box):\n",
    "    box_x1, box_y1, box_x2, box_y2 = box\n",
    "    x1, y1, x2, y2 = new_box\n",
    "    return not (box_x2 < x1 or box_x1 > x2 or box_y1 > y2 or box_y2 < y1)\n",
    "\n",
    "\n",
    "def get_group_icon_positions(icon_group, bkg):\n",
    "    bkg_w, bkg_h = bkg.size\n",
    "    boxes = []\n",
    "    icons = [Image.open(icons_path + icon_images[i]) for i in icon_group]\n",
    "    icon_sizes = [tuple([int(0.6*x) for x in i.size]) for i in icons]\n",
    "    for w, h in icon_sizes:\n",
    "        # set background image boundaries\n",
    "        max_x, max_y = bkg_w-w, bkg_h-h\n",
    "        # get new box coordinates for the icon on the bkg\n",
    "        while True:\n",
    "            new_box = get_box(w, h, max_x, max_y)\n",
    "            for box in boxes:\n",
    "                res = intersects(box, new_box)\n",
    "                if res:\n",
    "                    break\n",
    "                    \n",
    "            else:\n",
    "                break  # only executed if the inner loop did NOT break\n",
    "            print(\"retrying a new icon box\")\n",
    "            continue  # only executed if the inner loop DID break\n",
    "        # append our new box \n",
    "        boxes.append(new_box)\n",
    "    return icon_sizes, boxes"
   ]
  },
  {
   "cell_type": "code",
   "execution_count": null,
   "metadata": {},
   "outputs": [],
   "source": [
    "# Prepare for data augmentation\n",
    "count_per_size = 4\n",
    "annotations = []\n",
    "n = 1\n",
    "\n",
    "# Make synthetic training data\n",
    "for bkg in bkg_images:\n",
    "    if bkg.startswith(\".\"):\n",
    "        continue\n",
    "    \n",
    "    # Load the background image\n",
    "    bkg_path = base_bkgs_path + bkg\n",
    "    bkg_img = Image.open(bkg_path)\n",
    "    bkg_x, bkg_y = bkg_img.size\n",
    "\n",
    "    # Do single icons first\n",
    "    for i in icon_images:\n",
    "        # Load the single icon\n",
    "        i_path = icons_path + i\n",
    "        icon_img = Image.open(i_path)\n",
    "        \n",
    "        # Get an array of random icon positions (top-left corner)\n",
    "        icon_h, icon_w, x_pos, y_pos = get_icon_positions(icon=icon_img, bkg=bkg_img, count=count_per_size)\n",
    "        \n",
    "        # Create synthetic images based on positions\n",
    "        for h, w, x, y in zip(icon_h, icon_w, x_pos, y_pos):\n",
    "            # Make annotation\n",
    "            ann = [{'coordinates': {'height': h, 'width': w, 'x': x+(0.5*w), 'y': y+(0.5*h)}, 'label': i.split(\".png\")[0]}]\n",
    "            # Copy background\n",
    "            bkg_w_icon = bkg_img.copy()\n",
    "            # Adjust icon size\n",
    "            new_icon = icon_img.resize(size=(w, h))\n",
    "            # Paste on the icon\n",
    "            bkg_w_icon.paste(new_icon, (x, y))\n",
    "            output_fp = output_images + str(n) + \".png\"\n",
    "            # Save the image\n",
    "            bkg_w_icon.save(fp=output_fp, format=\"png\")\n",
    "            # Save the annotation data\n",
    "            annotations.append({\n",
    "                \"path\": output_fp, \n",
    "                \"annotations\": ann\n",
    "            })\n",
    "            print(n)\n",
    "            n += 1\n",
    "            \n",
    " \n",
    "    # 24 Groupings of 2-4 icons together on a single background\n",
    "    groups = [np.random.randint(0, len(icon_images) -1, np.random.randint(2, 5, 1)) for r in range(2*len(icon_images))]\n",
    "    # For each group of icons\n",
    "    for group in groups:\n",
    "        # Get sizes and positions\n",
    "        icon_sizes, boxes = get_group_icon_positions(group, bkg_img)\n",
    "        ann = []\n",
    "        bkg_w_icon = bkg_img.copy()\n",
    "        \n",
    "        # For each icon in the group\n",
    "        for i, size, box in zip(group, icon_sizes, boxes):\n",
    "            # Get the icon\n",
    "            icon = Image.open(icons_path + icon_images[i])\n",
    "            icon_w, icon_h = size\n",
    "            # Resize it as needed\n",
    "            new_icon = icon.resize((icon_w, icon_h))\n",
    "            x_pos, y_pos = box[:2]\n",
    "            \n",
    "            # Add icon annotations\n",
    "            annot = {\n",
    "                    'coordinates': {\n",
    "                        'height': icon_h,\n",
    "                        'width': icon_w,\n",
    "                        'x': int(x_pos+(0.5*icon_w)),\n",
    "                        'y': int(y_pos+(0.5*icon_h))\n",
    "                    },\n",
    "                    'label': icon_images[i].split(\".png\")[0]\n",
    "                }\n",
    "            ann.append(annot)\n",
    "            # Paste the icon to the background\n",
    "            bkg_w_icon.paste(new_icon, (x_pos, y_pos))\n",
    "\n",
    "        output_fp = output_images + str(n) + \".png\"\n",
    "        # Save image\n",
    "        bkg_w_icon.save(fp=output_fp, format=\"png\")\n",
    "        # Save annotation data\n",
    "        annotations.append({\n",
    "            \"path\": output_fp, \n",
    "            \"annotations\": ann\n",
    "        })\n",
    "        print(n)\n",
    "        n += 1"
   ]
  },
  {
   "cell_type": "code",
   "execution_count": null,
   "metadata": {},
   "outputs": [],
   "source": [
    "# Save annotations\n",
    "with open(\"annotations.json\", \"w\") as f:\n",
    "    f.write(json.dumps(annotations))"
   ]
  },
  {
   "cell_type": "code",
   "execution_count": null,
   "metadata": {},
   "outputs": [],
   "source": [
    "# Load images and annotations to sframes\n",
    "images = tc.load_images(\"NewTrainingImages\")\n",
    "annots = tc.SFrame(pd.DataFrame(annotations))"
   ]
  },
  {
   "cell_type": "code",
   "execution_count": null,
   "metadata": {},
   "outputs": [],
   "source": [
    "images.head()"
   ]
  },
  {
   "cell_type": "code",
   "execution_count": null,
   "metadata": {},
   "outputs": [],
   "source": [
    "annots.head()"
   ]
  },
  {
   "cell_type": "code",
   "execution_count": null,
   "metadata": {},
   "outputs": [],
   "source": [
    "# Sort them and then join\n",
    "images = images.sort(\"path\")\n",
    "annots = annots.sort(\"path\")\n",
    "\n",
    "images = images.join(annots)"
   ]
  },
  {
   "cell_type": "code",
   "execution_count": null,
   "metadata": {},
   "outputs": [],
   "source": [
    "images.head()"
   ]
  },
  {
   "cell_type": "code",
   "execution_count": null,
   "metadata": {},
   "outputs": [],
   "source": [
    "# Preview the annotations\n",
    "#images['image_w_annotation'] = tc.object_detector.util.draw_bounding_boxes(images['image'], images['annotations'])\n",
    "\n",
    "#images['image_w_annotation'][0].show()"
   ]
  },
  {
   "cell_type": "code",
   "execution_count": null,
   "metadata": {},
   "outputs": [],
   "source": [
    "# Save out sframe to use for training!\n",
    "images[['image', 'path', 'annotations']].save(\"dashlight_images.sframe\")"
   ]
  }
 ],
 "metadata": {
  "kernelspec": {
   "display_name": "conda_mxnet_p36",
   "language": "python",
   "name": "conda_mxnet_p36"
  },
  "language_info": {
   "codemirror_mode": {
    "name": "ipython",
    "version": 3
   },
   "file_extension": ".py",
   "mimetype": "text/x-python",
   "name": "python",
   "nbconvert_exporter": "python",
   "pygments_lexer": "ipython3",
   "version": "3.6.5"
  }
 },
 "nbformat": 4,
 "nbformat_minor": 4
}
